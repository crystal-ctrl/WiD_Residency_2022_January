{
 "cells": [
  {
   "cell_type": "markdown",
   "id": "31aa6ad7-0634-478e-94eb-9d3807785493",
   "metadata": {},
   "source": [
    "# Scraping details from Indeed job posts"
   ]
  },
  {
   "cell_type": "code",
   "execution_count": 1,
   "id": "89074ef0-aae8-4a28-af87-a070a36c030c",
   "metadata": {},
   "outputs": [],
   "source": [
    "import pandas as pd\n",
    "import numpy as np\n",
    "from bs4 import BeautifulSoup as bs\n",
    "import requests\n",
    "from selenium import webdriver\n",
    "from selenium.webdriver.common.keys import Keys\n",
    "from selenium.webdriver.common.by import By\n",
    "import time\n",
    "from tqdm import tqdm # tool to track progress"
   ]
  },
  {
   "cell_type": "code",
   "execution_count": 2,
   "id": "b83fb58e-ca99-49f6-8d84-325a2e114a76",
   "metadata": {},
   "outputs": [
    {
     "data": {
      "text/html": [
       "<div>\n",
       "<style scoped>\n",
       "    .dataframe tbody tr th:only-of-type {\n",
       "        vertical-align: middle;\n",
       "    }\n",
       "\n",
       "    .dataframe tbody tr th {\n",
       "        vertical-align: top;\n",
       "    }\n",
       "\n",
       "    .dataframe thead th {\n",
       "        text-align: right;\n",
       "    }\n",
       "</style>\n",
       "<table border=\"1\" class=\"dataframe\">\n",
       "  <thead>\n",
       "    <tr style=\"text-align: right;\">\n",
       "      <th></th>\n",
       "      <th>title</th>\n",
       "      <th>company</th>\n",
       "      <th>location</th>\n",
       "      <th>job_link</th>\n",
       "    </tr>\n",
       "  </thead>\n",
       "  <tbody>\n",
       "    <tr>\n",
       "      <th>0</th>\n",
       "      <td>Work From Home 100% Virtual - Customer Service...</td>\n",
       "      <td>Amazon Support Services Costa Rica SRL</td>\n",
       "      <td>Remote</td>\n",
       "      <td>https://www.indeed.com/viewjob?jk=1d00f748ae6f...</td>\n",
       "    </tr>\n",
       "    <tr>\n",
       "      <th>1</th>\n",
       "      <td>Recruiting Assistant</td>\n",
       "      <td>Northrop Grumman</td>\n",
       "      <td>Falls Church, VA 22042</td>\n",
       "      <td>https://www.indeed.com/viewjob?jk=28646ed1f674...</td>\n",
       "    </tr>\n",
       "    <tr>\n",
       "      <th>2</th>\n",
       "      <td>Healthcare Customer Service Representative</td>\n",
       "      <td>Sutherland</td>\n",
       "      <td>Clifton, NJ 07015</td>\n",
       "      <td>https://www.indeed.com/viewjob?jk=deda26e36053...</td>\n",
       "    </tr>\n",
       "    <tr>\n",
       "      <th>3</th>\n",
       "      <td>Marketing Researcher (100% Remote)</td>\n",
       "      <td>The Mom Project</td>\n",
       "      <td>Remote</td>\n",
       "      <td>https://www.indeed.com/viewjob?jk=6eea105877ec...</td>\n",
       "    </tr>\n",
       "    <tr>\n",
       "      <th>4</th>\n",
       "      <td>Geylang/Jalan Besar Babysitting/Cleaning Job</td>\n",
       "      <td>MEIDE Singapore</td>\n",
       "      <td>Remote</td>\n",
       "      <td>https://www.indeed.com/viewjob?jk=e849860c73fc...</td>\n",
       "    </tr>\n",
       "  </tbody>\n",
       "</table>\n",
       "</div>"
      ],
      "text/plain": [
       "                                               title  \\\n",
       "0  Work From Home 100% Virtual - Customer Service...   \n",
       "1                               Recruiting Assistant   \n",
       "2         Healthcare Customer Service Representative   \n",
       "3                 Marketing Researcher (100% Remote)   \n",
       "4       Geylang/Jalan Besar Babysitting/Cleaning Job   \n",
       "\n",
       "                                  company                location  \\\n",
       "0  Amazon Support Services Costa Rica SRL                  Remote   \n",
       "1                        Northrop Grumman  Falls Church, VA 22042   \n",
       "2                              Sutherland       Clifton, NJ 07015   \n",
       "3                         The Mom Project                  Remote   \n",
       "4                         MEIDE Singapore                  Remote   \n",
       "\n",
       "                                            job_link  \n",
       "0  https://www.indeed.com/viewjob?jk=1d00f748ae6f...  \n",
       "1  https://www.indeed.com/viewjob?jk=28646ed1f674...  \n",
       "2  https://www.indeed.com/viewjob?jk=deda26e36053...  \n",
       "3  https://www.indeed.com/viewjob?jk=6eea105877ec...  \n",
       "4  https://www.indeed.com/viewjob?jk=e849860c73fc...  "
      ]
     },
     "execution_count": 2,
     "metadata": {},
     "output_type": "execute_result"
    }
   ],
   "source": [
    "df = pd.read_csv('../Data/indeed_remote_jobs.csv')\n",
    "df.head()"
   ]
  },
  {
   "cell_type": "code",
   "execution_count": 3,
   "id": "1f576cb2-c80c-406a-9b78-f08e184d98f0",
   "metadata": {},
   "outputs": [
    {
     "name": "stdout",
     "output_type": "stream",
     "text": [
      "<class 'pandas.core.frame.DataFrame'>\n",
      "RangeIndex: 6056 entries, 0 to 6055\n",
      "Data columns (total 4 columns):\n",
      " #   Column    Non-Null Count  Dtype \n",
      "---  ------    --------------  ----- \n",
      " 0   title     6056 non-null   object\n",
      " 1   company   6056 non-null   object\n",
      " 2   location  6056 non-null   object\n",
      " 3   job_link  6056 non-null   object\n",
      "dtypes: object(4)\n",
      "memory usage: 189.4+ KB\n"
     ]
    }
   ],
   "source": [
    "df.info()"
   ]
  },
  {
   "cell_type": "code",
   "execution_count": 4,
   "id": "83d819c8-f732-4b6d-9724-3ec89399c620",
   "metadata": {},
   "outputs": [
    {
     "data": {
      "text/plain": [
       "(1481, 4)"
      ]
     },
     "execution_count": 4,
     "metadata": {},
     "output_type": "execute_result"
    }
   ],
   "source": [
    "df.drop_duplicates(inplace=True)\n",
    "df.shape"
   ]
  },
  {
   "cell_type": "code",
   "execution_count": 7,
   "id": "f72c8382-a1ba-452a-b00e-3dff92b6171d",
   "metadata": {},
   "outputs": [],
   "source": [
    "detail_list=[]\n",
    "for url in tqdm(df.job_link):\n",
    "    chromedriver = \"/Applications/chromedriver\" # path to the chromedriver executable\n",
    "    driver = webdriver.Chrome(chromedriver)\n",
    "    driver.get(url)\n",
    "#     try:\n",
    "#         driver.find_element(By.XPATH, \"//*[contains(text(), 'This job has expired on Indeed')]\")\n",
    "#         expire = True\n",
    "#     except:\n",
    "#         expire = False\n",
    "    try:\n",
    "        desc = driver.find_element(By.ID, \"jobDescriptionText\")\n",
    "        desc = desc.text.split(\"\\n\")\n",
    "    except:\n",
    "        desc = np.nan\n",
    "    try:\n",
    "        detail = driver.find_element(By.ID, \"jobDetailsSection\")\n",
    "        detail = detail.text.split(\"\\n\")\n",
    "    except:\n",
    "        detail = np.nan\n",
    "\n",
    "    detail_dict = {\"job_link\": url, \"detail\": detail, \"description\": desc}\n",
    "    detail_list.append(detail_dict)\n",
    "    driver.quit()\n",
    "    time.sleep(3)\n"
   ]
  },
  {
   "cell_type": "code",
   "execution_count": 8,
   "id": "c8e72d84-2586-4ad7-b574-0cd8d99647be",
   "metadata": {},
   "outputs": [
    {
     "name": "stderr",
     "output_type": "stream",
     "text": [
      "100%|██████████| 624/624 [1:34:50<00:00,  9.12s/it]   \n"
     ]
    }
   ],
   "source": [
    "for url in tqdm(df.job_link[857:]):\n",
    "    chromedriver = \"/Applications/chromedriver\" # path to the chromedriver executable\n",
    "    driver = webdriver.Chrome(chromedriver)\n",
    "    driver.get(url)\n",
    "#     try:\n",
    "#         driver.find_element(By.XPATH, \"//*[contains(text(), 'This job has expired on Indeed')]\")\n",
    "#         expire = True\n",
    "#     except:\n",
    "#         expire = False\n",
    "    try:\n",
    "        desc = driver.find_element(By.ID, \"jobDescriptionText\")\n",
    "        desc = desc.text.split(\"\\n\")\n",
    "    except:\n",
    "        desc = np.nan\n",
    "    try:\n",
    "        detail = driver.find_element(By.ID, \"jobDetailsSection\")\n",
    "        detail = detail.text.split(\"\\n\")\n",
    "    except:\n",
    "        detail = np.nan\n",
    "\n",
    "    detail_dict = {\"job_link\": url, \"detail\": detail, \"description\": desc}\n",
    "    detail_list.append(detail_dict)\n",
    "    driver.quit()\n",
    "    time.sleep(3)"
   ]
  },
  {
   "cell_type": "code",
   "execution_count": 9,
   "id": "c8afb3b4-9709-41b1-b2d4-d56ed99a8d70",
   "metadata": {},
   "outputs": [
    {
     "data": {
      "text/plain": [
       "1481"
      ]
     },
     "execution_count": 9,
     "metadata": {},
     "output_type": "execute_result"
    }
   ],
   "source": [
    "len(detail_list)"
   ]
  },
  {
   "cell_type": "code",
   "execution_count": 10,
   "id": "80432832-90ee-4463-a406-8ff14721e47f",
   "metadata": {},
   "outputs": [
    {
     "name": "stdout",
     "output_type": "stream",
     "text": [
      "(1481, 3)\n"
     ]
    },
    {
     "data": {
      "text/html": [
       "<div>\n",
       "<style scoped>\n",
       "    .dataframe tbody tr th:only-of-type {\n",
       "        vertical-align: middle;\n",
       "    }\n",
       "\n",
       "    .dataframe tbody tr th {\n",
       "        vertical-align: top;\n",
       "    }\n",
       "\n",
       "    .dataframe thead th {\n",
       "        text-align: right;\n",
       "    }\n",
       "</style>\n",
       "<table border=\"1\" class=\"dataframe\">\n",
       "  <thead>\n",
       "    <tr style=\"text-align: right;\">\n",
       "      <th></th>\n",
       "      <th>job_link</th>\n",
       "      <th>detail</th>\n",
       "      <th>description</th>\n",
       "    </tr>\n",
       "  </thead>\n",
       "  <tbody>\n",
       "    <tr>\n",
       "      <th>0</th>\n",
       "      <td>https://www.indeed.com/viewjob?jk=1d00f748ae6f...</td>\n",
       "      <td>[Job details, Job Type, Full-time]</td>\n",
       "      <td>[Basic Requirements:, Located at Costa Rica., ...</td>\n",
       "    </tr>\n",
       "    <tr>\n",
       "      <th>1</th>\n",
       "      <td>https://www.indeed.com/viewjob?jk=28646ed1f674...</td>\n",
       "      <td>[Job details, Salary, $46,100 - $76,800 a year...</td>\n",
       "      <td>[Requisition ID: R10030138, Category: Human Re...</td>\n",
       "    </tr>\n",
       "    <tr>\n",
       "      <th>2</th>\n",
       "      <td>https://www.indeed.com/viewjob?jk=deda26e36053...</td>\n",
       "      <td>NaN</td>\n",
       "      <td>[Job Description:, , Sutherland is seeking ent...</td>\n",
       "    </tr>\n",
       "    <tr>\n",
       "      <th>3</th>\n",
       "      <td>https://www.indeed.com/viewjob?jk=6eea105877ec...</td>\n",
       "      <td>[Job details, Job Type, Full-time]</td>\n",
       "      <td>[Our Customer is a business and financial soft...</td>\n",
       "    </tr>\n",
       "    <tr>\n",
       "      <th>4</th>\n",
       "      <td>https://www.indeed.com/viewjob?jk=e849860c73fc...</td>\n",
       "      <td>NaN</td>\n",
       "      <td>NaN</td>\n",
       "    </tr>\n",
       "  </tbody>\n",
       "</table>\n",
       "</div>"
      ],
      "text/plain": [
       "                                            job_link  \\\n",
       "0  https://www.indeed.com/viewjob?jk=1d00f748ae6f...   \n",
       "1  https://www.indeed.com/viewjob?jk=28646ed1f674...   \n",
       "2  https://www.indeed.com/viewjob?jk=deda26e36053...   \n",
       "3  https://www.indeed.com/viewjob?jk=6eea105877ec...   \n",
       "4  https://www.indeed.com/viewjob?jk=e849860c73fc...   \n",
       "\n",
       "                                              detail  \\\n",
       "0                 [Job details, Job Type, Full-time]   \n",
       "1  [Job details, Salary, $46,100 - $76,800 a year...   \n",
       "2                                                NaN   \n",
       "3                 [Job details, Job Type, Full-time]   \n",
       "4                                                NaN   \n",
       "\n",
       "                                         description  \n",
       "0  [Basic Requirements:, Located at Costa Rica., ...  \n",
       "1  [Requisition ID: R10030138, Category: Human Re...  \n",
       "2  [Job Description:, , Sutherland is seeking ent...  \n",
       "3  [Our Customer is a business and financial soft...  \n",
       "4                                                NaN  "
      ]
     },
     "execution_count": 10,
     "metadata": {},
     "output_type": "execute_result"
    }
   ],
   "source": [
    "detail_df = pd.DataFrame(detail_list)\n",
    "print(detail_df.shape)\n",
    "detail_df.head()"
   ]
  },
  {
   "cell_type": "code",
   "execution_count": 11,
   "id": "19293d97-9d31-4205-9795-240f1cbbdda6",
   "metadata": {},
   "outputs": [
    {
     "name": "stdout",
     "output_type": "stream",
     "text": [
      "<class 'pandas.core.frame.DataFrame'>\n",
      "RangeIndex: 1481 entries, 0 to 1480\n",
      "Data columns (total 3 columns):\n",
      " #   Column       Non-Null Count  Dtype \n",
      "---  ------       --------------  ----- \n",
      " 0   job_link     1481 non-null   object\n",
      " 1   detail       1289 non-null   object\n",
      " 2   description  1477 non-null   object\n",
      "dtypes: object(3)\n",
      "memory usage: 34.8+ KB\n"
     ]
    }
   ],
   "source": [
    "detail_df.info()"
   ]
  },
  {
   "cell_type": "code",
   "execution_count": 12,
   "id": "f1f4565b-e10a-42ba-8e20-6bdbd13544d5",
   "metadata": {},
   "outputs": [],
   "source": [
    "final_df = pd.merge(df, detail_df, on= ['job_link'])"
   ]
  },
  {
   "cell_type": "code",
   "execution_count": 13,
   "id": "0210bf47-3734-43fb-865e-3384c6f6ac23",
   "metadata": {},
   "outputs": [
    {
     "data": {
      "text/html": [
       "<div>\n",
       "<style scoped>\n",
       "    .dataframe tbody tr th:only-of-type {\n",
       "        vertical-align: middle;\n",
       "    }\n",
       "\n",
       "    .dataframe tbody tr th {\n",
       "        vertical-align: top;\n",
       "    }\n",
       "\n",
       "    .dataframe thead th {\n",
       "        text-align: right;\n",
       "    }\n",
       "</style>\n",
       "<table border=\"1\" class=\"dataframe\">\n",
       "  <thead>\n",
       "    <tr style=\"text-align: right;\">\n",
       "      <th></th>\n",
       "      <th>title</th>\n",
       "      <th>company</th>\n",
       "      <th>location</th>\n",
       "      <th>job_link</th>\n",
       "      <th>detail</th>\n",
       "      <th>description</th>\n",
       "    </tr>\n",
       "  </thead>\n",
       "  <tbody>\n",
       "    <tr>\n",
       "      <th>0</th>\n",
       "      <td>Work From Home 100% Virtual - Customer Service...</td>\n",
       "      <td>Amazon Support Services Costa Rica SRL</td>\n",
       "      <td>Remote</td>\n",
       "      <td>https://www.indeed.com/viewjob?jk=1d00f748ae6f...</td>\n",
       "      <td>[Job details, Job Type, Full-time]</td>\n",
       "      <td>[Basic Requirements:, Located at Costa Rica., ...</td>\n",
       "    </tr>\n",
       "    <tr>\n",
       "      <th>1</th>\n",
       "      <td>Recruiting Assistant</td>\n",
       "      <td>Northrop Grumman</td>\n",
       "      <td>Falls Church, VA 22042</td>\n",
       "      <td>https://www.indeed.com/viewjob?jk=28646ed1f674...</td>\n",
       "      <td>[Job details, Salary, $46,100 - $76,800 a year...</td>\n",
       "      <td>[Requisition ID: R10030138, Category: Human Re...</td>\n",
       "    </tr>\n",
       "    <tr>\n",
       "      <th>2</th>\n",
       "      <td>Healthcare Customer Service Representative</td>\n",
       "      <td>Sutherland</td>\n",
       "      <td>Clifton, NJ 07015</td>\n",
       "      <td>https://www.indeed.com/viewjob?jk=deda26e36053...</td>\n",
       "      <td>NaN</td>\n",
       "      <td>[Job Description:, , Sutherland is seeking ent...</td>\n",
       "    </tr>\n",
       "    <tr>\n",
       "      <th>3</th>\n",
       "      <td>Marketing Researcher (100% Remote)</td>\n",
       "      <td>The Mom Project</td>\n",
       "      <td>Remote</td>\n",
       "      <td>https://www.indeed.com/viewjob?jk=6eea105877ec...</td>\n",
       "      <td>[Job details, Job Type, Full-time]</td>\n",
       "      <td>[Our Customer is a business and financial soft...</td>\n",
       "    </tr>\n",
       "    <tr>\n",
       "      <th>4</th>\n",
       "      <td>Geylang/Jalan Besar Babysitting/Cleaning Job</td>\n",
       "      <td>MEIDE Singapore</td>\n",
       "      <td>Remote</td>\n",
       "      <td>https://www.indeed.com/viewjob?jk=e849860c73fc...</td>\n",
       "      <td>NaN</td>\n",
       "      <td>NaN</td>\n",
       "    </tr>\n",
       "    <tr>\n",
       "      <th>...</th>\n",
       "      <td>...</td>\n",
       "      <td>...</td>\n",
       "      <td>...</td>\n",
       "      <td>...</td>\n",
       "      <td>...</td>\n",
       "      <td>...</td>\n",
       "    </tr>\n",
       "    <tr>\n",
       "      <th>1476</th>\n",
       "      <td>Biostatistician</td>\n",
       "      <td>Actalent</td>\n",
       "      <td>Philadelphia, PA 19019</td>\n",
       "      <td>https://www.indeed.com/viewjob?jk=9133afd848d1...</td>\n",
       "      <td>[Job details, Salary, $57.50 an hour, Job Type...</td>\n",
       "      <td>[Equivalent Experience, , Description:, Job Su...</td>\n",
       "    </tr>\n",
       "    <tr>\n",
       "      <th>1477</th>\n",
       "      <td>Remote After Training CSR</td>\n",
       "      <td>Aston Carter</td>\n",
       "      <td>Portland, OR 97086</td>\n",
       "      <td>https://www.indeed.com/viewjob?jk=2e85fc7c9988...</td>\n",
       "      <td>[Job details, Salary, $35,360 a year, Job Type...</td>\n",
       "      <td>[Equivalent Experience, , Now hiring for a Cus...</td>\n",
       "    </tr>\n",
       "    <tr>\n",
       "      <th>1478</th>\n",
       "      <td>Loan Officer Assistant (Remote)</td>\n",
       "      <td>Aston Carter</td>\n",
       "      <td>Charleston, SC 29401</td>\n",
       "      <td>https://www.indeed.com/viewjob?jk=0fdd1d55ab5e...</td>\n",
       "      <td>[Job details, Salary, $21 an hour, Job Type, C...</td>\n",
       "      <td>[Equivalent Experience, , I'm currently suppor...</td>\n",
       "    </tr>\n",
       "    <tr>\n",
       "      <th>1479</th>\n",
       "      <td>100% Remote - Sitecore Developer</td>\n",
       "      <td>CyberCoders</td>\n",
       "      <td>New York, NY 10007</td>\n",
       "      <td>https://www.indeed.com/viewjob?jk=3da4e208f1b4...</td>\n",
       "      <td>[Job details, Salary, $100,000 - $130,000 a ye...</td>\n",
       "      <td>[100% Remote - Sitecore Developer, We are a le...</td>\n",
       "    </tr>\n",
       "    <tr>\n",
       "      <th>1480</th>\n",
       "      <td>Full Stack Developer</td>\n",
       "      <td>Actalent</td>\n",
       "      <td>Basking Ridge, NJ 07920</td>\n",
       "      <td>https://www.indeed.com/viewjob?jk=9991292b7bf9...</td>\n",
       "      <td>[Job details, Salary, $67.50 an hour, Job Type...</td>\n",
       "      <td>[Equivalent Experience, , **NEW FULLSTACK DEVE...</td>\n",
       "    </tr>\n",
       "  </tbody>\n",
       "</table>\n",
       "<p>1481 rows × 6 columns</p>\n",
       "</div>"
      ],
      "text/plain": [
       "                                                  title  \\\n",
       "0     Work From Home 100% Virtual - Customer Service...   \n",
       "1                                  Recruiting Assistant   \n",
       "2            Healthcare Customer Service Representative   \n",
       "3                    Marketing Researcher (100% Remote)   \n",
       "4          Geylang/Jalan Besar Babysitting/Cleaning Job   \n",
       "...                                                 ...   \n",
       "1476                                    Biostatistician   \n",
       "1477                          Remote After Training CSR   \n",
       "1478                    Loan Officer Assistant (Remote)   \n",
       "1479                   100% Remote - Sitecore Developer   \n",
       "1480                               Full Stack Developer   \n",
       "\n",
       "                                     company                 location  \\\n",
       "0     Amazon Support Services Costa Rica SRL                   Remote   \n",
       "1                           Northrop Grumman   Falls Church, VA 22042   \n",
       "2                                 Sutherland        Clifton, NJ 07015   \n",
       "3                            The Mom Project                   Remote   \n",
       "4                            MEIDE Singapore                   Remote   \n",
       "...                                      ...                      ...   \n",
       "1476                                Actalent   Philadelphia, PA 19019   \n",
       "1477                            Aston Carter       Portland, OR 97086   \n",
       "1478                            Aston Carter     Charleston, SC 29401   \n",
       "1479                             CyberCoders       New York, NY 10007   \n",
       "1480                                Actalent  Basking Ridge, NJ 07920   \n",
       "\n",
       "                                               job_link  \\\n",
       "0     https://www.indeed.com/viewjob?jk=1d00f748ae6f...   \n",
       "1     https://www.indeed.com/viewjob?jk=28646ed1f674...   \n",
       "2     https://www.indeed.com/viewjob?jk=deda26e36053...   \n",
       "3     https://www.indeed.com/viewjob?jk=6eea105877ec...   \n",
       "4     https://www.indeed.com/viewjob?jk=e849860c73fc...   \n",
       "...                                                 ...   \n",
       "1476  https://www.indeed.com/viewjob?jk=9133afd848d1...   \n",
       "1477  https://www.indeed.com/viewjob?jk=2e85fc7c9988...   \n",
       "1478  https://www.indeed.com/viewjob?jk=0fdd1d55ab5e...   \n",
       "1479  https://www.indeed.com/viewjob?jk=3da4e208f1b4...   \n",
       "1480  https://www.indeed.com/viewjob?jk=9991292b7bf9...   \n",
       "\n",
       "                                                 detail  \\\n",
       "0                    [Job details, Job Type, Full-time]   \n",
       "1     [Job details, Salary, $46,100 - $76,800 a year...   \n",
       "2                                                   NaN   \n",
       "3                    [Job details, Job Type, Full-time]   \n",
       "4                                                   NaN   \n",
       "...                                                 ...   \n",
       "1476  [Job details, Salary, $57.50 an hour, Job Type...   \n",
       "1477  [Job details, Salary, $35,360 a year, Job Type...   \n",
       "1478  [Job details, Salary, $21 an hour, Job Type, C...   \n",
       "1479  [Job details, Salary, $100,000 - $130,000 a ye...   \n",
       "1480  [Job details, Salary, $67.50 an hour, Job Type...   \n",
       "\n",
       "                                            description  \n",
       "0     [Basic Requirements:, Located at Costa Rica., ...  \n",
       "1     [Requisition ID: R10030138, Category: Human Re...  \n",
       "2     [Job Description:, , Sutherland is seeking ent...  \n",
       "3     [Our Customer is a business and financial soft...  \n",
       "4                                                   NaN  \n",
       "...                                                 ...  \n",
       "1476  [Equivalent Experience, , Description:, Job Su...  \n",
       "1477  [Equivalent Experience, , Now hiring for a Cus...  \n",
       "1478  [Equivalent Experience, , I'm currently suppor...  \n",
       "1479  [100% Remote - Sitecore Developer, We are a le...  \n",
       "1480  [Equivalent Experience, , **NEW FULLSTACK DEVE...  \n",
       "\n",
       "[1481 rows x 6 columns]"
      ]
     },
     "execution_count": 13,
     "metadata": {},
     "output_type": "execute_result"
    }
   ],
   "source": [
    "final_df"
   ]
  },
  {
   "cell_type": "code",
   "execution_count": 14,
   "id": "bb1e783a-a31e-40df-af9c-b525ebe89743",
   "metadata": {},
   "outputs": [],
   "source": [
    "final_df.to_csv('../Data/indeed_remote_jobs_detail.csv',index=False)"
   ]
  },
  {
   "cell_type": "code",
   "execution_count": 15,
   "id": "00a8d5e7-d071-414f-ab76-4669ecb1bb87",
   "metadata": {},
   "outputs": [],
   "source": [
    "#the details and text will be cleaned in a separate notebook"
   ]
  },
  {
   "cell_type": "code",
   "execution_count": null,
   "id": "587b5263-8ecf-4af4-bf1a-98f638fa95d3",
   "metadata": {},
   "outputs": [],
   "source": []
  }
 ],
 "metadata": {
  "kernelspec": {
   "display_name": "Python [conda env:metis] *",
   "language": "python",
   "name": "conda-env-metis-py"
  },
  "language_info": {
   "codemirror_mode": {
    "name": "ipython",
    "version": 3
   },
   "file_extension": ".py",
   "mimetype": "text/x-python",
   "name": "python",
   "nbconvert_exporter": "python",
   "pygments_lexer": "ipython3",
   "version": "3.8.8"
  }
 },
 "nbformat": 4,
 "nbformat_minor": 5
}
