{
 "cells": [
  {
   "cell_type": "markdown",
   "id": "367238eb-cb35-4c36-ae48-56e3f8f0985e",
   "metadata": {},
   "source": [
    "# Scraping Job Postings from LinkedIn"
   ]
  },
  {
   "cell_type": "markdown",
   "id": "2a2fe28b-f74e-492c-b9e1-a981134f1d9d",
   "metadata": {},
   "source": [
    "This code is adapted and modified from the following article: https://maoviola.medium.com/a-complete-guide-to-web-scraping-linkedin-job-postings-ad290fcaa97f and Cohort 2's work."
   ]
  },
  {
   "cell_type": "markdown",
   "id": "492300af-05a3-4624-b058-d7da9e64a6d9",
   "metadata": {},
   "source": [
    "### Data Source "
   ]
  },
  {
   "cell_type": "markdown",
   "id": "8ff7b117-eb39-4be0-8b37-fd120ce84df5",
   "metadata": {},
   "source": [
    "LinkedIn job post board. This data collection is focusing on job posts near Rancho Cardova, California in the past months. <br>\n",
    "This code will focus on **date, job titles, company names, job descriptions, and job criteria**."
   ]
  },
  {
   "cell_type": "markdown",
   "id": "8611a313-5227-44b2-a459-42f16ec8d18a",
   "metadata": {},
   "source": [
    "### Import Libraries"
   ]
  },
  {
   "cell_type": "code",
   "execution_count": 1,
   "id": "bf283ed4-e716-4c7a-a7f4-0a4f10f07ff0",
   "metadata": {},
   "outputs": [],
   "source": [
    "#Import packages\n",
    "import time, os\n",
    "import pandas as pd\n",
    "\n",
    "from selenium import webdriver\n",
    "from selenium.webdriver.common.keys import Keys\n",
    "from selenium.webdriver.support.ui import Select\n",
    "\n",
    "from bs4 import BeautifulSoup as bs\n",
    "import requests\n",
    "import re\n",
    "import pickle\n",
    "\n",
    "#Hide Warnings\n",
    "import warnings\n",
    "warnings.filterwarnings('ignore')"
   ]
  },
  {
   "cell_type": "markdown",
   "id": "3c88984c-04a5-4af3-9496-d49e1d12314d",
   "metadata": {},
   "source": [
    "### Initialize Chromedriver for Selenium"
   ]
  },
  {
   "cell_type": "markdown",
   "id": "1849dbc4-0145-48dd-873e-8346eba51ade",
   "metadata": {},
   "source": [
    "The chromedriver is being used in this case. If you have not previously installed it, you can do so at:\n",
    "https://chromedriver.chromium.org/downloads. <br> \n",
    "Be sure to move the chromedriver to the **Application Folder** for the code below to work. <br>\n",
    "<br>\n",
    "The Selenium functions here are tasked to: <br>\n",
    "- Get the location set to Rancho Cordova\n",
    "- Select 'Past Month' in \"Date Posted\"\n",
    "- Select 'within 10 miles' in \"Distanct\""
   ]
  },
  {
   "cell_type": "code",
   "execution_count": 2,
   "id": "9b32b03a-8a29-4cf2-827e-60568dd8e5ad",
   "metadata": {},
   "outputs": [],
   "source": [
    "# Set up chromedirver\n",
    "chromedriver = \"/Applications/chromedriver\"\n",
    "os.environ[\"webdriver.chrome.driver\"] = chromedriver\n",
    "driver = webdriver.Chrome(chromedriver)\n",
    "source = 'https://www.linkedin.com/jobs'\n",
    "driver.get(source)\n",
    "\n",
    "# Get Location to Rancho Cordova\n",
    "location_box_clear = driver.find_element_by_xpath('//*[@id=\"JOBS\"]/section[2]/button')\n",
    "location_box_clear.click()\n",
    "location_box = driver.find_element_by_xpath('//*[@id=\"JOBS\"]/section[2]/input')\n",
    "location_box.click()\n",
    "location_box.send_keys(\"Rancho Cordova, California, United States\")\n",
    "location_box.send_keys(Keys.RETURN)"
   ]
  },
  {
   "cell_type": "code",
   "execution_count": 4,
   "id": "07a01bbe-4c88-4fe5-a769-24c8626a939c",
   "metadata": {},
   "outputs": [],
   "source": [
    "# Select past month \n",
    "time_dropdown = driver.find_element_by_xpath('//*[@id=\"jserp-filters\"]/ul/li[1]/div/div/button')\n",
    "time_dropdown.click()\n",
    "past_month_button = driver.find_element_by_xpath('//*[@id=\"jserp-filters\"]/ul/li[1]/div/div/div/fieldset/div/div[3]/label')\n",
    "past_month_button.click()\n",
    "time_done_button = driver.find_element_by_xpath('//*[@id=\"jserp-filters\"]/ul/li[1]/div/div/div/button')\n",
    "time_done_button.click()\n",
    "\n",
    "# Pause in action or linkedin will jump to sign in page\n",
    "time.sleep(5)\n",
    "\n",
    "# within 10 miles\n",
    "distance_dropdown = driver.find_element_by_xpath('//*[@id=\"jserp-filters\"]/ul/li[2]/div/div/button')\n",
    "distance_dropdown.click()\n",
    "filter_10mi = driver.find_element_by_xpath('//*[@id=\"jserp-filters\"]/ul/li[2]/div/div/div/fieldset/div/div[1]/label')\n",
    "filter_10mi.click()\n",
    "distance_done_button = driver.find_element_by_xpath('//*[@id=\"jserp-filters\"]/ul/li[2]/div/div/div/button')\n",
    "distance_done_button.click()"
   ]
  },
  {
   "cell_type": "markdown",
   "id": "6debd1dd-415f-4f52-96e3-e0394409f12b",
   "metadata": {},
   "source": [
    "Additional filters can be set with **Company, Salary, Location, Job Type, Experience Level, On-site/Remote**."
   ]
  },
  {
   "cell_type": "markdown",
   "id": "e34fbb2f-2b7f-45a5-a61a-cc52f0857b9a",
   "metadata": {},
   "source": [
    "### How many job posts are associated with the job seach?"
   ]
  },
  {
   "cell_type": "code",
   "execution_count": 5,
   "id": "73f17bb4-4c28-4457-bfcc-e7dc5f7c84dc",
   "metadata": {},
   "outputs": [
    {
     "name": "stdout",
     "output_type": "stream",
     "text": [
      "There are 14,000+ jobs available within 10 miles of Rancho Cordova on LinkedIn over the past month.\n"
     ]
    }
   ],
   "source": [
    "#How many jobs are curently available within 10 miles of Rancho Cordova on LinkedIn\n",
    "no_of_jobs = driver.find_element_by_css_selector('h1>span').get_attribute('innerText')\n",
    "\n",
    "print('There are', no_of_jobs, 'jobs available within 10 miles of Rancho Cordova on LinkedIn over the past month.')"
   ]
  },
  {
   "cell_type": "markdown",
   "id": "2959f044-00b1-472f-8bd1-ab800661bec9",
   "metadata": {},
   "source": [
    "### Show all the jobs"
   ]
  },
  {
   "cell_type": "markdown",
   "id": "9091de29-7fd7-4598-8e42-5f7aea649547",
   "metadata": {},
   "source": [
    "The following segment of code will scroll and click \"Show more job\" until all available job post are showing."
   ]
  },
  {
   "cell_type": "code",
   "execution_count": 6,
   "id": "674188f8-bb8c-4696-9274-bdec3ce0438b",
   "metadata": {},
   "outputs": [
    {
     "name": "stdout",
     "output_type": "stream",
     "text": [
      "no loading button\n",
      "no loading button\n",
      "no loading button\n",
      "no loading button\n",
      "no loading button\n",
      "clicked loading button\n",
      "clicked loading button\n",
      "clicked loading button\n",
      "clicked loading button\n",
      "clicked loading button\n",
      "clicked loading button\n",
      "clicked loading button\n",
      "clicked loading button\n",
      "clicked loading button\n",
      "clicked loading button\n",
      "clicked loading button\n",
      "clicked loading button\n",
      "clicked loading button\n",
      "clicked loading button\n",
      "clicked loading button\n",
      "clicked loading button\n",
      "clicked loading button\n",
      "clicked loading button\n",
      "clicked loading button\n",
      "clicked loading button\n",
      "clicked loading button\n",
      "clicked loading button\n",
      "clicked loading button\n",
      "clicked loading button\n",
      "clicked loading button\n",
      "clicked loading button\n",
      "clicked loading button\n",
      "clicked loading button\n",
      "clicked loading button\n",
      "clicked loading button\n",
      "clicked loading button\n",
      "clicked loading button\n",
      "clicked loading button\n",
      "clicked loading button\n",
      "loading button stopped working\n"
     ]
    }
   ],
   "source": [
    "#Browse all jobs for the search.\n",
    "# Set pause time\n",
    "SCROLL_PAUSE_TIME = 10\n",
    "last_height = driver.execute_script(\"return document.body.scrollHeight\")\n",
    "while True: \n",
    "    #Scroll until hit the see more jobs button.\n",
    "    driver.execute_script('window.scrollTo(0, document.body.scrollHeight);')\n",
    "\n",
    "    # Wait to load page\n",
    "    time.sleep(SCROLL_PAUSE_TIME)\n",
    "    \n",
    "    try:\n",
    "        #Click the see more jobs button and then keep scrolling.\n",
    "        driver.find_element_by_xpath('//*[@id=\"main-content\"]/section/button').click()\n",
    "        time.sleep(15)\n",
    "        print(\"clicked loading button\")\n",
    "    except:\n",
    "        pass\n",
    "        time.sleep(15)\n",
    "        print(\"no loading button\")\n",
    "        \n",
    "    # Calculate new scroll height and compare with last scroll height\n",
    "    new_height = driver.execute_script(\"return document.body.scrollHeight\")\n",
    "    \n",
    "    # Wait to load page\n",
    "    time.sleep(SCROLL_PAUSE_TIME)\n",
    "    \n",
    "    # Stop the scrolling and button clicking if the page isn't loading more jobs\n",
    "    if new_height == last_height:\n",
    "        print(\"loading button stopped working\")\n",
    "        break\n",
    "    last_height = new_height\n",
    "\n",
    "# This can take awhile"
   ]
  },
  {
   "cell_type": "markdown",
   "id": "8d491769-fd0e-4b86-b2d9-2ec3580d94bb",
   "metadata": {},
   "source": [
    "***No more loading with clicking on the button on the webdriver***"
   ]
  },
  {
   "cell_type": "markdown",
   "id": "7351ddb2-5f77-472b-bbaf-9ce0ba5625b7",
   "metadata": {},
   "source": [
    "### Create a list of all jobs in the search"
   ]
  },
  {
   "cell_type": "code",
   "execution_count": 7,
   "id": "4b2601d4-44f9-4b9d-97f1-70f06946f3fc",
   "metadata": {},
   "outputs": [],
   "source": [
    "#Create a list of the jobs.\n",
    "job_lists = driver.find_element_by_class_name('jobs-search__results-list')\n",
    "jobs = job_lists.find_elements_by_tag_name('li')"
   ]
  },
  {
   "cell_type": "code",
   "execution_count": 8,
   "id": "348f073f-eace-415e-9657-df12619380bd",
   "metadata": {},
   "outputs": [
    {
     "name": "stdout",
     "output_type": "stream",
     "text": [
      "998 were collected from the search\n"
     ]
    }
   ],
   "source": [
    "#Test that it collected all jobs.\n",
    "#If it significantly dropped, the sleep.time time may need to be increased to allow:\n",
    "#More loading time or\n",
    "#Not set off restrictions for the site.\n",
    "print(len(jobs), 'were collected from the search')"
   ]
  },
  {
   "cell_type": "markdown",
   "id": "1dcc987a-49f3-415f-afd4-a633b6204ffb",
   "metadata": {},
   "source": [
    "It seems like LinkedIn only lets you get to that amount of job listings (close to the number from previous cohort) <br>\n",
    "Another option is adding more filter for the search to narrow down the search."
   ]
  },
  {
   "cell_type": "markdown",
   "id": "f8ea26fb-3f9b-4c4e-af6a-e73592268708",
   "metadata": {},
   "source": [
    "### Getting Job basic information"
   ]
  },
  {
   "cell_type": "markdown",
   "id": "09c99617-199b-4e62-9459-76c6abca395c",
   "metadata": {},
   "source": [
    "The following steps can be done together, but there is higher risk of the tasks being canceled due to interactions with the the website. Overall, there are fewer errors and everything is completed in less time by breaking it all up."
   ]
  },
  {
   "cell_type": "code",
   "execution_count": 9,
   "id": "752e7399-190d-45a2-bf5c-0dc833985937",
   "metadata": {},
   "outputs": [],
   "source": [
    "#Pull basic information from each job.\n",
    "job_title = []\n",
    "company_name = []\n",
    "date = []\n",
    "job_link = []\n",
    "\n",
    "for job in jobs:\n",
    "    job_title0 = job.find_element_by_css_selector('h3').get_attribute('innerText')\n",
    "    job_title.append(job_title0)\n",
    " \n",
    "    company_name0 = job.find_element_by_css_selector('h4').get_attribute('innerText')\n",
    "    company_name.append(company_name0)\n",
    " \n",
    "    date0 = job.find_element_by_css_selector('div>div>time').get_attribute('datetime')\n",
    "    date.append(date0)\n",
    "    \n",
    "    job_link0 = job.find_element_by_css_selector('a').get_attribute('href')\n",
    "    job_link.append(job_link0)"
   ]
  },
  {
   "cell_type": "code",
   "execution_count": 10,
   "id": "377e6fd3-534e-493f-9147-b8002cd163e3",
   "metadata": {},
   "outputs": [
    {
     "name": "stdout",
     "output_type": "stream",
     "text": [
      "Job Titles: ['Platform Supply Analyst', 'Platform Supply Analyst', 'Supervisor Support Services', 'Communications Specialist', 'Planning Analyst']\n",
      " \n",
      "Company Names: ['Intel Corporation', 'Intel Corporation', 'Kaiser Permanente', 'Dignity Health', 'Intel Corporation']\n",
      " \n",
      "Date: ['2022-01-15', '2022-01-26', '2022-01-10', '2022-02-02', '2022-01-26']\n"
     ]
    }
   ],
   "source": [
    "#See first 5 of each for verification.\n",
    "print('Job Titles:',job_title[:5])\n",
    "print(' ')\n",
    "print('Company Names:',company_name[:5])\n",
    "print(' ')\n",
    "print('Date:', date[:5])"
   ]
  },
  {
   "cell_type": "code",
   "execution_count": 11,
   "id": "45b2597a-82e2-4544-ad2f-daab28b489b9",
   "metadata": {},
   "outputs": [],
   "source": [
    "# Create and save a dataframe of the collected data.\n",
    "job_post_data = pd.DataFrame({'Date': date,\n",
    "                              'Company': company_name,\n",
    "                              'Title': job_title,\n",
    "                              'Job Link': job_link})"
   ]
  },
  {
   "cell_type": "code",
   "execution_count": 12,
   "id": "6f51295b-3586-4188-a377-54e42077628f",
   "metadata": {},
   "outputs": [
    {
     "data": {
      "text/html": [
       "<div>\n",
       "<style scoped>\n",
       "    .dataframe tbody tr th:only-of-type {\n",
       "        vertical-align: middle;\n",
       "    }\n",
       "\n",
       "    .dataframe tbody tr th {\n",
       "        vertical-align: top;\n",
       "    }\n",
       "\n",
       "    .dataframe thead th {\n",
       "        text-align: right;\n",
       "    }\n",
       "</style>\n",
       "<table border=\"1\" class=\"dataframe\">\n",
       "  <thead>\n",
       "    <tr style=\"text-align: right;\">\n",
       "      <th></th>\n",
       "      <th>Date</th>\n",
       "      <th>Company</th>\n",
       "      <th>Title</th>\n",
       "      <th>Job Link</th>\n",
       "    </tr>\n",
       "  </thead>\n",
       "  <tbody>\n",
       "    <tr>\n",
       "      <th>0</th>\n",
       "      <td>2022-01-15</td>\n",
       "      <td>Intel Corporation</td>\n",
       "      <td>Platform Supply Analyst</td>\n",
       "      <td>https://www.linkedin.com/jobs/view/platform-su...</td>\n",
       "    </tr>\n",
       "    <tr>\n",
       "      <th>1</th>\n",
       "      <td>2022-01-26</td>\n",
       "      <td>Intel Corporation</td>\n",
       "      <td>Platform Supply Analyst</td>\n",
       "      <td>https://www.linkedin.com/jobs/view/platform-su...</td>\n",
       "    </tr>\n",
       "    <tr>\n",
       "      <th>2</th>\n",
       "      <td>2022-01-10</td>\n",
       "      <td>Kaiser Permanente</td>\n",
       "      <td>Supervisor Support Services</td>\n",
       "      <td>https://www.linkedin.com/jobs/view/supervisor-...</td>\n",
       "    </tr>\n",
       "    <tr>\n",
       "      <th>3</th>\n",
       "      <td>2022-02-02</td>\n",
       "      <td>Dignity Health</td>\n",
       "      <td>Communications Specialist</td>\n",
       "      <td>https://www.linkedin.com/jobs/view/communicati...</td>\n",
       "    </tr>\n",
       "    <tr>\n",
       "      <th>4</th>\n",
       "      <td>2022-01-26</td>\n",
       "      <td>Intel Corporation</td>\n",
       "      <td>Planning Analyst</td>\n",
       "      <td>https://www.linkedin.com/jobs/view/planning-an...</td>\n",
       "    </tr>\n",
       "  </tbody>\n",
       "</table>\n",
       "</div>"
      ],
      "text/plain": [
       "         Date            Company                        Title  \\\n",
       "0  2022-01-15  Intel Corporation      Platform Supply Analyst   \n",
       "1  2022-01-26  Intel Corporation      Platform Supply Analyst   \n",
       "2  2022-01-10  Kaiser Permanente  Supervisor Support Services   \n",
       "3  2022-02-02     Dignity Health    Communications Specialist   \n",
       "4  2022-01-26  Intel Corporation             Planning Analyst   \n",
       "\n",
       "                                            Job Link  \n",
       "0  https://www.linkedin.com/jobs/view/platform-su...  \n",
       "1  https://www.linkedin.com/jobs/view/platform-su...  \n",
       "2  https://www.linkedin.com/jobs/view/supervisor-...  \n",
       "3  https://www.linkedin.com/jobs/view/communicati...  \n",
       "4  https://www.linkedin.com/jobs/view/planning-an...  "
      ]
     },
     "execution_count": 12,
     "metadata": {},
     "output_type": "execute_result"
    }
   ],
   "source": [
    "job_post_data.head()"
   ]
  },
  {
   "cell_type": "markdown",
   "id": "2a9ff163-d852-4087-944a-a868f43b068b",
   "metadata": {},
   "source": [
    "### Getting more job details"
   ]
  },
  {
   "cell_type": "markdown",
   "id": "f9e5a38d-b3a2-4daa-a561-c669dbc1f216",
   "metadata": {},
   "source": [
    "**Note**: The following code will have longer times in scraping due to time.sleep(), but it helps working around StaleElementReferenceException."
   ]
  },
  {
   "cell_type": "code",
   "execution_count": 13,
   "id": "adba5d1a-73c0-47f2-8ec4-d43dcf702264",
   "metadata": {},
   "outputs": [],
   "source": [
    "#Inital job description and criteria list\n",
    "jd = []\n",
    "cl = []\n",
    "#Get job descriptions and criteria list\n",
    "\n",
    "for job in jobs:\n",
    "        \n",
    "    job.click()\n",
    "    \n",
    "    jd_path = 'show-more-less-html__markup'\n",
    "    detail_path = 'description__job-criteria-list'\n",
    "    \n",
    "    try:\n",
    "        jd0 = driver.find_element_by_class_name(jd_path).get_attribute('innerText')\n",
    "        jd.append(jd0)\n",
    "        details = driver.find_element_by_class_name(detail_path).get_attribute('innerText')\n",
    "        cl.append(details)\n",
    "        time.sleep(20)\n",
    "        \n",
    "    except: # working around StaleElementReferenceException\n",
    "        time.sleep(15)\n",
    "        jd0 = driver.find_element_by_class_name(jd_path).get_attribute('innerText')\n",
    "        jd.append(jd0)\n",
    "        details = driver.find_element_by_class_name(detail_path).get_attribute('innerText')\n",
    "        cl.append(details)\n",
    "        time.sleep(20)\n"
   ]
  },
  {
   "cell_type": "code",
   "execution_count": 14,
   "id": "db9b2374-1f86-4474-97d5-4f1f7a177bda",
   "metadata": {},
   "outputs": [
    {
     "name": "stdout",
     "output_type": "stream",
     "text": [
      "Job Description\n",
      "\n",
      "In this position you will be part of Capacity and Supply Business Planning (CSBP), a team that is responsible for setting and executing Intel's product platform strategies, working with partners across both the internal and external supply chain organizations.\n",
      "\n",
      "A Successful Candidate Will Demonstrate\n",
      "\n",
      "Skills in effectively presenting to and obtaining direction from senior management.\n",
      "\n",
      "Business acumen and understanding of supply line management processes and demand market models.\n",
      "\n",
      "Experience in roles that have required a high degree of adaptability to change.\n",
      "\n",
      "Advanced expertise in Excel (pivot tables, formulas, conditional formatting, etc)\n",
      "\n",
      "Familiarity with Intel Architecture products and customers, an understanding of the broader market drivers and trends.\n",
      "\n",
      "Responsibilities May Include\n",
      "\n",
      "Ensure a high level of service to Intel's customers by understanding customer demand for our products and working closely with Intel's internal and external supply network to align supply and demand.\n",
      "\n",
      "Be the one voice of the consolidated BU demand and build plan data for all partner organizations.\n",
      "\n",
      "Understand demand trends and market movement for Intel product lines, which will inform strategies and decision making to manage the Supply Chain.\n",
      "\n",
      "Set monthly inventory goals in support of the Build Plan reset process.\n",
      "\n",
      "Understand the factory loadings and supply pipeline data, comprehend trends and variability, and analyze improvements to build plan strategies across the Platform.\n",
      "\n",
      "Partner with the finance organization to provide consolidated data on the total build plan and inventory status to inform POR (Plan Of Record) setting.\n",
      "\n",
      "Generate and deliver presentations to management summarizing key findings, conclusions, recommendations, and next steps related to strategies and various supply/demand items.\n",
      "\n",
      "Partner across organizations with internal business teams to identify process improvements to result in best possible support for Intel customers.\n",
      "\n",
      "This position may require flexible working hours in order to meet with global teams.\n",
      "\n",
      "Qualifications\n",
      "\n",
      "You must possess the below minimum qualifications to be initially considered for this position. This position is not eligible for Intel immigration sponsorship.\n",
      "\n",
      "Minimum Qualifications\n",
      "\n",
      "Bachelor's degree in Business Administration, Finance, Supply Chain Management, Marketing, Economics, Engineering, Operations or related field.\n",
      "\n",
      "Inside this Business Group\n",
      "\n",
      "Intel's Sales and Marketing (SMG) organization works with global customers and partners to solve critical business problems with Intel based technology solutions. SMG works across business units to amplify the customer voice and deliver solutions that accelerate their business. We work across numerous industries, including retail, enterprise and government, cloud services and healthcare as examples. The operations team focuses on forecasting, driving alignment with factory production and delivering efficiency tools and our marketing capability drives demand and localized marketing in locations around the globe. Our sales force navigates a complex partner and customer ecosystem while shaping product roadmaps, driving value for our customers, and collaborating to harness emerging technology trends to deliver comprehensive solutions.\n",
      "\n",
      "Other Locations\n",
      "\n",
      "US, Arizona, Phoenix;US, California, Santa Clara;US, Oregon, Hillsboro\n",
      "\n",
      "Intel Corporation will require all new U.S. employees to be fully-vaccinated for Covid-19 as a condition of hire unless they have an approved accommodation in place under applicable law. Newly-hired employees will be required to provide proof of vaccination prior to their start date.\n",
      "\n",
      "Posting Statement\n",
      "\n",
      "All qualified applicants will receive consideration for employment without regard to race, color, religion, religious creed, sex, national origin, ancestry, age, physical or mental disability, medical condition, genetic information, military and veteran status, marital status, pregnancy, gender, gender expression, gender identity, sexual orientation, or any other characteristic protected by local law, regulation, or ordinance.\n",
      "\n",
      "\n",
      "Seniority level\n",
      "Mid-Senior level\n",
      "Employment type\n",
      "Full-time\n",
      "Job function\n",
      "Management and Manufacturing\n",
      "Industries\n",
      "IT Services and IT Consulting, Appliances, Electrical, and Electronics Manufacturing, and Software Development\n"
     ]
    }
   ],
   "source": [
    "# Verify description is correct\n",
    "print(jd[0])\n",
    "print(cl[0])"
   ]
  },
  {
   "cell_type": "code",
   "execution_count": 15,
   "id": "8e5eb9cd-d576-4fb1-973e-45ad2dbd9cf5",
   "metadata": {},
   "outputs": [
    {
     "name": "stdout",
     "output_type": "stream",
     "text": [
      "998\n",
      "1029\n"
     ]
    }
   ],
   "source": [
    "# Verify that new lists are the same length as the df\n",
    "print(len(cl))\n",
    "# print(len(jd))"
   ]
  },
  {
   "cell_type": "code",
   "execution_count": null,
   "id": "90a34431-1454-4b0b-8d7e-a351f68d3d17",
   "metadata": {},
   "outputs": [],
   "source": [
    "# weird that jd has different length, would need some investigation"
   ]
  },
  {
   "cell_type": "code",
   "execution_count": 23,
   "id": "a6566c2d-14b9-416f-987b-ad9df67a8a1b",
   "metadata": {},
   "outputs": [],
   "source": [
    "# job_post_data[\"job_description\"] = jd\n",
    "job_post_data[\"criteria\"] = cl"
   ]
  },
  {
   "cell_type": "code",
   "execution_count": 24,
   "id": "6559e46e-0d0a-43be-a508-edac1b2ebed8",
   "metadata": {},
   "outputs": [
    {
     "data": {
      "text/html": [
       "<div>\n",
       "<style scoped>\n",
       "    .dataframe tbody tr th:only-of-type {\n",
       "        vertical-align: middle;\n",
       "    }\n",
       "\n",
       "    .dataframe tbody tr th {\n",
       "        vertical-align: top;\n",
       "    }\n",
       "\n",
       "    .dataframe thead th {\n",
       "        text-align: right;\n",
       "    }\n",
       "</style>\n",
       "<table border=\"1\" class=\"dataframe\">\n",
       "  <thead>\n",
       "    <tr style=\"text-align: right;\">\n",
       "      <th></th>\n",
       "      <th>Date</th>\n",
       "      <th>Company</th>\n",
       "      <th>Title</th>\n",
       "      <th>Job Link</th>\n",
       "      <th>criteria</th>\n",
       "    </tr>\n",
       "  </thead>\n",
       "  <tbody>\n",
       "    <tr>\n",
       "      <th>0</th>\n",
       "      <td>2022-01-15</td>\n",
       "      <td>Intel Corporation</td>\n",
       "      <td>Platform Supply Analyst</td>\n",
       "      <td>https://www.linkedin.com/jobs/view/platform-su...</td>\n",
       "      <td>Seniority level\\nMid-Senior level\\nEmployment ...</td>\n",
       "    </tr>\n",
       "    <tr>\n",
       "      <th>1</th>\n",
       "      <td>2022-01-26</td>\n",
       "      <td>Intel Corporation</td>\n",
       "      <td>Platform Supply Analyst</td>\n",
       "      <td>https://www.linkedin.com/jobs/view/platform-su...</td>\n",
       "      <td>\\n        \\n          \\n            Seniority ...</td>\n",
       "    </tr>\n",
       "    <tr>\n",
       "      <th>2</th>\n",
       "      <td>2022-01-10</td>\n",
       "      <td>Kaiser Permanente</td>\n",
       "      <td>Supervisor Support Services</td>\n",
       "      <td>https://www.linkedin.com/jobs/view/supervisor-...</td>\n",
       "      <td>\\n        \\n          \\n            Seniority ...</td>\n",
       "    </tr>\n",
       "    <tr>\n",
       "      <th>3</th>\n",
       "      <td>2022-02-02</td>\n",
       "      <td>Dignity Health</td>\n",
       "      <td>Communications Specialist</td>\n",
       "      <td>https://www.linkedin.com/jobs/view/communicati...</td>\n",
       "      <td>\\n        \\n          \\n            Seniority ...</td>\n",
       "    </tr>\n",
       "    <tr>\n",
       "      <th>4</th>\n",
       "      <td>2022-01-26</td>\n",
       "      <td>Intel Corporation</td>\n",
       "      <td>Planning Analyst</td>\n",
       "      <td>https://www.linkedin.com/jobs/view/planning-an...</td>\n",
       "      <td>\\n        \\n          \\n            Seniority ...</td>\n",
       "    </tr>\n",
       "  </tbody>\n",
       "</table>\n",
       "</div>"
      ],
      "text/plain": [
       "         Date            Company                        Title  \\\n",
       "0  2022-01-15  Intel Corporation      Platform Supply Analyst   \n",
       "1  2022-01-26  Intel Corporation      Platform Supply Analyst   \n",
       "2  2022-01-10  Kaiser Permanente  Supervisor Support Services   \n",
       "3  2022-02-02     Dignity Health    Communications Specialist   \n",
       "4  2022-01-26  Intel Corporation             Planning Analyst   \n",
       "\n",
       "                                            Job Link  \\\n",
       "0  https://www.linkedin.com/jobs/view/platform-su...   \n",
       "1  https://www.linkedin.com/jobs/view/platform-su...   \n",
       "2  https://www.linkedin.com/jobs/view/supervisor-...   \n",
       "3  https://www.linkedin.com/jobs/view/communicati...   \n",
       "4  https://www.linkedin.com/jobs/view/planning-an...   \n",
       "\n",
       "                                            criteria  \n",
       "0  Seniority level\\nMid-Senior level\\nEmployment ...  \n",
       "1  \\n        \\n          \\n            Seniority ...  \n",
       "2  \\n        \\n          \\n            Seniority ...  \n",
       "3  \\n        \\n          \\n            Seniority ...  \n",
       "4  \\n        \\n          \\n            Seniority ...  "
      ]
     },
     "execution_count": 24,
     "metadata": {},
     "output_type": "execute_result"
    }
   ],
   "source": [
    "job_post_data.head()"
   ]
  },
  {
   "cell_type": "code",
   "execution_count": 25,
   "id": "2481902d-e20a-456e-94e8-067577316d8d",
   "metadata": {},
   "outputs": [],
   "source": [
    "job_post_data.to_csv('../Data/LinkedIn_Job_Postings_notcleaned.csv', index = False)"
   ]
  },
  {
   "cell_type": "markdown",
   "id": "a8303e49-1d1f-4d7a-b7ce-0fbfe94a4f16",
   "metadata": {},
   "source": [
    "Another notebook will detail the cleaning process for the text columns."
   ]
  },
  {
   "cell_type": "code",
   "execution_count": 26,
   "id": "e9ea1f59-5e1a-4389-94bc-26475869d95d",
   "metadata": {},
   "outputs": [],
   "source": [
    "# close out webdriver\n",
    "driver.quit()"
   ]
  },
  {
   "cell_type": "code",
   "execution_count": null,
   "id": "63464953-4728-460a-973f-4c87c549686e",
   "metadata": {},
   "outputs": [],
   "source": []
  }
 ],
 "metadata": {
  "kernelspec": {
   "display_name": "Python 3 (ipykernel)",
   "language": "python",
   "name": "python3"
  },
  "language_info": {
   "codemirror_mode": {
    "name": "ipython",
    "version": 3
   },
   "file_extension": ".py",
   "mimetype": "text/x-python",
   "name": "python",
   "nbconvert_exporter": "python",
   "pygments_lexer": "ipython3",
   "version": "3.8.12"
  }
 },
 "nbformat": 4,
 "nbformat_minor": 5
}
