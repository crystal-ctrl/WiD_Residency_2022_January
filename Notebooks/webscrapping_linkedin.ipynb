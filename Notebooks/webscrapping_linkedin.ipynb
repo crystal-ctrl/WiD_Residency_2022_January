{
 "cells": [
  {
   "cell_type": "markdown",
   "id": "367238eb-cb35-4c36-ae48-56e3f8f0985e",
   "metadata": {},
   "source": [
    "# Scraping Job Postings from LinkedIn"
   ]
  },
  {
   "cell_type": "code",
   "execution_count": 19,
   "id": "bf283ed4-e716-4c7a-a7f4-0a4f10f07ff0",
   "metadata": {},
   "outputs": [],
   "source": [
    "#Import packages\n",
    "import time, os\n",
    "import pandas as pd\n",
    "\n",
    "from selenium import webdriver\n",
    "from selenium.webdriver.common.keys import Keys\n",
    "from selenium.webdriver.support.ui import Select\n",
    "\n",
    "from bs4 import BeautifulSoup as bs\n",
    "import requests\n",
    "import re\n",
    "import pickle\n",
    "\n",
    "#Hide Warnings\n",
    "import warnings\n",
    "warnings.filterwarnings('ignore')"
   ]
  },
  {
   "cell_type": "code",
   "execution_count": 20,
   "id": "9b32b03a-8a29-4cf2-827e-60568dd8e5ad",
   "metadata": {},
   "outputs": [],
   "source": [
    "chromedriver = \"/Applications/chromedriver\"\n",
    "os.environ[\"webdriver.chrome.driver\"] = chromedriver\n",
    "driver = webdriver.Chrome(chromedriver)\n",
    "source = 'https://www.linkedin.com/jobs'\n",
    "driver.get(source)\n",
    "\n",
    "# Get Location to Rancho Cordova\n",
    "location_box_clear = driver.find_element_by_xpath('//*[@id=\"JOBS\"]/section[2]/button')\n",
    "location_box_clear.click()\n",
    "location_box = driver.find_element_by_xpath('//*[@id=\"JOBS\"]/section[2]/input')\n",
    "location_box.click()\n",
    "location_box.send_keys(\"Rancho Cordova, California, United States\")\n",
    "location_box.send_keys(Keys.RETURN)"
   ]
  },
  {
   "cell_type": "code",
   "execution_count": 21,
   "id": "07a01bbe-4c88-4fe5-a769-24c8626a939c",
   "metadata": {},
   "outputs": [],
   "source": [
    "# past two weeks \n",
    "time_dropdown = driver.find_element_by_xpath('//*[@id=\"jserp-filters\"]/ul/li[1]/div/div/button')\n",
    "time_dropdown.click()\n",
    "past_month_button = driver.find_element_by_xpath('//*[@id=\"jserp-filters\"]/ul/li[1]/div/div/div/fieldset/div/div[3]/label')\n",
    "past_month_button.click()\n",
    "time_done_button = driver.find_element_by_xpath('//*[@id=\"jserp-filters\"]/ul/li[1]/div/div/div/button')\n",
    "time_done_button.click()\n",
    "\n",
    "# pause in action or linkedin will jump to sign in page\n",
    "time.sleep(5)\n",
    "\n",
    "# within 10 miles\n",
    "distance_dropdown = driver.find_element_by_xpath('//*[@id=\"jserp-filters\"]/ul/li[2]/div/div/button')\n",
    "distance_dropdown.click()\n",
    "filter_10mi = driver.find_element_by_xpath('//*[@id=\"jserp-filters\"]/ul/li[2]/div/div/div/fieldset/div/div[1]/label')\n",
    "filter_10mi.click()\n",
    "distance_done_button = driver.find_element_by_xpath('//*[@id=\"jserp-filters\"]/ul/li[2]/div/div/div/button')\n",
    "distance_done_button.click()"
   ]
  },
  {
   "cell_type": "code",
   "execution_count": 17,
   "id": "e0140a03-dc15-4083-8741-ea2213c1be06",
   "metadata": {},
   "outputs": [],
   "source": [
    "## Can specify these later, but for now we'll scrape the first 1000 jobs within 25 miles of RC\n",
    "\n",
    "# Company\n",
    "# Salary\n",
    "# Location\n",
    "# Job Type\n",
    "# Experience Level\n",
    "# On-site/Remote"
   ]
  },
  {
   "cell_type": "code",
   "execution_count": 22,
   "id": "73f17bb4-4c28-4457-bfcc-e7dc5f7c84dc",
   "metadata": {},
   "outputs": [
    {
     "name": "stdout",
     "output_type": "stream",
     "text": [
      "There are 13,000+ jobs available within 10 miles of Rancho Cordova on LinkedIn over the past month.\n"
     ]
    }
   ],
   "source": [
    "#How many jobs are curently available within 10 miles of Rancho Cordova on LinkedIn\n",
    "no_of_jobs = driver.find_element_by_css_selector('h1>span').get_attribute('innerText')\n",
    "\n",
    "print('There are', no_of_jobs, 'jobs available within 10 miles of Rancho Cordova on LinkedIn over the past month.')"
   ]
  },
  {
   "cell_type": "code",
   "execution_count": 27,
   "id": "674188f8-bb8c-4696-9274-bdec3ce0438b",
   "metadata": {},
   "outputs": [
    {
     "name": "stdout",
     "output_type": "stream",
     "text": [
      "clicked loading button\n",
      "clicked loading button\n",
      "clicked loading button\n",
      "clicked loading button\n",
      "clicked loading button\n",
      "clicked loading button\n",
      "clicked loading button\n",
      "clicked loading button\n",
      "clicked loading button\n",
      "clicked loading button\n",
      "clicked loading button\n",
      "clicked loading button\n",
      "clicked loading button\n",
      "clicked loading button\n",
      "clicked loading button\n",
      "clicked loading button\n",
      "clicked loading button\n",
      "clicked loading button\n",
      "clicked loading button\n",
      "clicked loading button\n",
      "clicked loading button\n",
      "clicked loading button\n",
      "clicked loading button\n",
      "clicked loading button\n",
      "clicked loading button\n",
      "clicked loading button\n",
      "clicked loading button\n",
      "clicked loading button\n",
      "clicked loading button\n",
      "clicked loading button\n",
      "clicked loading button\n",
      "clicked loading button\n",
      "clicked loading button\n",
      "clicked loading button\n"
     ]
    }
   ],
   "source": [
    "#Browse all jobs for the search.\n",
    "# Set pause time\n",
    "SCROLL_PAUSE_TIME = 10\n",
    "last_height = driver.execute_script(\"return document.body.scrollHeight\")\n",
    "while True: \n",
    "    #Scroll until hit the see more jobs button.\n",
    "    driver.execute_script('window.scrollTo(0, document.body.scrollHeight);')\n",
    "\n",
    "    # Wait to load page\n",
    "    time.sleep(SCROLL_PAUSE_TIME)\n",
    "    \n",
    "    try:\n",
    "        #Click the see more jobs button and then keep scrolling.\n",
    "        driver.find_element_by_xpath('//*[@id=\"main-content\"]/section/button').click()\n",
    "        time.sleep(15)\n",
    "        print(\"clicked loading button\")\n",
    "    except:\n",
    "        pass\n",
    "        time.sleep(15)\n",
    "        print(\"no loading button\")\n",
    "        \n",
    "    # Calculate new scroll height and compare with last scroll height\n",
    "    new_height = driver.execute_script(\"return document.body.scrollHeight\")\n",
    "    \n",
    "    # Wait to load page\n",
    "    time.sleep(SCROLL_PAUSE_TIME)\n",
    "    \n",
    "    # Stop the scrolling and button clicking if the page isn't loading more jobs\n",
    "    if new_height == last_height:\n",
    "        break\n",
    "    last_height = new_height"
   ]
  },
  {
   "cell_type": "code",
   "execution_count": null,
   "id": "03ef6a00-d2d0-4886-aeba-7ce96ef9ead5",
   "metadata": {},
   "outputs": [],
   "source": [
    "##### Create a list of all jobs in the search."
   ]
  },
  {
   "cell_type": "code",
   "execution_count": 28,
   "id": "4b2601d4-44f9-4b9d-97f1-70f06946f3fc",
   "metadata": {},
   "outputs": [],
   "source": [
    "#Create a list of the jobs.\n",
    "job_lists = driver.find_element_by_class_name('jobs-search__results-list')\n",
    "jobs = job_lists.find_elements_by_tag_name('li')"
   ]
  },
  {
   "cell_type": "code",
   "execution_count": 29,
   "id": "348f073f-eace-415e-9657-df12619380bd",
   "metadata": {},
   "outputs": [
    {
     "name": "stdout",
     "output_type": "stream",
     "text": [
      "998 were collected from the search\n"
     ]
    }
   ],
   "source": [
    "#Test that it collected all jobs.\n",
    "#If it significantly dropped, the sleep.time time may need to be increased to allow:\n",
    "#More loading time or\n",
    "#Not set off restrictions for the site.\n",
    "print(len(jobs), 'were collected from the search')"
   ]
  },
  {
   "cell_type": "code",
   "execution_count": 31,
   "id": "752e7399-190d-45a2-bf5c-0dc833985937",
   "metadata": {},
   "outputs": [],
   "source": [
    "#Pull basic information from each job.\n",
    "job_title = []\n",
    "company_name = []\n",
    "date = []\n",
    "job_link = []\n",
    "\n",
    "for job in jobs:\n",
    "    job_title0 = job.find_element_by_css_selector('h3').get_attribute('innerText')\n",
    "    job_title.append(job_title0)\n",
    " \n",
    "    company_name0 = job.find_element_by_css_selector('h4').get_attribute('innerText')\n",
    "    company_name.append(company_name0)\n",
    " \n",
    "    date0 = job.find_element_by_css_selector('div>div>time').get_attribute('datetime')\n",
    "    date.append(date0)\n",
    "    \n",
    "    job_link0 = job.find_element_by_css_selector('a').get_attribute('href')\n",
    "    job_link.append(job_link0)"
   ]
  },
  {
   "cell_type": "code",
   "execution_count": 32,
   "id": "377e6fd3-534e-493f-9147-b8002cd163e3",
   "metadata": {},
   "outputs": [
    {
     "name": "stdout",
     "output_type": "stream",
     "text": [
      "Job Titles: ['Patient Services Representative', 'Medical Office Representative', 'Bookseller', 'Planning Analyst', 'Underwriting Analyst Trainee - Commercial Lines - Work from Home']\n",
      " \n",
      "Company Names: ['Sutter Health', 'Dignity Health', 'Half Price Books', 'Intel Corporation', 'Berkshire Hathaway GUARD Insurance Companies']\n",
      " \n",
      "Date: ['2022-02-05', '2022-02-05', '2022-01-10', '2022-02-05', '2022-02-02']\n"
     ]
    }
   ],
   "source": [
    "#See first 5 of each for verification.\n",
    "print('Job Titles:',job_title[:5])\n",
    "print(' ')\n",
    "print('Company Names:',company_name[:5])\n",
    "print(' ')\n",
    "print('Date:', date[:5])"
   ]
  },
  {
   "cell_type": "code",
   "execution_count": null,
   "id": "9538e834-586c-4558-84a8-c557d3c5ace8",
   "metadata": {},
   "outputs": [],
   "source": [
    "# #### maybe use bs on the job_link instead of clicking here\n",
    "# #Inital job description and criteria lists.\n",
    "# jd = []\n",
    "# cl = []\n",
    "# #Get job criteria.\n",
    "\n",
    "# #Do in batches that end with longer timers \n",
    "# #to work around StaleElementReferenceException.\n",
    "# batchsize = 10\n",
    "\n",
    "# for i in range(0, len(jobs), batchsize):\n",
    "    \n",
    "#     batch = jobs[i:i+batchsize]\n",
    "\n",
    "#     for job in batch:\n",
    "       \n",
    "#         job.click()\n",
    "        \n",
    "#         detail_path = 'description__job-criteria-list'\n",
    "#         details = driver.find_element_by_class_name(detail_path).get_attribute('innerText')\n",
    "#         cl.append(details)\n",
    "    \n",
    "#         time.sleep(5)\n",
    "        \n",
    "#     time.sleep(30)"
   ]
  },
  {
   "cell_type": "code",
   "execution_count": null,
   "id": "38614dc1-7558-4f64-a97c-1f3f6c2916c9",
   "metadata": {},
   "outputs": [],
   "source": [
    "#Verify criteria is correct.\n",
    "# print(cl[0])"
   ]
  },
  {
   "cell_type": "code",
   "execution_count": null,
   "id": "4ba390bc-bfa7-4dff-b58a-a538bc8ade7e",
   "metadata": {},
   "outputs": [],
   "source": [
    "#Get job descriptions.\n",
    "\n",
    "# #Do in batches that end with longer timers \n",
    "# #to work around StaleElementReferenceException.\n",
    "# batchsize = 10\n",
    "\n",
    "# for i in range(0, len(jobs), batchsize):\n",
    "    \n",
    "#     batch = jobs[i:i+batchsize]\n",
    "\n",
    "#     for job in batch:\n",
    "        \n",
    "#         job.click()\n",
    "    \n",
    "#         jd_path = 'show-more-less-html__markup'\n",
    "#         jd0 = driver.find_element_by_class_name(jd_path).get_attribute('innerText')\n",
    "#         jd.append(jd0)\n",
    "    \n",
    "#         time.sleep(1)\n",
    "        \n",
    "#     time.sleep(5)"
   ]
  },
  {
   "cell_type": "code",
   "execution_count": null,
   "id": "7d102fc6-2e0c-4b44-aacb-89b2d10246ba",
   "metadata": {},
   "outputs": [],
   "source": [
    "#Verify job description is correct.\n",
    "# print(jd[0])"
   ]
  },
  {
   "cell_type": "code",
   "execution_count": 33,
   "id": "8e5eb9cd-d576-4fb1-973e-45ad2dbd9cf5",
   "metadata": {},
   "outputs": [
    {
     "name": "stdout",
     "output_type": "stream",
     "text": [
      "998\n",
      "998\n",
      "998\n",
      "998\n"
     ]
    }
   ],
   "source": [
    "# Verify that all lists are the same length.\n",
    "print(len(job_title))\n",
    "print(len(company_name))\n",
    "print(len(date))\n",
    "print(len(job_link))\n",
    "# print(len(cl))\n",
    "# print(len(jd))"
   ]
  },
  {
   "cell_type": "code",
   "execution_count": 34,
   "id": "a2cf3444-c597-4508-b308-3cf0bce8da1d",
   "metadata": {},
   "outputs": [],
   "source": [
    "# Create and save a dataframe of the collected data.\n",
    "job_post_data = pd.DataFrame({'Date': date,\n",
    "                              'Company': company_name,\n",
    "                              'Title': job_title,\n",
    "                              'Job Link': job_link})\n",
    "\n"
   ]
  },
  {
   "cell_type": "code",
   "execution_count": 35,
   "id": "6559e46e-0d0a-43be-a508-edac1b2ebed8",
   "metadata": {},
   "outputs": [
    {
     "data": {
      "text/html": [
       "<div>\n",
       "<style scoped>\n",
       "    .dataframe tbody tr th:only-of-type {\n",
       "        vertical-align: middle;\n",
       "    }\n",
       "\n",
       "    .dataframe tbody tr th {\n",
       "        vertical-align: top;\n",
       "    }\n",
       "\n",
       "    .dataframe thead th {\n",
       "        text-align: right;\n",
       "    }\n",
       "</style>\n",
       "<table border=\"1\" class=\"dataframe\">\n",
       "  <thead>\n",
       "    <tr style=\"text-align: right;\">\n",
       "      <th></th>\n",
       "      <th>Date</th>\n",
       "      <th>Company</th>\n",
       "      <th>Title</th>\n",
       "      <th>Job Link</th>\n",
       "    </tr>\n",
       "  </thead>\n",
       "  <tbody>\n",
       "    <tr>\n",
       "      <th>0</th>\n",
       "      <td>2022-02-05</td>\n",
       "      <td>Sutter Health</td>\n",
       "      <td>Patient Services Representative</td>\n",
       "      <td>https://www.linkedin.com/jobs/view/patient-ser...</td>\n",
       "    </tr>\n",
       "    <tr>\n",
       "      <th>1</th>\n",
       "      <td>2022-02-05</td>\n",
       "      <td>Dignity Health</td>\n",
       "      <td>Medical Office Representative</td>\n",
       "      <td>https://www.linkedin.com/jobs/view/medical-off...</td>\n",
       "    </tr>\n",
       "    <tr>\n",
       "      <th>2</th>\n",
       "      <td>2022-01-10</td>\n",
       "      <td>Half Price Books</td>\n",
       "      <td>Bookseller</td>\n",
       "      <td>https://www.linkedin.com/jobs/view/bookseller-...</td>\n",
       "    </tr>\n",
       "    <tr>\n",
       "      <th>3</th>\n",
       "      <td>2022-02-05</td>\n",
       "      <td>Intel Corporation</td>\n",
       "      <td>Planning Analyst</td>\n",
       "      <td>https://www.linkedin.com/jobs/view/planning-an...</td>\n",
       "    </tr>\n",
       "    <tr>\n",
       "      <th>4</th>\n",
       "      <td>2022-02-02</td>\n",
       "      <td>Berkshire Hathaway GUARD Insurance Companies</td>\n",
       "      <td>Underwriting Analyst Trainee - Commercial Line...</td>\n",
       "      <td>https://www.linkedin.com/jobs/view/underwritin...</td>\n",
       "    </tr>\n",
       "  </tbody>\n",
       "</table>\n",
       "</div>"
      ],
      "text/plain": [
       "         Date                                       Company  \\\n",
       "0  2022-02-05                                 Sutter Health   \n",
       "1  2022-02-05                                Dignity Health   \n",
       "2  2022-01-10                              Half Price Books   \n",
       "3  2022-02-05                             Intel Corporation   \n",
       "4  2022-02-02  Berkshire Hathaway GUARD Insurance Companies   \n",
       "\n",
       "                                               Title  \\\n",
       "0                    Patient Services Representative   \n",
       "1                      Medical Office Representative   \n",
       "2                                         Bookseller   \n",
       "3                                   Planning Analyst   \n",
       "4  Underwriting Analyst Trainee - Commercial Line...   \n",
       "\n",
       "                                            Job Link  \n",
       "0  https://www.linkedin.com/jobs/view/patient-ser...  \n",
       "1  https://www.linkedin.com/jobs/view/medical-off...  \n",
       "2  https://www.linkedin.com/jobs/view/bookseller-...  \n",
       "3  https://www.linkedin.com/jobs/view/planning-an...  \n",
       "4  https://www.linkedin.com/jobs/view/underwritin...  "
      ]
     },
     "execution_count": 35,
     "metadata": {},
     "output_type": "execute_result"
    }
   ],
   "source": [
    "job_post_data.head()"
   ]
  },
  {
   "cell_type": "code",
   "execution_count": 36,
   "id": "0063c91e-80c1-4ba1-ac88-48ab64df7995",
   "metadata": {},
   "outputs": [
    {
     "data": {
      "text/plain": [
       "998"
      ]
     },
     "execution_count": 36,
     "metadata": {},
     "output_type": "execute_result"
    }
   ],
   "source": [
    "len(job_post_data)"
   ]
  },
  {
   "cell_type": "code",
   "execution_count": 37,
   "id": "2481902d-e20a-456e-94e8-067577316d8d",
   "metadata": {},
   "outputs": [],
   "source": [
    "job_post_data.to_csv('LinkedIn_Job_Postings.csv', index = False)"
   ]
  },
  {
   "cell_type": "code",
   "execution_count": null,
   "id": "ee784d60-a863-4434-b0a5-1a56d191dff7",
   "metadata": {},
   "outputs": [],
   "source": [
    "# read HTML content with bs4\n",
    "soup = bs(driver.page_source, 'html.parser')\n",
    "# contents_div = soup.find('div', class_='columns is-multiline is-mobile js--reviews--target')\n",
    "# # check amount of movie reviews\n",
    "# len(contents_div.find_all('div', class_='review-stack'))"
   ]
  }
 ],
 "metadata": {
  "kernelspec": {
   "display_name": "Python [conda env:metis] *",
   "language": "python",
   "name": "conda-env-metis-py"
  },
  "language_info": {
   "codemirror_mode": {
    "name": "ipython",
    "version": 3
   },
   "file_extension": ".py",
   "mimetype": "text/x-python",
   "name": "python",
   "nbconvert_exporter": "python",
   "pygments_lexer": "ipython3",
   "version": "3.8.8"
  }
 },
 "nbformat": 4,
 "nbformat_minor": 5
}
