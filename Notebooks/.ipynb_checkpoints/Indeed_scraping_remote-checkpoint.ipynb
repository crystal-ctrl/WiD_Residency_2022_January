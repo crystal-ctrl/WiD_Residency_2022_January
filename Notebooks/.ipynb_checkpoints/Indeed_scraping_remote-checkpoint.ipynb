{
 "cells": [
  {
   "cell_type": "code",
   "execution_count": 1,
   "id": "e9fcf709",
   "metadata": {},
   "outputs": [],
   "source": [
    "#importing what is needed\n",
    "import time\n",
    "import pandas as pd\n",
    "import requests\n",
    "import json5"
   ]
  },
  {
   "cell_type": "code",
   "execution_count": 2,
   "id": "8b4d3d17",
   "metadata": {},
   "outputs": [],
   "source": [
    "url_base = 'https://www.indeed.com/jobs?q&l=remote&fromage=7&limit=50&sort=date'"
   ]
  },
  {
   "cell_type": "code",
   "execution_count": 23,
   "id": "ba21ffac",
   "metadata": {},
   "outputs": [],
   "source": [
    "jobs = []"
   ]
  },
  {
   "cell_type": "code",
   "execution_count": 18,
   "id": "48840653",
   "metadata": {},
   "outputs": [
    {
     "ename": "KeyboardInterrupt",
     "evalue": "",
     "output_type": "error",
     "traceback": [
      "\u001b[1;31m---------------------------------------------------------------------------\u001b[0m",
      "\u001b[1;31mKeyboardInterrupt\u001b[0m                         Traceback (most recent call last)",
      "\u001b[1;32m<ipython-input-18-4ba2546a8ef4>\u001b[0m in \u001b[0;36m<module>\u001b[1;34m\u001b[0m\n\u001b[0;32m     18\u001b[0m         \u001b[0mjob\u001b[0m \u001b[1;33m=\u001b[0m \u001b[0mjson5\u001b[0m\u001b[1;33m.\u001b[0m\u001b[0mloads\u001b[0m\u001b[1;33m(\u001b[0m\u001b[0mtext\u001b[0m\u001b[1;33m[\u001b[0m\u001b[0ms\u001b[0m\u001b[1;33m:\u001b[0m\u001b[0me\u001b[0m\u001b[1;33m+\u001b[0m\u001b[1;36m1\u001b[0m\u001b[1;33m]\u001b[0m\u001b[1;33m)\u001b[0m\u001b[1;33m\u001b[0m\u001b[1;33m\u001b[0m\u001b[0m\n\u001b[0;32m     19\u001b[0m         \u001b[0mjobs\u001b[0m\u001b[1;33m.\u001b[0m\u001b[0mappend\u001b[0m\u001b[1;33m(\u001b[0m\u001b[0mjob\u001b[0m\u001b[1;33m)\u001b[0m\u001b[1;33m\u001b[0m\u001b[1;33m\u001b[0m\u001b[0m\n\u001b[1;32m---> 20\u001b[1;33m         \u001b[0mtime\u001b[0m\u001b[1;33m.\u001b[0m\u001b[0msleep\u001b[0m\u001b[1;33m(\u001b[0m\u001b[1;36m5\u001b[0m\u001b[1;33m)\u001b[0m\u001b[1;33m\u001b[0m\u001b[1;33m\u001b[0m\u001b[0m\n\u001b[0m",
      "\u001b[1;31mKeyboardInterrupt\u001b[0m: "
     ]
    }
   ],
   "source": [
    "for pg in range(10000//50+1):\n",
    "    err_count = 0\n",
    "    r = requests.get(url_base+'&start={}'.format(pg*50))\n",
    "    while r.status_code != 200 and err_count < 5:\n",
    "        time.sleep(5)\n",
    "        err_count += 1\n",
    "        r = requests.get(url_base+'&start={}'.format(pg*50))\n",
    "    for i in range(50):\n",
    "        start = text.find('jobmap[{}]'.format(i))\n",
    "        end = text.find('jobmap[{}]'.format(i+1))\n",
    "        s = text.find('{',start)\n",
    "        if end == -1:\n",
    "            e = text.find('}',s)\n",
    "        else:\n",
    "            e = text.rfind('}',s,end)\n",
    "        job = json5.loads(text[s:e+1])\n",
    "        jobs.append(job)\n",
    "        time.sleep(5)"
   ]
  },
  {
   "cell_type": "code",
   "execution_count": 22,
   "id": "d8e3385b",
   "metadata": {},
   "outputs": [],
   "source": [
    "df = pd.DataFrame(jobs)"
   ]
  },
  {
   "cell_type": "code",
   "execution_count": null,
   "id": "aa929e60",
   "metadata": {},
   "outputs": [],
   "source": [
    "# need to clean"
   ]
  },
  {
   "cell_type": "code",
   "execution_count": null,
   "id": "d1756bc6",
   "metadata": {},
   "outputs": [],
   "source": []
  },
  {
   "cell_type": "code",
   "execution_count": null,
   "id": "d4351670",
   "metadata": {},
   "outputs": [],
   "source": []
  },
  {
   "cell_type": "code",
   "execution_count": null,
   "id": "4713a456",
   "metadata": {},
   "outputs": [],
   "source": [
    "df.to_csv('../Data/indeed_remote_jobs.csv',index=False)"
   ]
  }
 ],
 "metadata": {
  "kernelspec": {
   "display_name": "Python 3",
   "language": "python",
   "name": "python3"
  },
  "language_info": {
   "codemirror_mode": {
    "name": "ipython",
    "version": 3
   },
   "file_extension": ".py",
   "mimetype": "text/x-python",
   "name": "python",
   "nbconvert_exporter": "python",
   "pygments_lexer": "ipython3",
   "version": "3.9.5"
  }
 },
 "nbformat": 4,
 "nbformat_minor": 5
}
