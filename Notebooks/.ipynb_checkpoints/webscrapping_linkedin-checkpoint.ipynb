{
 "cells": [
  {
   "cell_type": "markdown",
   "id": "367238eb-cb35-4c36-ae48-56e3f8f0985e",
   "metadata": {},
   "source": [
    "# Scraping Job Postings from LinkedIn"
   ]
  },
  {
   "cell_type": "code",
   "execution_count": 22,
   "id": "bf283ed4-e716-4c7a-a7f4-0a4f10f07ff0",
   "metadata": {},
   "outputs": [],
   "source": [
    "#Import packages\n",
    "import time, os\n",
    "import pandas as pd\n",
    "\n",
    "from selenium import webdriver\n",
    "from selenium.webdriver.common.keys import Keys\n",
    "from selenium.webdriver.support.ui import Select\n",
    "\n",
    "from bs4 import BeautifulSoup as bs\n",
    "import requests\n",
    "import re\n",
    "import pickle\n",
    "\n",
    "#Hide Warnings\n",
    "import warnings\n",
    "warnings.filterwarnings('ignore')"
   ]
  },
  {
   "cell_type": "code",
   "execution_count": 23,
   "id": "9b32b03a-8a29-4cf2-827e-60568dd8e5ad",
   "metadata": {},
   "outputs": [],
   "source": [
    "chromedriver = \"/Applications/chromedriver\"\n",
    "os.environ[\"webdriver.chrome.driver\"] = chromedriver\n",
    "driver = webdriver.Chrome(chromedriver)\n",
    "source = 'https://www.linkedin.com/jobs'\n",
    "driver.get(source)\n",
    "# Get Location to Rancho Cordova\n",
    "location_box_clear = driver.find_element_by_xpath('//*[@id=\"JOBS\"]/section[2]/button')\n",
    "location_box_clear.click()\n",
    "location_box = driver.find_element_by_xpath('//*[@id=\"JOBS\"]/section[2]/input')\n",
    "location_box.click()\n",
    "location_box.send_keys(\"Rancho Cordova, California, United States\")\n",
    "location_box.send_keys(Keys.RETURN)"
   ]
  },
  {
   "cell_type": "code",
   "execution_count": 16,
   "id": "07a01bbe-4c88-4fe5-a769-24c8626a939c",
   "metadata": {},
   "outputs": [],
   "source": [
    "\n"
   ]
  },
  {
   "cell_type": "code",
   "execution_count": 17,
   "id": "e0140a03-dc15-4083-8741-ea2213c1be06",
   "metadata": {},
   "outputs": [],
   "source": [
    "## Can specify these later, but for now we'll scrape the first 1000 jobs within 25 miles of RC\n",
    "# Anytime\n",
    "# Distance\n",
    "# Company\n",
    "# Salary\n",
    "# Location\n",
    "# Job Type\n",
    "# Experience Level\n",
    "# On-site/Remote"
   ]
  },
  {
   "cell_type": "code",
   "execution_count": 24,
   "id": "73f17bb4-4c28-4457-bfcc-e7dc5f7c84dc",
   "metadata": {},
   "outputs": [
    {
     "name": "stdout",
     "output_type": "stream",
     "text": [
      "There are 44,000+ jobs available within 10 miles of Rancho Cordova on LinkedIn over the past month.\n"
     ]
    }
   ],
   "source": [
    "#How many jobs are curently available within 25 miles of Rancho Cordova on LinkedIn\n",
    "no_of_jobs = driver.find_element_by_css_selector('h1>span').get_attribute('innerText')\n",
    "\n",
    "print('There are', no_of_jobs, 'jobs available within 10 miles of Rancho Cordova on LinkedIn over the past month.')"
   ]
  },
  {
   "cell_type": "code",
   "execution_count": 25,
   "id": "674188f8-bb8c-4696-9274-bdec3ce0438b",
   "metadata": {},
   "outputs": [],
   "source": [
    "#Browse all jobs for the search.\n",
    "i = 2\n",
    "while i <= int(1000/25)+1: \n",
    "    #Scroll until hit the see more jobs button.\n",
    "    driver.execute_script('window.scrollTo(0, document.body.scrollHeight);')\n",
    "    i = i + 1\n",
    "    try:\n",
    "        #Click the see more jobs button and then keep scrolling.\n",
    "        driver.find_element_by_xpath(f\"//button[@aria-label='Load more results']\").click()\n",
    "        time.sleep(20)\n",
    "        print(i,\"loading\")\n",
    "    except:\n",
    "        pass\n",
    "        time.sleep(20)\n",
    "        print(i,\"not loading\")"
   ]
  },
  {
   "cell_type": "code",
   "execution_count": null,
   "id": "03ef6a00-d2d0-4886-aeba-7ce96ef9ead5",
   "metadata": {},
   "outputs": [],
   "source": [
    "##### Create a list of all jobs in the search."
   ]
  },
  {
   "cell_type": "code",
   "execution_count": 26,
   "id": "4b2601d4-44f9-4b9d-97f1-70f06946f3fc",
   "metadata": {},
   "outputs": [],
   "source": [
    "#Create a list of the jobs.\n",
    "job_lists = driver.find_element_by_class_name('jobs-search__results-list')\n",
    "jobs = job_lists.find_elements_by_tag_name('li')"
   ]
  },
  {
   "cell_type": "code",
   "execution_count": 27,
   "id": "348f073f-eace-415e-9657-df12619380bd",
   "metadata": {},
   "outputs": [
    {
     "name": "stdout",
     "output_type": "stream",
     "text": [
      "998 were collected from the search\n"
     ]
    }
   ],
   "source": [
    "#Test that it collected all jobs.\n",
    "#If it significantly dropped, the sleep.time time may need to be increased to allow:\n",
    "#More loading time or\n",
    "#Not set off restrictions for the site.\n",
    "print(len(jobs), 'were collected from the search')"
   ]
  },
  {
   "cell_type": "code",
   "execution_count": 28,
   "id": "752e7399-190d-45a2-bf5c-0dc833985937",
   "metadata": {},
   "outputs": [],
   "source": [
    "#Pull basic information from each job.\n",
    "job_title = []\n",
    "company_name = []\n",
    "date = []\n",
    "job_link = []\n",
    "\n",
    "for job in jobs:\n",
    "    job_title0 = job.find_element_by_css_selector('h3').get_attribute('innerText')\n",
    "    job_title.append(job_title0)\n",
    " \n",
    "    company_name0 = job.find_element_by_css_selector('h4').get_attribute('innerText')\n",
    "    company_name.append(company_name0)\n",
    " \n",
    "    date0 = job.find_element_by_css_selector('div>div>time').get_attribute('datetime')\n",
    "    date.append(date0)\n",
    "    \n",
    "    job_link0 = job.find_element_by_css_selector('a').get_attribute('href')\n",
    "    job_link.append(job_link0)"
   ]
  },
  {
   "cell_type": "code",
   "execution_count": 29,
   "id": "377e6fd3-534e-493f-9147-b8002cd163e3",
   "metadata": {},
   "outputs": [
    {
     "name": "stdout",
     "output_type": "stream",
     "text": [
      "Job Titles: ['Administrative Analyst', 'Enrollment Advisor', 'Patient Services Representative', 'Youth Advocate, Juvenile Justice Intervention Services', 'Administrative Analyst (Community Engagement & Strategic Partnerships)']\n",
      " \n",
      "Company Names: ['City of Sacramento', 'California State University-Sacramento', 'Sutter Health', 'Stanford Sierra Youth & Families', 'City of Sacramento']\n",
      " \n",
      "Date: ['2022-01-22', '2022-01-22', '2022-02-04', '2022-01-28', '2022-02-04']\n"
     ]
    }
   ],
   "source": [
    "#See first 5 of each for verification.\n",
    "print('Job Titles:',job_title[:5])\n",
    "print(' ')\n",
    "print('Company Names:',company_name[:5])\n",
    "print(' ')\n",
    "print('Date:', date[:5])"
   ]
  },
  {
   "cell_type": "code",
   "execution_count": 30,
   "id": "9538e834-586c-4558-84a8-c557d3c5ace8",
   "metadata": {},
   "outputs": [
    {
     "ename": "StaleElementReferenceException",
     "evalue": "Message: stale element reference: element is not attached to the page document\n  (Session info: chrome=98.0.4758.80)\n",
     "output_type": "error",
     "traceback": [
      "\u001b[0;31m---------------------------------------------------------------------------\u001b[0m",
      "\u001b[0;31mStaleElementReferenceException\u001b[0m            Traceback (most recent call last)",
      "\u001b[0;32m<ipython-input-30-51e2fee9aefc>\u001b[0m in \u001b[0;36m<module>\u001b[0;34m\u001b[0m\n\u001b[1;32m     17\u001b[0m \u001b[0;34m\u001b[0m\u001b[0m\n\u001b[1;32m     18\u001b[0m         \u001b[0mdetail_path\u001b[0m \u001b[0;34m=\u001b[0m \u001b[0;34m'description__job-criteria-list'\u001b[0m\u001b[0;34m\u001b[0m\u001b[0;34m\u001b[0m\u001b[0m\n\u001b[0;32m---> 19\u001b[0;31m         \u001b[0mdetails\u001b[0m \u001b[0;34m=\u001b[0m \u001b[0mdriver\u001b[0m\u001b[0;34m.\u001b[0m\u001b[0mfind_element_by_class_name\u001b[0m\u001b[0;34m(\u001b[0m\u001b[0mdetail_path\u001b[0m\u001b[0;34m)\u001b[0m\u001b[0;34m.\u001b[0m\u001b[0mget_attribute\u001b[0m\u001b[0;34m(\u001b[0m\u001b[0;34m'innerText'\u001b[0m\u001b[0;34m)\u001b[0m\u001b[0;34m\u001b[0m\u001b[0;34m\u001b[0m\u001b[0m\n\u001b[0m\u001b[1;32m     20\u001b[0m         \u001b[0mcl\u001b[0m\u001b[0;34m.\u001b[0m\u001b[0mappend\u001b[0m\u001b[0;34m(\u001b[0m\u001b[0mdetails\u001b[0m\u001b[0;34m)\u001b[0m\u001b[0;34m\u001b[0m\u001b[0;34m\u001b[0m\u001b[0m\n\u001b[1;32m     21\u001b[0m \u001b[0;34m\u001b[0m\u001b[0m\n",
      "\u001b[0;32m~/anaconda3/envs/metis/lib/python3.8/site-packages/selenium/webdriver/remote/webelement.py\u001b[0m in \u001b[0;36mget_attribute\u001b[0;34m(self, name)\u001b[0m\n\u001b[1;32m    137\u001b[0m         \u001b[0mattributeValue\u001b[0m \u001b[0;34m=\u001b[0m \u001b[0;34m''\u001b[0m\u001b[0;34m\u001b[0m\u001b[0;34m\u001b[0m\u001b[0m\n\u001b[1;32m    138\u001b[0m         \u001b[0;32mif\u001b[0m \u001b[0mself\u001b[0m\u001b[0;34m.\u001b[0m\u001b[0m_w3c\u001b[0m\u001b[0;34m:\u001b[0m\u001b[0;34m\u001b[0m\u001b[0;34m\u001b[0m\u001b[0m\n\u001b[0;32m--> 139\u001b[0;31m             attributeValue = self.parent.execute_script(\n\u001b[0m\u001b[1;32m    140\u001b[0m                 \u001b[0;34m\"return (%s).apply(null, arguments);\"\u001b[0m \u001b[0;34m%\u001b[0m \u001b[0mgetAttribute_js\u001b[0m\u001b[0;34m,\u001b[0m\u001b[0;34m\u001b[0m\u001b[0;34m\u001b[0m\u001b[0m\n\u001b[1;32m    141\u001b[0m                 self, name)\n",
      "\u001b[0;32m~/anaconda3/envs/metis/lib/python3.8/site-packages/selenium/webdriver/remote/webdriver.py\u001b[0m in \u001b[0;36mexecute_script\u001b[0;34m(self, script, *args)\u001b[0m\n\u001b[1;32m    632\u001b[0m             \u001b[0mcommand\u001b[0m \u001b[0;34m=\u001b[0m \u001b[0mCommand\u001b[0m\u001b[0;34m.\u001b[0m\u001b[0mEXECUTE_SCRIPT\u001b[0m\u001b[0;34m\u001b[0m\u001b[0;34m\u001b[0m\u001b[0m\n\u001b[1;32m    633\u001b[0m \u001b[0;34m\u001b[0m\u001b[0m\n\u001b[0;32m--> 634\u001b[0;31m         return self.execute(command, {\n\u001b[0m\u001b[1;32m    635\u001b[0m             \u001b[0;34m'script'\u001b[0m\u001b[0;34m:\u001b[0m \u001b[0mscript\u001b[0m\u001b[0;34m,\u001b[0m\u001b[0;34m\u001b[0m\u001b[0;34m\u001b[0m\u001b[0m\n\u001b[1;32m    636\u001b[0m             'args': converted_args})['value']\n",
      "\u001b[0;32m~/anaconda3/envs/metis/lib/python3.8/site-packages/selenium/webdriver/remote/webdriver.py\u001b[0m in \u001b[0;36mexecute\u001b[0;34m(self, driver_command, params)\u001b[0m\n\u001b[1;32m    319\u001b[0m         \u001b[0mresponse\u001b[0m \u001b[0;34m=\u001b[0m \u001b[0mself\u001b[0m\u001b[0;34m.\u001b[0m\u001b[0mcommand_executor\u001b[0m\u001b[0;34m.\u001b[0m\u001b[0mexecute\u001b[0m\u001b[0;34m(\u001b[0m\u001b[0mdriver_command\u001b[0m\u001b[0;34m,\u001b[0m \u001b[0mparams\u001b[0m\u001b[0;34m)\u001b[0m\u001b[0;34m\u001b[0m\u001b[0;34m\u001b[0m\u001b[0m\n\u001b[1;32m    320\u001b[0m         \u001b[0;32mif\u001b[0m \u001b[0mresponse\u001b[0m\u001b[0;34m:\u001b[0m\u001b[0;34m\u001b[0m\u001b[0;34m\u001b[0m\u001b[0m\n\u001b[0;32m--> 321\u001b[0;31m             \u001b[0mself\u001b[0m\u001b[0;34m.\u001b[0m\u001b[0merror_handler\u001b[0m\u001b[0;34m.\u001b[0m\u001b[0mcheck_response\u001b[0m\u001b[0;34m(\u001b[0m\u001b[0mresponse\u001b[0m\u001b[0;34m)\u001b[0m\u001b[0;34m\u001b[0m\u001b[0;34m\u001b[0m\u001b[0m\n\u001b[0m\u001b[1;32m    322\u001b[0m             response['value'] = self._unwrap_value(\n\u001b[1;32m    323\u001b[0m                 response.get('value', None))\n",
      "\u001b[0;32m~/anaconda3/envs/metis/lib/python3.8/site-packages/selenium/webdriver/remote/errorhandler.py\u001b[0m in \u001b[0;36mcheck_response\u001b[0;34m(self, response)\u001b[0m\n\u001b[1;32m    240\u001b[0m                 \u001b[0malert_text\u001b[0m \u001b[0;34m=\u001b[0m \u001b[0mvalue\u001b[0m\u001b[0;34m[\u001b[0m\u001b[0;34m'alert'\u001b[0m\u001b[0;34m]\u001b[0m\u001b[0;34m.\u001b[0m\u001b[0mget\u001b[0m\u001b[0;34m(\u001b[0m\u001b[0;34m'text'\u001b[0m\u001b[0;34m)\u001b[0m\u001b[0;34m\u001b[0m\u001b[0;34m\u001b[0m\u001b[0m\n\u001b[1;32m    241\u001b[0m             \u001b[0;32mraise\u001b[0m \u001b[0mexception_class\u001b[0m\u001b[0;34m(\u001b[0m\u001b[0mmessage\u001b[0m\u001b[0;34m,\u001b[0m \u001b[0mscreen\u001b[0m\u001b[0;34m,\u001b[0m \u001b[0mstacktrace\u001b[0m\u001b[0;34m,\u001b[0m \u001b[0malert_text\u001b[0m\u001b[0;34m)\u001b[0m\u001b[0;34m\u001b[0m\u001b[0;34m\u001b[0m\u001b[0m\n\u001b[0;32m--> 242\u001b[0;31m         \u001b[0;32mraise\u001b[0m \u001b[0mexception_class\u001b[0m\u001b[0;34m(\u001b[0m\u001b[0mmessage\u001b[0m\u001b[0;34m,\u001b[0m \u001b[0mscreen\u001b[0m\u001b[0;34m,\u001b[0m \u001b[0mstacktrace\u001b[0m\u001b[0;34m)\u001b[0m\u001b[0;34m\u001b[0m\u001b[0;34m\u001b[0m\u001b[0m\n\u001b[0m\u001b[1;32m    243\u001b[0m \u001b[0;34m\u001b[0m\u001b[0m\n\u001b[1;32m    244\u001b[0m     \u001b[0;32mdef\u001b[0m \u001b[0m_value_or_default\u001b[0m\u001b[0;34m(\u001b[0m\u001b[0mself\u001b[0m\u001b[0;34m,\u001b[0m \u001b[0mobj\u001b[0m\u001b[0;34m,\u001b[0m \u001b[0mkey\u001b[0m\u001b[0;34m,\u001b[0m \u001b[0mdefault\u001b[0m\u001b[0;34m)\u001b[0m\u001b[0;34m:\u001b[0m\u001b[0;34m\u001b[0m\u001b[0;34m\u001b[0m\u001b[0m\n",
      "\u001b[0;31mStaleElementReferenceException\u001b[0m: Message: stale element reference: element is not attached to the page document\n  (Session info: chrome=98.0.4758.80)\n"
     ]
    }
   ],
   "source": [
    "#### maybe use bs on the job_link instead of clicking here\n",
    "#Inital job description and criteria lists.\n",
    "jd = []\n",
    "cl = []\n",
    "#Get job criteria.\n",
    "\n",
    "#Do in batches that end with longer timers \n",
    "#to work around StaleElementReferenceException.\n",
    "batchsize = 10\n",
    "\n",
    "for i in range(0, len(jobs), batchsize):\n",
    "    \n",
    "    batch = jobs[i:i+batchsize]\n",
    "\n",
    "    for job in batch:\n",
    "       \n",
    "        job.click()\n",
    "        \n",
    "        detail_path = 'description__job-criteria-list'\n",
    "        details = driver.find_element_by_class_name(detail_path).get_attribute('innerText')\n",
    "        cl.append(details)\n",
    "    \n",
    "        time.sleep(5)\n",
    "        \n",
    "    time.sleep(30)"
   ]
  },
  {
   "cell_type": "code",
   "execution_count": 31,
   "id": "38614dc1-7558-4f64-a97c-1f3f6c2916c9",
   "metadata": {},
   "outputs": [
    {
     "name": "stdout",
     "output_type": "stream",
     "text": [
      "Seniority level\n",
      "Associate\n",
      "Employment type\n",
      "Full-time\n",
      "Job function\n",
      "Other\n",
      "Industries\n",
      "Government Administration\n"
     ]
    }
   ],
   "source": [
    "#Verify criteria is correct.\n",
    "print(cl[0])"
   ]
  },
  {
   "cell_type": "code",
   "execution_count": null,
   "id": "4ba390bc-bfa7-4dff-b58a-a538bc8ade7e",
   "metadata": {},
   "outputs": [],
   "source": [
    "#Get job descriptions.\n",
    "\n",
    "#Do in batches that end with longer timers \n",
    "#to work around StaleElementReferenceException.\n",
    "batchsize = 10\n",
    "\n",
    "for i in range(0, len(jobs), batchsize):\n",
    "    \n",
    "    batch = jobs[i:i+batchsize]\n",
    "\n",
    "    for job in batch:\n",
    "        \n",
    "        job.click()\n",
    "    \n",
    "        jd_path = 'show-more-less-html__markup'\n",
    "        jd0 = driver.find_element_by_class_name(jd_path).get_attribute('innerText')\n",
    "        jd.append(jd0)\n",
    "    \n",
    "        time.sleep(1)\n",
    "        \n",
    "    time.sleep(5)"
   ]
  },
  {
   "cell_type": "code",
   "execution_count": null,
   "id": "7d102fc6-2e0c-4b44-aacb-89b2d10246ba",
   "metadata": {},
   "outputs": [],
   "source": [
    "#Verify job description is correct.\n",
    "print(jd[0])"
   ]
  },
  {
   "cell_type": "code",
   "execution_count": 32,
   "id": "8e5eb9cd-d576-4fb1-973e-45ad2dbd9cf5",
   "metadata": {},
   "outputs": [
    {
     "name": "stdout",
     "output_type": "stream",
     "text": [
      "998\n",
      "998\n",
      "998\n",
      "998\n",
      "62\n"
     ]
    }
   ],
   "source": [
    "# Verify that all lists are the same length.\n",
    "print(len(job_title))\n",
    "print(len(company_name))\n",
    "print(len(date))\n",
    "print(len(job_link))\n",
    "print(len(cl))\n",
    "# print(len(jd))"
   ]
  },
  {
   "cell_type": "code",
   "execution_count": 33,
   "id": "a2cf3444-c597-4508-b308-3cf0bce8da1d",
   "metadata": {},
   "outputs": [],
   "source": [
    "# Create and save a dataframe of the collected data.\n",
    "job_post_data = pd.DataFrame({'Date': date,\n",
    "                              'Company': company_name,\n",
    "                              'Title': job_title,\n",
    "                              'Job Link': job_link})\n",
    "\n",
    "# job_post_data.to_csv('LinkedIn_Job_Postings.csv', index = False)"
   ]
  },
  {
   "cell_type": "code",
   "execution_count": 34,
   "id": "6559e46e-0d0a-43be-a508-edac1b2ebed8",
   "metadata": {},
   "outputs": [
    {
     "data": {
      "text/html": [
       "<div>\n",
       "<style scoped>\n",
       "    .dataframe tbody tr th:only-of-type {\n",
       "        vertical-align: middle;\n",
       "    }\n",
       "\n",
       "    .dataframe tbody tr th {\n",
       "        vertical-align: top;\n",
       "    }\n",
       "\n",
       "    .dataframe thead th {\n",
       "        text-align: right;\n",
       "    }\n",
       "</style>\n",
       "<table border=\"1\" class=\"dataframe\">\n",
       "  <thead>\n",
       "    <tr style=\"text-align: right;\">\n",
       "      <th></th>\n",
       "      <th>Date</th>\n",
       "      <th>Company</th>\n",
       "      <th>Title</th>\n",
       "      <th>Job Link</th>\n",
       "    </tr>\n",
       "  </thead>\n",
       "  <tbody>\n",
       "    <tr>\n",
       "      <th>0</th>\n",
       "      <td>2022-01-22</td>\n",
       "      <td>City of Sacramento</td>\n",
       "      <td>Administrative Analyst</td>\n",
       "      <td>https://www.linkedin.com/jobs/view/administrat...</td>\n",
       "    </tr>\n",
       "    <tr>\n",
       "      <th>1</th>\n",
       "      <td>2022-01-22</td>\n",
       "      <td>California State University-Sacramento</td>\n",
       "      <td>Enrollment Advisor</td>\n",
       "      <td>https://www.linkedin.com/jobs/view/enrollment-...</td>\n",
       "    </tr>\n",
       "    <tr>\n",
       "      <th>2</th>\n",
       "      <td>2022-02-04</td>\n",
       "      <td>Sutter Health</td>\n",
       "      <td>Patient Services Representative</td>\n",
       "      <td>https://www.linkedin.com/jobs/view/patient-ser...</td>\n",
       "    </tr>\n",
       "    <tr>\n",
       "      <th>3</th>\n",
       "      <td>2022-01-28</td>\n",
       "      <td>Stanford Sierra Youth &amp; Families</td>\n",
       "      <td>Youth Advocate, Juvenile Justice Intervention ...</td>\n",
       "      <td>https://www.linkedin.com/jobs/view/youth-advoc...</td>\n",
       "    </tr>\n",
       "    <tr>\n",
       "      <th>4</th>\n",
       "      <td>2022-02-04</td>\n",
       "      <td>City of Sacramento</td>\n",
       "      <td>Administrative Analyst (Community Engagement &amp;...</td>\n",
       "      <td>https://www.linkedin.com/jobs/view/administrat...</td>\n",
       "    </tr>\n",
       "  </tbody>\n",
       "</table>\n",
       "</div>"
      ],
      "text/plain": [
       "         Date                                 Company  \\\n",
       "0  2022-01-22                      City of Sacramento   \n",
       "1  2022-01-22  California State University-Sacramento   \n",
       "2  2022-02-04                           Sutter Health   \n",
       "3  2022-01-28        Stanford Sierra Youth & Families   \n",
       "4  2022-02-04                      City of Sacramento   \n",
       "\n",
       "                                               Title  \\\n",
       "0                             Administrative Analyst   \n",
       "1                                 Enrollment Advisor   \n",
       "2                    Patient Services Representative   \n",
       "3  Youth Advocate, Juvenile Justice Intervention ...   \n",
       "4  Administrative Analyst (Community Engagement &...   \n",
       "\n",
       "                                            Job Link  \n",
       "0  https://www.linkedin.com/jobs/view/administrat...  \n",
       "1  https://www.linkedin.com/jobs/view/enrollment-...  \n",
       "2  https://www.linkedin.com/jobs/view/patient-ser...  \n",
       "3  https://www.linkedin.com/jobs/view/youth-advoc...  \n",
       "4  https://www.linkedin.com/jobs/view/administrat...  "
      ]
     },
     "execution_count": 34,
     "metadata": {},
     "output_type": "execute_result"
    }
   ],
   "source": [
    "job_post_data.head()"
   ]
  },
  {
   "cell_type": "code",
   "execution_count": 35,
   "id": "0063c91e-80c1-4ba1-ac88-48ab64df7995",
   "metadata": {},
   "outputs": [
    {
     "data": {
      "text/plain": [
       "998"
      ]
     },
     "execution_count": 35,
     "metadata": {},
     "output_type": "execute_result"
    }
   ],
   "source": [
    "len(job_post_data)"
   ]
  },
  {
   "cell_type": "code",
   "execution_count": null,
   "id": "ee784d60-a863-4434-b0a5-1a56d191dff7",
   "metadata": {},
   "outputs": [],
   "source": []
  }
 ],
 "metadata": {
  "kernelspec": {
   "display_name": "Python [conda env:metis] *",
   "language": "python",
   "name": "conda-env-metis-py"
  },
  "language_info": {
   "codemirror_mode": {
    "name": "ipython",
    "version": 3
   },
   "file_extension": ".py",
   "mimetype": "text/x-python",
   "name": "python",
   "nbconvert_exporter": "python",
   "pygments_lexer": "ipython3",
   "version": "3.8.8"
  }
 },
 "nbformat": 4,
 "nbformat_minor": 5
}
