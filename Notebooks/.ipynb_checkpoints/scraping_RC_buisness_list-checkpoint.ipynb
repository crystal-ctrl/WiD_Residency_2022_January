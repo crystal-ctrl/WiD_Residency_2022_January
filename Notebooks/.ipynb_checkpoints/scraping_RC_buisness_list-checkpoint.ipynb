{
 "cells": [
  {
   "cell_type": "code",
   "execution_count": 5,
   "id": "34c2e1a7",
   "metadata": {},
   "outputs": [],
   "source": [
    "# importing what is needed\n",
    "import time\n",
    "import pandas as pd\n",
    "import requests\n",
    "from selenium import webdriver\n",
    "from selenium.webdriver.chrome.service import Service\n",
    "from selenium.webdriver.common.keys import Keys\n",
    "from selenium.webdriver.support.ui import Select\n",
    "from webdriver_manager.chrome import ChromeDriverManager\n",
    "\n",
    "# hide warnings\n",
    "import warnings\n",
    "warnings.filterwarnings('ignore')"
   ]
  },
  {
   "cell_type": "code",
   "execution_count": 6,
   "id": "c45ff7c8",
   "metadata": {},
   "outputs": [
    {
     "data": {
      "text/plain": [
       "200"
      ]
     },
     "execution_count": 6,
     "metadata": {},
     "output_type": "execute_result"
    }
   ],
   "source": [
    "#getting the page using requests\n",
    "status_code = 0\n",
    "count = 0\n",
    "while status_code!=200 and count < 5:\n",
    "    r = requests.get('https://www.chamberorganizer.com/members/directory/search_bootstrap.php?org_id=RCCC')\n",
    "    status_code = r.status_code\n",
    "    count += 1\n",
    "    time.sleep(5)\n",
    "status_code"
   ]
  },
  {
   "cell_type": "code",
   "execution_count": 7,
   "id": "cf4da23e",
   "metadata": {},
   "outputs": [],
   "source": [
    "html_page = r.text"
   ]
  },
  {
   "cell_type": "code",
   "execution_count": 10,
   "id": "ce3f8b2a",
   "metadata": {},
   "outputs": [
    {
     "name": "stdout",
     "output_type": "stream",
     "text": [
      "12035\n"
     ]
    }
   ],
   "source": [
    "loc = 0\n",
    "while loc != -1:\n",
    "    loc = html_page.find('Delivery Offered', loc+1)\n",
    "    if loc!=-1:\n",
    "        print(loc)"
   ]
  },
  {
   "cell_type": "code",
   "execution_count": 11,
   "id": "c6863f96",
   "metadata": {},
   "outputs": [
    {
     "data": {
      "text/plain": [
       "'\\t\\tfont-style: italic;\\r\\n\\t\\t}\\r\\n\\t\\t.second-line-name-mem\\r\\n\\t\\t{\\r\\n\\t\\t\\tfont-weight: bold;\\r\\n\\t\\t}\\r\\n\\t\\t.second-line-name-non\\r\\n\\t\\t{\\r\\n\\t\\t\\tfont-style: italic;\\r\\n\\t\\t}\\r\\n\\r\\n\\t</style>\\r\\n\\t\\n\\t\\t\\t<style>\\n\\t\\t\\t\\tdiv.col {\\n\\t\\t\\t\\t\\tdisplay: inline-block;\\n\\t\\t\\t\\t}\\n\\t\\t\\t\\tdiv.col-md-2 {\\n\\t\\t\\t\\t\\twidth: 16%;\\n\\t\\t\\t\\t}\\n\\t\\t\\t\\tdiv.col-md-4 {\\n\\t\\t\\t\\t\\twidth: 32%;\\n\\t\\t\\t\\t}\\n\\t\\t\\t\\tdiv.col-md-8 {\\n\\t\\t\\t\\t\\twidth: 64%;\\n\\t\\t\\t\\t}\\n\\t\\t\\t\\tdiv.col-md-12 {\\n\\t\\t\\t\\t\\twidth: 100%;\\n\\t\\t\\t\\t}\\n\\t\\t\\t</style><div class=\"col col-md-2\"></div><div class=\"col col-md-8\"><a target=\"_blank\" href=\"https://www.chamberorganizer.com/clickthru.php?ai=160016\"><img class=\"img-responsive\" src=\"http://chamberorganizer.com/ranchocordovachamber/photos/BNR_11344180505074145.PNG\" border=\"0\" style=\"margin: 0px auto;\"><br></a><br></div><div class=\"col col-md-2\"></div><div id=\"map_canvas\"></div>\\n\\t\\t\\t<div id=\"location_dialog\"></div><div class=\"row\" id=\"form-wrapper\">\\n\\t<div class = \"col col-md-12\">\\n<div class=\"col col-md-3 col-sm-3\" id=\"category-list\"><b>Business Categories</b><br><br><a href=\"javascript:void(0)\" class=\"cat-link\" data-bci=\"77368165\"><div>* Delivery Offered (99)</div></a>\\n<a href=\"javascript:void(0)\" class=\"cat-link\" data-bci=\"77365721\"><div>* Open For Business (405)</div></a>\\n<a href=\"javascript:void(0)\" class=\"cat-link\" data-bci=\"77366943\"><div>* Take Out or Curbside (170)</div></a>\\n<a href=\"javascript:void(0)\" class=\"cat-link\" data-bci=\"23299553\"><div>Accounting / Bookkeeping (3)</div></a>\\n<a href=\"javascript:void(0)\" class=\"cat-link\" data-bci=\"13736181\"><div>Advertising / Marketing / Branding (18)</div></a>\\n<a href=\"javascript:void(0)\" class=\"cat-link\" data-bci=\"61472389\"><div>Agriculture / Farming (2)</div></a>\\n<a href=\"javascript:void(0)\" class=\"cat-link\" data-bci=\"13737403\"><div>Aircraft / Airport (2)</div></a>\\n<a href=\"javascript:void(0)\" class=\"cat-link\" data-bci=\"68045527\"><div>Ambassadors (9)</div></a>\\n<a href=\"javascript:void(0)\" class=\"cat-link\" data-bci=\"59201913\"><div>Ambulance Service (1)</div></a>\\n<a href=\"javascript:void(0)\" class=\"cat-link\" data-bci=\"76391787\"><div>Apa'"
      ]
     },
     "execution_count": 11,
     "metadata": {},
     "output_type": "execute_result"
    }
   ],
   "source": [
    "html_page[11000:13000]"
   ]
  },
  {
   "cell_type": "code",
   "execution_count": 16,
   "id": "03614a85",
   "metadata": {},
   "outputs": [],
   "source": [
    "cat_link_locations = []\n",
    "loc = 0\n",
    "while loc != -1:\n",
    "    loc = html_page.find('cat-link', loc+1)\n",
    "    if loc!=-1:\n",
    "        cat_link_locations.append(loc)"
   ]
  },
  {
   "cell_type": "code",
   "execution_count": 17,
   "id": "e09ed767",
   "metadata": {},
   "outputs": [],
   "source": [
    "script_locations = []\n",
    "loc = 0\n",
    "while loc != -1:\n",
    "    loc = html_page.find('<script', loc+1)\n",
    "    if loc!=-1:\n",
    "        script_start = loc\n",
    "        script_end = html_page.find('</script',script_start)\n",
    "        script_locations.append((script_start,script_end))"
   ]
  },
  {
   "cell_type": "code",
   "execution_count": 18,
   "id": "8a7d3bf7",
   "metadata": {},
   "outputs": [
    {
     "data": {
      "text/plain": [
       "[(299, 414),\n",
       " (428, 549),\n",
       " (558, 634),\n",
       " (985, 1054),\n",
       " (1181, 1257),\n",
       " (1952, 2030),\n",
       " (2042, 2394),\n",
       " (2406, 2551),\n",
       " (2801, 2869),\n",
       " (37430, 55123),\n",
       " (55144, 55898)]"
      ]
     },
     "execution_count": 18,
     "metadata": {},
     "output_type": "execute_result"
    }
   ],
   "source": [
    "script_locations"
   ]
  },
  {
   "cell_type": "code",
   "execution_count": null,
   "id": "5c2a4bc4",
   "metadata": {},
   "outputs": [],
   "source": []
  },
  {
   "cell_type": "markdown",
   "id": "c53fe5bc",
   "metadata": {},
   "source": [
    " Setting up for selenium in case I cannot just get the info off the page."
   ]
  },
  {
   "cell_type": "code",
   "execution_count": null,
   "id": "6e424667",
   "metadata": {},
   "outputs": [],
   "source": [
    "#setting up the driver\n",
    "driver = webdriver.Chrome(service=Service(ChromeDriverManager().install()))"
   ]
  },
  {
   "cell_type": "code",
   "execution_count": null,
   "id": "f2658ea7",
   "metadata": {},
   "outputs": [],
   "source": [
    "#opening the page\n",
    "driver.get(\"https://www.chamberorganizer.com/members/directory/search_bootstrap.php?org_id=RCCC\")"
   ]
  }
 ],
 "metadata": {
  "kernelspec": {
   "display_name": "Python 3",
   "language": "python",
   "name": "python3"
  },
  "language_info": {
   "codemirror_mode": {
    "name": "ipython",
    "version": 3
   },
   "file_extension": ".py",
   "mimetype": "text/x-python",
   "name": "python",
   "nbconvert_exporter": "python",
   "pygments_lexer": "ipython3",
   "version": "3.9.5"
  }
 },
 "nbformat": 4,
 "nbformat_minor": 5
}
