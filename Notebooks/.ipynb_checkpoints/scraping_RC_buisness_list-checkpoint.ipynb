{
 "cells": [
  {
   "cell_type": "code",
   "execution_count": 1,
   "id": "34c2e1a7",
   "metadata": {},
   "outputs": [],
   "source": [
    "# importing what is needed\n",
    "import time\n",
    "import pandas as pd\n",
    "import requests\n",
    "from selenium import webdriver\n",
    "from selenium.webdriver.chrome.service import Service\n",
    "from selenium.webdriver.common.keys import Keys\n",
    "from selenium.webdriver.support.ui import Select\n",
    "from webdriver_manager.chrome import ChromeDriverManager\n",
    "\n",
    "# hide warnings\n",
    "import warnings\n",
    "warnings.filterwarnings('ignore')"
   ]
  },
  {
   "cell_type": "code",
   "execution_count": 2,
   "id": "c45ff7c8",
   "metadata": {},
   "outputs": [
    {
     "data": {
      "text/plain": [
       "200"
      ]
     },
     "execution_count": 2,
     "metadata": {},
     "output_type": "execute_result"
    }
   ],
   "source": [
    "#getting the page using requests\n",
    "status_code = 0\n",
    "count = 0\n",
    "while status_code!=200 and count < 5:\n",
    "    r = requests.get('https://www.chamberorganizer.com/members/directory/search_bootstrap.php?org_id=RCCC')\n",
    "    status_code = r.status_code\n",
    "    count += 1\n",
    "    time.sleep(5)\n",
    "status_code"
   ]
  },
  {
   "cell_type": "code",
   "execution_count": 3,
   "id": "cf4da23e",
   "metadata": {},
   "outputs": [],
   "source": [
    "html_page = r.text"
   ]
  },
  {
   "cell_type": "code",
   "execution_count": 4,
   "id": "ce3f8b2a",
   "metadata": {},
   "outputs": [
    {
     "name": "stdout",
     "output_type": "stream",
     "text": [
      "12035\n"
     ]
    }
   ],
   "source": [
    "loc = 0\n",
    "while loc != -1:\n",
    "    loc = html_page.find('Delivery Offered', loc+1)\n",
    "    if loc!=-1:\n",
    "        print(loc)"
   ]
  },
  {
   "cell_type": "code",
   "execution_count": 5,
   "id": "c6863f96",
   "metadata": {},
   "outputs": [
    {
     "data": {
      "text/plain": [
       "'\\t\\tfont-style: italic;\\r\\n\\t\\t}\\r\\n\\t\\t.second-line-name-mem\\r\\n\\t\\t{\\r\\n\\t\\t\\tfont-weight: bold;\\r\\n\\t\\t}\\r\\n\\t\\t.second-line-name-non\\r\\n\\t\\t{\\r\\n\\t\\t\\tfont-style: italic;\\r\\n\\t\\t}\\r\\n\\r\\n\\t</style>\\r\\n\\t\\n\\t\\t\\t<style>\\n\\t\\t\\t\\tdiv.col {\\n\\t\\t\\t\\t\\tdisplay: inline-block;\\n\\t\\t\\t\\t}\\n\\t\\t\\t\\tdiv.col-md-2 {\\n\\t\\t\\t\\t\\twidth: 16%;\\n\\t\\t\\t\\t}\\n\\t\\t\\t\\tdiv.col-md-4 {\\n\\t\\t\\t\\t\\twidth: 32%;\\n\\t\\t\\t\\t}\\n\\t\\t\\t\\tdiv.col-md-8 {\\n\\t\\t\\t\\t\\twidth: 64%;\\n\\t\\t\\t\\t}\\n\\t\\t\\t\\tdiv.col-md-12 {\\n\\t\\t\\t\\t\\twidth: 100%;\\n\\t\\t\\t\\t}\\n\\t\\t\\t</style><div class=\"col col-md-2\"></div><div class=\"col col-md-8\"><a target=\"_blank\" href=\"https://www.chamberorganizer.com/clickthru.php?ai=160016\"><img class=\"img-responsive\" src=\"http://chamberorganizer.com/ranchocordovachamber/photos/BNR_11344180505074145.PNG\" border=\"0\" style=\"margin: 0px auto;\"><br></a><br></div><div class=\"col col-md-2\"></div><div id=\"map_canvas\"></div>\\n\\t\\t\\t<div id=\"location_dialog\"></div><div class=\"row\" id=\"form-wrapper\">\\n\\t<div class = \"col col-md-12\">\\n<div class=\"col col-md-3 col-sm-3\" id=\"category-list\"><b>Business Categories</b><br><br><a href=\"javascript:void(0)\" class=\"cat-link\" data-bci=\"77368165\"><div>* Delivery Offered (99)</div></a>\\n<a href=\"javascript:void(0)\" class=\"cat-link\" data-bci=\"77365721\"><div>* Open For Business (405)</div></a>\\n<a href=\"javascript:void(0)\" class=\"cat-link\" data-bci=\"77366943\"><div>* Take Out or Curbside (170)</div></a>\\n<a href=\"javascript:void(0)\" class=\"cat-link\" data-bci=\"23299553\"><div>Accounting / Bookkeeping (3)</div></a>\\n<a href=\"javascript:void(0)\" class=\"cat-link\" data-bci=\"13736181\"><div>Advertising / Marketing / Branding (18)</div></a>\\n<a href=\"javascript:void(0)\" class=\"cat-link\" data-bci=\"61472389\"><div>Agriculture / Farming (2)</div></a>\\n<a href=\"javascript:void(0)\" class=\"cat-link\" data-bci=\"13737403\"><div>Aircraft / Airport (2)</div></a>\\n<a href=\"javascript:void(0)\" class=\"cat-link\" data-bci=\"68045527\"><div>Ambassadors (9)</div></a>\\n<a href=\"javascript:void(0)\" class=\"cat-link\" data-bci=\"59201913\"><div>Ambulance Service (1)</div></a>\\n<a href=\"javascript:void(0)\" class=\"cat-link\" data-bci=\"76391787\"><div>Apa'"
      ]
     },
     "execution_count": 5,
     "metadata": {},
     "output_type": "execute_result"
    }
   ],
   "source": [
    "html_page[11000:13000]"
   ]
  },
  {
   "cell_type": "code",
   "execution_count": 6,
   "id": "03614a85",
   "metadata": {},
   "outputs": [],
   "source": [
    "cat_link_locations = []\n",
    "loc = 0\n",
    "while loc != -1:\n",
    "    loc = html_page.find('cat-link', loc+1)\n",
    "    if loc!=-1:\n",
    "        cat_link_locations.append(loc)"
   ]
  },
  {
   "cell_type": "code",
   "execution_count": 7,
   "id": "e09ed767",
   "metadata": {},
   "outputs": [],
   "source": [
    "script_locations = []\n",
    "loc = 0\n",
    "while loc != -1:\n",
    "    loc = html_page.find('<script', loc+1)\n",
    "    if loc!=-1:\n",
    "        script_start = loc\n",
    "        script_end = html_page.find('</script',script_start)\n",
    "        script_locations.append((script_start,script_end))"
   ]
  },
  {
   "cell_type": "code",
   "execution_count": 9,
   "id": "1854e148",
   "metadata": {},
   "outputs": [
    {
     "data": {
      "text/plain": [
       "[11998,\n",
       " 12103,\n",
       " 12210,\n",
       " 12320,\n",
       " 12430,\n",
       " 12551,\n",
       " 12658,\n",
       " 12762,\n",
       " 12859,\n",
       " 12962,\n",
       " 13058,\n",
       " 13154,\n",
       " 13267,\n",
       " 13375,\n",
       " 13475,\n",
       " 13585,\n",
       " 13690,\n",
       " 13788,\n",
       " 13887,\n",
       " 13985,\n",
       " 14083,\n",
       " 14175,\n",
       " 14283,\n",
       " 14376,\n",
       " 14486,\n",
       " 14590,\n",
       " 14690,\n",
       " 14784,\n",
       " 14879,\n",
       " 14971,\n",
       " 15066,\n",
       " 15173,\n",
       " 15272,\n",
       " 15366,\n",
       " 15460,\n",
       " 15553,\n",
       " 15683,\n",
       " 15783,\n",
       " 15888,\n",
       " 15993,\n",
       " 16107,\n",
       " 16201,\n",
       " 16312,\n",
       " 16421,\n",
       " 16541,\n",
       " 16660,\n",
       " 16782,\n",
       " 16893,\n",
       " 16991,\n",
       " 17087,\n",
       " 17190,\n",
       " 17306,\n",
       " 17403,\n",
       " 17517,\n",
       " 17611,\n",
       " 17719,\n",
       " 17816,\n",
       " 17912,\n",
       " 18010,\n",
       " 18108,\n",
       " 18205,\n",
       " 18307,\n",
       " 18403,\n",
       " 18509,\n",
       " 18612,\n",
       " 18709,\n",
       " 18817,\n",
       " 18917,\n",
       " 19039,\n",
       " 19147,\n",
       " 19260,\n",
       " 19375,\n",
       " 19480,\n",
       " 19576,\n",
       " 19681,\n",
       " 19780,\n",
       " 19881,\n",
       " 19975,\n",
       " 20071,\n",
       " 20178,\n",
       " 20275,\n",
       " 20406,\n",
       " 20503,\n",
       " 20599,\n",
       " 20713,\n",
       " 20812,\n",
       " 20932,\n",
       " 21021,\n",
       " 21130,\n",
       " 21234,\n",
       " 21340,\n",
       " 21437,\n",
       " 21534,\n",
       " 21647,\n",
       " 21749,\n",
       " 21867,\n",
       " 21965,\n",
       " 22067,\n",
       " 22177,\n",
       " 22283,\n",
       " 22387,\n",
       " 22484,\n",
       " 22592,\n",
       " 22688,\n",
       " 22792,\n",
       " 22896,\n",
       " 23001,\n",
       " 23110,\n",
       " 23241,\n",
       " 23342,\n",
       " 23442,\n",
       " 23548,\n",
       " 23664,\n",
       " 23759,\n",
       " 23851,\n",
       " 23950,\n",
       " 24058,\n",
       " 24157,\n",
       " 24252,\n",
       " 24355,\n",
       " 24454,\n",
       " 24547,\n",
       " 24641,\n",
       " 24740,\n",
       " 24847,\n",
       " 24955,\n",
       " 25063,\n",
       " 25167,\n",
       " 25271,\n",
       " 25373,\n",
       " 25493,\n",
       " 25592,\n",
       " 25726,\n",
       " 25844,\n",
       " 25943,\n",
       " 26037,\n",
       " 26150,\n",
       " 26250,\n",
       " 26352,\n",
       " 26450,\n",
       " 26548,\n",
       " 26663,\n",
       " 26760,\n",
       " 26851,\n",
       " 26945,\n",
       " 27048,\n",
       " 27142,\n",
       " 27245,\n",
       " 27365,\n",
       " 27465,\n",
       " 27567,\n",
       " 27665,\n",
       " 27776,\n",
       " 27887,\n",
       " 27999,\n",
       " 28095,\n",
       " 28190,\n",
       " 28301,\n",
       " 28429,\n",
       " 28547,\n",
       " 28655,\n",
       " 28753,\n",
       " 28850,\n",
       " 28952,\n",
       " 29057,\n",
       " 29161,\n",
       " 29254,\n",
       " 29346,\n",
       " 29451,\n",
       " 29558,\n",
       " 29652,\n",
       " 29773,\n",
       " 29874,\n",
       " 29980,\n",
       " 30072,\n",
       " 30170,\n",
       " 30285,\n",
       " 30385,\n",
       " 30489,\n",
       " 30591,\n",
       " 30688,\n",
       " 30792,\n",
       " 30893,\n",
       " 30997,\n",
       " 31099,\n",
       " 31193,\n",
       " 31302,\n",
       " 31394,\n",
       " 31489,\n",
       " 31587,\n",
       " 31684,\n",
       " 31784,\n",
       " 31884,\n",
       " 31989,\n",
       " 32101,\n",
       " 32200,\n",
       " 46972,\n",
       " 47071,\n",
       " 48434]"
      ]
     },
     "execution_count": 9,
     "metadata": {},
     "output_type": "execute_result"
    }
   ],
   "source": [
    "cat_link_locations"
   ]
  },
  {
   "cell_type": "code",
   "execution_count": 8,
   "id": "8a7d3bf7",
   "metadata": {},
   "outputs": [
    {
     "data": {
      "text/plain": [
       "[(299, 414),\n",
       " (428, 549),\n",
       " (558, 634),\n",
       " (985, 1054),\n",
       " (1181, 1257),\n",
       " (1952, 2030),\n",
       " (2042, 2394),\n",
       " (2406, 2551),\n",
       " (2801, 2869),\n",
       " (37430, 55123),\n",
       " (55144, 55898)]"
      ]
     },
     "execution_count": 8,
     "metadata": {},
     "output_type": "execute_result"
    }
   ],
   "source": [
    "script_locations"
   ]
  },
  {
   "cell_type": "code",
   "execution_count": 10,
   "id": "5c2a4bc4",
   "metadata": {},
   "outputs": [
    {
     "data": {
      "text/plain": [
       "[(37430, 55123)]"
      ]
     },
     "execution_count": 10,
     "metadata": {},
     "output_type": "execute_result"
    }
   ],
   "source": [
    "scripts_to_look_at = []\n",
    "for num in cat_link_locations:\n",
    "    i = 0\n",
    "    while i < len(script_locations) and (num < script_locations[i][0] or num > script_locations[i][1]):\n",
    "        i += 1\n",
    "    if i != len(script_locations):\n",
    "        if script_locations[i] not in scripts_to_look_at:\n",
    "            scripts_to_look_at.append(script_locations[i])\n",
    "scripts_to_look_at"
   ]
  },
  {
   "cell_type": "code",
   "execution_count": 11,
   "id": "10682a4e",
   "metadata": {},
   "outputs": [
    {
     "data": {
      "text/plain": [
       "'<script type=\"text/javascript\">\\n\\t// make on-click work in iPhone\\n\\t// https://stackoverflow.com/questions/18914568/make-onclick-work-on-iphone\\n\\t// First we check if you support touch, otherwise it\\'s click:\\n\\n\\t//for some reason, on some browsers this doesn\\'t work after a while, and causes the search to stop working\\n\\t//at least until they clear history.\\n\\tvar touchEvent = \\'ontouchstart\\' in window ? \\'touchstart\\' : \\'click\\';\\n\\t//var touchEvent = \\'click\\';\\n\\n\\t$(document).ready(function(){\\n\\t\\tequalHeight($(\".exp-link\"));\\n\\t\\tequalWidth($(\".multiselect-fields\"));\\n\\n\\t\\n\\t\\t$(\\'div#infoIconModal\\').dialog({\\n\\t\\t\\tautoOpen: false,\\n\\t\\t\\theight: \\'auto\\',\\n\\t\\t\\twidth: \\'auto\\',\\n\\t\\t\\tmodal: true,\\n\\t\\t\\ttitle: \\'More Info\\'\\n\\t\\t});\\n\\t});\\n\\n\\t\\t\\tvar map;\\n\\t\\t\\tvar markersArray = [];\\n\\t\\t\\tvar markerCluster;\\n\\n\\t\\t\\tfunction initialize() {\\n\\t\\t\\t\\tmap = new google.maps.Map(document.getElementById(\"map_canvas\"), {\\n\\t\\t\\t\\t\\tscrollwheel: true,\\n\\t\\t\\t\\t\\tzoom: 7,\\n\\t\\t\\t\\t\\tcenter: new google.maps.LatLng(38.596112, -121.296967),\\n\\t\\t\\t\\t\\tmapTypeId: \\'roadmap\\'\\n\\t\\t\\t\\t});\\n\\t\\t\\t\\tmap.setTilt(45);\\n\\t\\t\\t\\t\\n\\t\\t\\t\\tvar options = {\\n\\t\\t\\t\\t\\timagePath: \\'//viethconsulting.com/members/googlemaps/images/m\\', \\n\\t\\t\\t\\t\\tmaxZoom: 17\\n\\t\\t\\t\\t};\\n\\t\\t\\t\\tmarkerCluster = new MarkerClusterer(map, markersArray, options);\\n\\t\\t\\t}\\n\\n\\t\\t\\tfunction addMarkers() {\\n\\t\\t\\t\\t//center map around markers\\n\\t\\t\\t\\tvar bounds = new google.maps.LatLngBounds();\\n\\t\\t\\t\\tvar buttonNum = getButtonNum(); \\t\\t\\t\\t\\t\\tvar searchValues = getSearchValues(); \\t\\t\\t\\t\\t// clearMarkersArray();\\n\\t\\t\\t\\t// markerCluster.clearMarkers();\\n\\t\\t\\t\\t$.ajax({\\n\\t\\t\\t\\t\\ttype: \"POST\",\\n\\t\\t\\t\\t\\turl: \\'search_bootstrap_ajax.php?org_id=RCCC\\',\\n\\t\\t\\t\\t\\tdata: {\\'GMapFunction\\':\\'addMarkers\\', \\'buttonNum\\':buttonNum, \\'searchValues\\':searchValues},\\n\\t\\t\\t\\t\\tdataType: \\'json\\'\\n\\t\\t\\t\\t}).done( function( ajaxResults ) {\\n\\t\\t\\t\\t\\t//loop through json results\\n\\t\\t\\t\\t\\t$.each(ajaxResults, function(member_id, mark) {\\n\\t\\t\\t\\t\\t\\t//this will make a variable with the correct LatLng format\\n\\t\\t\\t\\t\\t\\tvar loc = new google.maps.LatLng(mark.lat, mark.lng);\\n\\t\\t\\t\\t\\t\\tif(mark.icon == \\'green\\'){\\n\\t\\t\\t\\t\\t\\t\\tvar icon = \\'https://www.chamberorganizer.com/members/googlemaps/markers/green-dot.png\\';\\n\\t\\t\\t\\t\\t\\t} else if(mark.icon == \\'red\\') {\\n\\t\\t\\t\\t\\t\\t\\tvar icon = \\'https://www.chamberorganizer.com/members/googlemaps/markers/red-dot.png\\';\\n\\t\\t\\t\\t\\t\\t} else if(mark.icon == \\'yellow\\') {\\n\\t\\t\\t\\t\\t\\t\\tvar icon = \\'https://www.chamberorganizer.com/members/googlemaps/markers/yellow-dot.png\\';\\n\\t\\t\\t\\t\\t\\t} else if(mark.icon == \\'purple\\') {\\n\\t\\t\\t\\t\\t\\t\\tvar icon = \\'https://www.chamberorganizer.com/members/googlemaps/markers/purple-dot.png\\';\\n\\t\\t\\t\\t\\t\\t} else if(mark.icon == \\'orange\\') {\\n\\t\\t\\t\\t\\t\\t\\tvar icon = \\'https://www.chamberorganizer.com/members/googlemaps/markers/orange-dot.png\\';\\n\\t\\t\\t\\t\\t\\t} else if(mark.icon == \\'white\\') {\\n\\t\\t\\t\\t\\t\\t\\tvar icon = \\'https://www.chamberorganizer.com/members/googlemaps/markers/white-dot.png\\';\\n\\t\\t\\t\\t\\t\\t} else {\\n\\t\\t\\t\\t\\t\\t\\tvar icon = \\'https://www.chamberorganizer.com/members/googlemaps/markers/blue-dot.png\\';\\n\\t\\t\\t\\t\\t\\t}\\n\\t\\t\\t\\t\\t\\t//make marker\\n\\t\\t\\t\\t\\t\\tmarker = new google.maps.Marker({\\n\\t\\t\\t\\t\\t\\t\\tposition: loc,\\n\\t\\t\\t\\t\\t\\t\\tmap: map,\\n\\t\\t\\t\\t\\t\\t\\t//animation: google.maps.Animation.DROP,\\n\\t\\t\\t\\t\\t\\t\\ticon: icon,\\n\\t\\t\\t\\t\\t\\t\\tid: \\'markerID-\\'+member_id,\\n\\t\\t\\t\\t\\t\\t\\t\\'class\\': mark.icon+\\'-dot\\',\\n\\t\\t\\t\\t\\t\\t\\ttitle: mark.title\\n\\t\\t\\t\\t\\t\\t});\\n\\t\\t\\t\\t\\t\\t//center map around markers\\n\\t\\t\\t\\t\\t\\tbounds.extend(marker.position);\\n\\t\\t\\t\\t\\t\\tgoogle.maps.event.addListener(marker, \\'click\\', function() {\\n\\t\\t\\t\\t\\t\\t\\tvar data = {\\'class\\':this.class};\\n\\t\\t\\t\\t\\t\\t\\tviewLocation(this.id, data);\\n\\t\\t\\t\\t\\t\\t});\\n\\t\\t\\t\\t\\t\\t//add to markers array so we can remove it later\\n\\t\\t\\t\\t\\t\\tmarkersArray.push(marker);\\n\\t\\t\\t\\t\\t});\\n\\t\\t\\t\\t\\tvar options = {\\n\\t\\t\\t\\t\\t\\timagePath: \\'//viethconsulting.com/members/googlemaps/images/m\\', \\n\\t\\t\\t\\t\\t\\tmaxZoom: 17\\n\\t\\t\\t\\t\\t};\\n\\t\\t\\t\\t\\tmarkerCluster = new MarkerClusterer(map, markersArray, options);\\n\\t\\t\\t\\t\\t\\n\\t\\t\\t\\t\\t// Don\\'t zoom in too far on only one marker\\n\\t\\t\\t\\t\\tif (bounds.getNorthEast().equals(bounds.getSouthWest())) {\\n\\t\\t\\t\\t\\t   var extendPoint1 = new google.maps.LatLng(bounds.getNorthEast().lat() + 0.01, bounds.getNorthEast().lng() + 0.01);\\n\\t\\t\\t\\t\\t   var extendPoint2 = new google.maps.LatLng(bounds.getNorthEast().lat() - 0.01, bounds.getNorthEast().lng() - 0.01);\\n\\t\\t\\t\\t\\t   bounds.extend(extendPoint1);\\n\\t\\t\\t\\t\\t   bounds.extend(extendPoint2);\\n\\t\\t\\t\\t\\t}\\n\\t\\t\\t\\t\\t//center map around markers\\n\\t\\t\\t\\t\\tmap.fitBounds(bounds);\\n\\t\\t\\t\\t});\\n\\t\\t\\t}\\n\\n\\t\\t\\t//clear markers off the maps\\n\\t\\t\\tfunction clearMarkersFromMap() {\\n\\t\\t\\t\\tfor (var i = 0; i < markersArray.length; i++ ) {\\n\\t\\t\\t\\t\\tmarkersArray[i].setMap(null);\\n\\t\\t\\t\\t}\\n\\t\\t\\t\\tmarkerCluster.clearMarkers();\\t\\n\\t\\t\\t}\\n\\t\\t\\t\\n\\t\\t\\t// Removes the markers from the array.\\n\\t\\t\\tfunction clearMarkersArray() {\\n\\t\\t\\t\\tmarkersArray = [];\\n\\t\\t\\t}\\n\\n\\t\\t\\tfunction clearMarkers() {\\n\\t\\t\\t\\tclearMarkersFromMap();\\n\\t\\t\\t\\tclearMarkersArray();\\n\\t\\t\\t}\\n\\n\\t\\t\\tfunction viewOnMap(lat, lng){\\n\\t\\t\\t\\t$(\\'html,body\\').animate({\\n\\t\\t\\t\\t\\tscrollTop: ($(\\'#map_canvas\\').offset().top - 10)\\n\\t\\t\\t\\t}, function(){\\n\\t\\t\\t\\t\\tvar bounds = new google.maps.LatLngBounds();\\n\\t\\t\\t\\t\\tvar loc = new google.maps.LatLng(lat, lng);\\n\\t\\t\\t\\t\\tbounds.extend(loc);\\n\\t\\t\\t\\t\\t// Don\\'t zoom in too far on only one marker\\n\\t\\t\\t\\t\\tif (bounds.getNorthEast().equals(bounds.getSouthWest())) {\\n\\t\\t\\t\\t\\t   var extendPoint1 = new google.maps.LatLng(bounds.getNorthEast().lat() + 0.01, bounds.getNorthEast().lng() + 0.01);\\n\\t\\t\\t\\t\\t   var extendPoint2 = new google.maps.LatLng(bounds.getNorthEast().lat() - 0.01, bounds.getNorthEast().lng() - 0.01);\\n\\t\\t\\t\\t\\t   bounds.extend(extendPoint1);\\n\\t\\t\\t\\t\\t   bounds.extend(extendPoint2);\\n\\t\\t\\t\\t\\t}\\n\\t\\t\\t\\t\\t//center map around markers\\n\\t\\t\\t\\t\\tmap.fitBounds(bounds);\\n\\t\\t\\t\\t});\\n\\t\\t\\t}\\n\\n\\t\\t\\tfunction viewLocation(member_id, data) {\\n\\t\\t\\t\\tif(data === undefined){\\n\\t\\t\\t\\t\\tdata = []; // this is because IE doesn\\'t support default arguments. Morons. \\n\\t\\t\\t\\t}\\t\\t\\t\\t\\n\\t\\t\\t\\t$.ajax({\\n\\t\\t\\t\\t\\ttype: \"POST\",\\n\\t\\t\\t\\t\\turl: \\'search_bootstrap_ajax.php?org_id=RCCC\\',\\n\\t\\t\\t\\t\\tdata: {\\'GMapFunction\\':\\'viewLocation\\', \\'member_id\\':member_id, \\'data\\':data},\\n\\t\\t\\t\\t\\tdataType: \\'html\\'\\n\\t\\t\\t\\t}).done( function( ajaxResults ){\\n\\t\\t\\t\\t\\t$(\\'#location_dialog\\').html( ajaxResults );\\n\\t\\t\\t\\t\\t$(\\'#location_dialog\\').dialog(\\'option\\',\\'buttons\\',[\\n\\t\\t\\t\\t\\t\\t{ text: \"Close\", click: function() { $( this ).dialog( \"close\" ); } }\\n\\t\\t\\t\\t\\t]);\\n\\t\\t\\t\\t\\t$(\\'#location_dialog\\').dialog(\\'open\\');\\n\\t\\t\\t\\t});\\n\\t\\t\\t}\\n\\n\\t\\t\\t$(\\'#location_dialog\\').dialog({\\n\\t\\t\\t\\tautoOpen: false,\\n\\t\\t\\t\\theight: \\'auto\\',\\n\\t\\t\\t\\twidth: \\'auto\\',\\n\\t\\t\\t\\tmodal: true,\\n\\t\\t\\t\\ttitle: \\'Location Information\\',\\n\\t\\t\\t});\\n\\n\\t\\t\\n\\t$(document).on(touchEvent, \"a.prevent-default\", function(event){ // touchEvent: make on-click work in iPhone\\n\\t\\tevent.preventDefault();\\n\\t\\tIdNum = $(this).attr(\\'id\\').replace(\\'sr-\\', \\'\\');\\n\\t\\tslideUpSlideDown(IdNum);\\n\\t});\\n\\n\\t$(document).on(touchEvent, \"a.additional-contacts\", function(event){ // touchEvent: make on-click work in iPhone\\n\\t\\tevent.preventDefault();\\n\\t\\tIdNum = $(this).attr(\\'id\\').replace(\\'sr-\\', \\'\\');\\n\\t\\tslideUpSlideDownXref(IdNum);\\n\\t});\\n\\n\\t$(document).on(touchEvent, \"a#search-again\", function(event){ // touchEvent: make on-click work in iPhone\\n\\t\\tevent.preventDefault();\\n\\t\\tclearBCI();\\n\\t\\tclearMarkers();\\n\\t\\t// $(\"div#map_canvas\").slideUp(\\'slow\\');\\n\\t\\t$(\"div#results-wrapper\").slideUp(\\'slow\\');\\n\\t\\t$(\\'div#search-fields\\').slideDown(\\'slow\\');\\n\\t\\t$(\\'div#category-list\\').slideDown(\\'slow\\'); // only effective when isMobile\\n\\t\\tequalWidth($(\".multiselect-fields\"));\\n\\t});\\n\\n\\n\\t$(document).on(\\'change\\', \\'#product_category\\', function() {\\n\\t\\tvar prod_cat = $(this).val();\\n\\n\\t\\t$(\\'#product_type\\').find(\\'option\\').remove();\\n\\t\\t$(\\'#product_type\\').append(\\'<option value=\"\">-- Any --</option>\\');\\n\\n\\t\\tif(prod_cat == \\'ALL\\'){\\n\\t\\t\\tprod_cat = \\'\\'; // fix ajax bug\\n\\t\\t}\\n\\t\\tconsole.log(prod_cat);\\n\\t\\t$.post(\\'ajaxDirectoryValues.php\\',\\n\\t\\t\\t{ org_id: \\'RCCC\\', type: \\'product_category\\', product_category: prod_cat} )\\n\\t\\t\\t.success( function(data) {\\n\\t\\t\\t\\tconsole.log(data);\\n\\t\\t\\t\\tvar obj = jQuery.parseJSON(data);\\n\\t\\t\\t\\t$.each(obj, function(key,value) {\\n\\t\\t\\t\\t\\t$(\\'#product_type\\').append(\\'<option value=\"\\' + key + \\'\">\\' + value + \\'</option>\\');\\n\\t\\t\\t\\t});\\n\\t\\t\\t});\\n\\t});\\n\\n\\tfunction slideUpSlideDown(IdNum) {\\n\\t\\t$(\"div.hidden-info\").slideUp(\\'slow\\');\\n\\t\\tif(window.IdNumber != IdNum) {\\n\\t\\t\\t$(\\'div#hiddeninfo-\\'+IdNum).slideDown(\\'slow\\');\\n\\t\\t\\twindow.IdNumber = IdNum;\\n\\t\\t} else {\\n\\t\\t\\twindow.IdNumber = 0;\\n\\t\\t}\\n\\t}\\n\\tfunction slideUpSlideDownXref(IdNum) {\\n\\t\\t$(\"div.additional-mems\").slideUp(\\'slow\\');\\n\\t\\tif(window.IdNumber != IdNum) {\\n\\t\\t\\t$(\\'div#additionalmems-\\'+IdNum).slideDown(\\'slow\\');\\n\\t\\t\\twindow.IdNumber = IdNum;\\n\\t\\t} else {\\n\\t\\t\\twindow.IdNumber = 0;\\n\\t\\t}\\n\\t}\\n\\n\\t// makes text inputs act like they\\'re in a form\\n\\t$(document).on(\\'keyup\\', \\'input[type=text]\\', function(e){\\n\\t\\tif (e.keyCode == 13) { // enter key\\n\\t\\t\\tsearchAJAX(\\'B1\\');\\n\\t\\t}\\n\\t});\\n\\n\\tfunction equalHeight(group) {\\n\\t\\tvar tallest = 0;\\n\\t\\tgroup.each(function() {\\n\\t\\t\\tvar thisHeight = $(this).height();\\n\\t\\t\\tif(thisHeight > tallest) {\\n\\t\\t\\t\\ttallest = thisHeight;\\n\\t\\t\\t}\\n\\t\\t});\\n\\t\\tgroup.css(\\'min-height\\', tallest+\\'px\\');\\n\\t}\\n\\n\\tfunction equalWidth(group) {\\n\\t\\tvar widest = 0;\\n\\t\\tgroup.each(function() {\\n\\t\\t\\tvar thisWidth = $(this).width();\\n\\t\\t\\tif(thisWidth > widest) {\\n\\t\\t\\t\\twidest = thisWidth;\\n\\t\\t\\t}\\n\\t\\t});\\n\\t\\twidest = widest + 4; // making up for the border\\n\\t\\tgroup.css(\\'min-width\\', widest+\\'px\\');\\n\\t}\\n\\n\\t$(document).on(touchEvent, \\'#clear_form\\', function(){ // touchEvent: make on-click work in iPhone\\n\\t\\tclearForm();\\n\\t});\\n\\n\\tfunction clearForm(){\\n\\t\\t$(\\'input:not(:checkbox):not([name=bci]):not([name=ensemble]).search-field\\').val(\\'\\');\\n\\t\\t$(\\'input[type=checkbox].search-field\\').attr(\\'checked\\', false);\\n\\t\\t$(\\'select.search-field\\').val(\\'\\');\\n\\t\\t$(\\'textarea.search-field\\').val(\\'\\');\\n\\t\\t$(\\'select[name=zip_range]\\').val(\\'5\\');\\n\\n\\t\\t$(\\'input[name=ensemble]\\').val(\\'0\\');\\n\\t\\t$(\\'a.ensemble-link\\').removeClass(\\'selcatLink\\');\\n\\t\\tclearBCI();\\n\\t}\\n\\n\\t$(document).on(touchEvent, \\'div.page-number\\', function(){ // touchEvent: make on-click work in iPhone\\n\\t\\tsearchAJAX($(this).attr(\\'data-buttonnum\\'), 1); // sameSearch so clicking page-number buttons will not decrement search_bootstrap_pay_per_search numbers\\n\\t});\\n\\n\\t$(document).on(touchEvent, \\'a.cat-link\\', function(){\\n\\t\\tclearForm();\\n\\t\\t$(\\'input[name=bci]\\').val($(this).attr(\\'data-bci\\'));\\n\\t\\t$(\\'a.cat-link\\').removeClass(\\'selcatLink\\');\\n\\t\\t$(this).addClass(\\'selcatLink\\');\\n\\t\\tsearchAJAX(\\'B1\\');\\n\\t\\tsetTimeout(function () {\\n\\t\\t\\t$(\\'html, body\\').animate({\\n\\t\\t\\t\\tscrollTop: ($(\\'div#results-wrapper\\').offset().top)\\n\\t\\t\\t});\\n\\t\\t}, 1500); // wait for the map to finish before locating top of #results-wrapper and scrolling there\\n\\t});\\n\\n\\t$(document).on(touchEvent, \\'input#nocrit\\', function(){ //WSPA combo clear/submit button\\n\\t\\tclearForm();\\n\\t\\tsearchAJAX(\\'B1\\');\\n\\t});\\n\\n\\t//MAGA ensemble to act like business cats\\n\\t$(document).on(touchEvent, \\'a.ensemble-link\\', function(){\\n\\t\\t$(\\'input[name=ensemble]\\').val($(this).attr(\\'data-ensemble\\'));\\n\\t\\t$(\\'a.ensemble-link\\').removeClass(\\'selcatLink\\');\\n\\t\\t$(this).addClass(\\'selcatLink\\');\\n\\t\\tsearchAJAX(\\'B1\\');\\n\\t\\tsetTimeout(function () {\\n\\t\\t\\t$(\\'html, body\\').animate({\\n\\t\\t\\t\\tscrollTop: ($(\\'div#results-wrapper\\').offset().top)\\n\\t\\t\\t});\\n\\t\\t}, 1500); // wait for the map to finish before locating top of #results-wrapper and scrolling there\\n\\t});\\n\\n\\t$(document).on(touchEvent, \\'a.order-link\\', function(){\\n\\t\\t$(\\'input[name=orderby]\\').val(\\'nonrandom\\');\\n\\t\\tsearchAJAX(\\'B1\\');\\n\\t});\\n\\n\\t$(document).on(touchEvent, \\'#search_button\\', function(){ // touchEvent: make on-click work in iPhone\\n\\t\\tclearBCI();\\n\\t\\tsearchAJAX(\\'B1\\');\\n\\t});\\n\\n\\tfunction getButtonNum() { // only used by map functions\\n\\t\\treturn window.buttonNum;\\n\\t}\\n\\n\\tfunction clearBCI(){\\n\\t\\t$(\\'input[name=bci]\\').val(\\'0\\');\\n\\t\\t$(\\'a.cat-link\\').removeClass(\\'selcatLink\\');\\n\\t}\\n\\n\\tfunction getSearchValues(){\\n\\t\\tvar searchValues = {\\n\\t\\t\\tbci: $(\\'input[name=bci].search-field\\').val(),\\n\\t\\t\\trtk: $(\\'input[name=rtk].search-field\\').val(),\\n\\t\\t\\torder: $(\\'input[name=orderby].search-field\\').val(),\\n\\t\\t\\tkeyword: $(\\'input[name=keyword].search-field\\').val(),\\n\\t\\t\\tbusiness_name: $(\\'input[name=business_name].search-field\\').val(),\\n\\t\\t\\tcity_name: $(\\'input[name=city_name].search-field\\').val(),\\n\\t\\t\\tstate_code: $(\\'select[name=state_code].search-field\\').val(),\\n\\t\\t\\tcountry_name: $(\\'select[name=country_name].search-field\\').val(),\\n\\t\\t\\tproduct_type: $(\\'select[name=product_type].search-field\\').val(),\\n\\t\\t\\tproduct_category: $(\\'select[name=product_category].search-field\\').val(),\\n\\t\\t\\tzip_code: $(\\'input[name=zip_code].search-field\\').val(),\\n\\t\\t\\tzip_range: $(\\'select[name=zip_range].search-field\\').val(),\\n\\t\\t\\taux_admin_sel_1: $(\\'select[name=aux_admin_sel_1].search-field\\').val(),\\n\\t\\t\\taux_ms_10: $(\\'select[name=AAPF_disciplines].search-field\\').val(),\\n\\t\\t\\tmentorMentee: $(\"select[name=mentorMentee]\").val(),\\n\\t\\t\\taddress: $(\\'input[name=address].search-field\\').val(),\\n\\t\\t\\tposition: $(\\'input[name=position_search].search-field\\').val(),\\n\\t\\t\\tmem_type: $(\\'select[name=member_type].search-field\\').val(),\\n\\t\\t\\t\\t\\t\\tlatitude: \"42.2853\",\\n\\t\\t\\tlongitude: \"-87.9532\",\\n\\t\\t\\tsgid: \"\",\\n\\t\\t\\tmdc_vendor: \"\",\\n\\t\\t\\tglac_welcome: \"\",\\n\\t\\t\\texp_type: \"\",\\n\\t\\t\\tfavis: \"\",\\n\\t\\t\\tataaCert: \"\",\\n\\t\\t\\tbusi: \"\",\\n\\t\\t\\tpre: \"\",\\n\\t\\t\\tnc: \"\",\\n\\t\\t\\tofc: \"\",\\n\\t\\t\\taoppspons: \"\",\\n\\t\\t\\ttexobroker: \"\",\\n\\t\\t\\tistalabs: \"\",\\n\\t\\t\\taahs_legis: \"\",\\n\\t\\t\\taahs_trials: \"\",\\n\\t\\t\\taahs_research: \"\",\\n\\t\\t\\taahs_support: \"\",\\n\\t\\t\\tadsm_mem_dir: \"\",\\n\\t\\t\\taliv_vep_dir: \"\",\\n\\t\\t\\tbrch_quincy: \"\",\\n\\t\\t\\tiapr_mem_dir: \"\",\\n\\t\\t\\tboma_mem_dir: \"\",\\n\\t\\t\\tiale_agency: $(\\'input[name=agency_search].search-field\\').val(),\\n\\t\\t\\tbkhl_child: $(\\'input[name=bkhl_child].search-field\\').val(),\\n\\t\\t\\tphone_search: $(\\'input[name=phone_search].search-field\\').val(),\\n\\t\\t\\tnear_me_override: $(\\'input[name=near_me_override]:checked\\').val(),\\n\\t\\t\\tproj_comm: $(\\'select[name=proj_comm].search-field\\').val(),\\n\\t\\t\\tispe_type: $(\\'select[name=ispe_type].search-field\\').val(),\\n\\t\\t\\tmaga_type: $(\\'select[name=maga_type].search-field\\').val(),\\n\\t\\t\\ttxca_gender: $(\\'select[name=gender].search-field\\').val(),\\n\\t\\t\\tensemble: $(\\'input[name=ensemble].search-field\\').val(),\\n\\t\\t\\tntrc_residential: \"\",\\n\\t\\t\\tntrc_commercial: \"\",\\n\\t\\t\\tntrc_associate: \"\",\\n\\t\\t\\ttxca_speaker: \"\",\\n\\t\\t\\ttxca_therapist: \"\",\\n\\t\\t\\tnyed_pub: \"\",\\n\\t\\t\\twisp_mem_dir: \"\",\\n\\t\\t\\twisp_vend: \"\",\\n\\t\\t\\tsfla_cert: \"\",\\n\\t\\t\\tlcda_mem_dir: \"\",\\n\\t\\t\\temployer_only: $(\\'input[name=employer_only].search-field\\').val(),\\n\\t\\t\\tohsa_county: \"\",\\n\\t\\t\\tohsa_street: $(\\'input[name=address].search-field\\').val(),\\n\\t\\t\\tdynamic_field_discipline: $(\\'select[name=dynamic_field_discipline].search-field\\').val(),\\n\\t\\t\\talp_mem_dir : \"\",\\n\\t\\t\\twspa_pro_bono: \"\",\\n\\t\\t\\tsbpps_id: \"\",\\n\\t\\t\\tview_all_override: \"\",\\n\\n\\t\\t\\t\\t\\t}\\n\\n\\t\\tif($(\\'input[name=WVOP_DECC]\\').prop(\\'checked\\')){\\n\\t\\t\\tsearchValues[\\'WVOP_DECC\\'] = \\'X\\';\\n\\t\\t}\\n\\t\\tif($(\\'input[name=lasc_print]\\').prop(\\'checked\\')){\\n\\t\\t\\tsearchValues[\\'lasc_print\\'] = \\'X\\';\\n\\t\\t}\\n\\n\\t\\t\\n\\t\\treturn searchValues;\\n\\t}\\n\\n\\tfunction searchAJAX(buttonNum, sameSearch){  // sameSearch so clicking page-number buttons will not decrement search_bootstrap_pay_per_search numbers\\n\\t\\t$(\\'div.loadingGif\\').slideDown();\\n\\t\\twindow.buttonNum = buttonNum;\\n\\t\\tif(sameSearch != 1){\\n\\t\\t\\tsameSearch = 0;\\n\\t\\t}\\n\\t\\t$.ajax({\\n\\t\\t\\ttype: \"POST\",\\n\\t\\t\\turl: \\'search_bootstrap_ajax.php?org_id=RCCC\\',\\n\\t\\t\\tdata: {\\'buttonNum\\':buttonNum, \\'searchValues\\':getSearchValues(), \\'two_column\\':\\'\\', \\'sameSearch\\':sameSearch }\\n\\t\\t\\t}).done( function( ajaxResults ){\\n\\t\\t\\t\\t$(\\'div.loadingGif\\').slideUp();\\n\\t\\t\\t\\t$(\\'div#results-wrapper\\').html(ajaxResults);\\n\\t\\t\\t\\t$(\\'div#search-fields\\').slideUp(\\'slow\\');\\n\\t\\t\\t\\t$(\\'div#results-wrapper\\').slideDown(\\'slow\\');\\n\\t\\t\\t\\t\\tgetGroup();\\n\\t\\t\\n\\t\\t\\t});\\n\\t\\t\\t$(\\'div#map_canvas\\').slideDown(\\'slow\\');\\n\\t\\tif(window.mapOut != true){\\n\\t\\t\\tsetTimeout(function () { // leave enough time for the map_canvas to slideDown before creating map\\n\\t\\t\\t\\tinitialize();\\n\\t\\t\\t\\taddMarkers();\\n\\t\\t\\t},1000);\\n\\t\\t\\twindow.mapOut = true;\\n\\t\\t} else {\\n\\t\\t\\tclearMarkers();\\n\\t\\t\\taddMarkers();\\n\\t\\t}\\n\\t\\t}\\n\\n\\tfunction openInfoIconModal(){\\n\\t\\t$(\\'div#infoIconModal\\').dialog(\\'option\\', \\'buttons\\', [\\n\\t\\t\\t{\\n\\t\\t\\t\\ttext: \\'Close\\',\\n\\t\\t\\t\\tclick: function(){\\n\\t\\t\\t\\t\\t$(\\'div#infoIconModal\\').dialog(\\'close\\');\\n\\t\\t\\t\\t}\\n\\t\\t\\t}\\n\\t\\t]);\\n\\t\\t$(\\'div#infoIconModal\\').dialog(\\'open\\');\\n\\t}\\n\\n\\tfunction infoIconAJAX(mid){\\n\\t\\t//console.log(mid);\\n\\t\\t$.ajax({\\n\\t\\t\\ttype: \"POST\",\\n\\t\\t\\turl: \\'search_bootstrap_ajax.php?org_id=RCCC\\',\\n\\t\\t\\tdata: {\\'infoIcon\\':mid}\\n\\t\\t\\t}).done( function( ajaxResults ){\\n\\t\\t\\t\\t//console.log(ajaxResults);\\n\\t\\t\\t\\t$(\\'div#infoIconModal\\').html(ajaxResults);\\n\\t\\t\\t\\topenInfoIconModal();\\n\\t\\t\\t});\\n\\t}\\n\\t//near me loc grab\\n\\t\\tfunction initGeolocation() {\\n\\t\\tif (navigator && navigator.geolocation) {\\n\\t\\t\\tnavigator.geolocation.getCurrentPosition(successCallback, errorCallback);\\n\\t\\t} else {\\n\\t\\t\\tconsole.log(\\'Geolocation is not supported\\');\\n\\t\\t}\\n\\t}\\n\\n\\tfunction errorCallback() {\\n\\n\\t\\t$(\"#method\").html(\\'navigator not avail, us IP method\\');\\n\\t\\t$(\"#lat\").html(\\'lat:\\' + \\'\\');\\n\\t\\t$(\"#lon\").html(\\'lat:\\' + \\'\\');\\n\\n\\t}\\n\\n\\tfunction successCallback(position) {\\n\\t\\t$(\"#method\").html(\\'navigator method used.\\');\\n\\t\\t$(\"#lat\").html(\\'lat:\\' + position.coords.latitude);\\n\\t\\t$(\"#lon\").html(\\'lat:\\' + position.coords.longitude);\\n\\n\\t}\\n\\tinitGeolocation();\\n\\t//end near me loc grab\\n\\t\\n\\t//equal height\\n\\tfunction getGroup(){\\n\\t\\tvar G = \\'\\';\\n\\t\\tvar GH = \\'\\';\\n\\t\\t$(\\'.equal-height\\').each(function(){\\n\\t\\t\\tG = $(this).data(\\'group\\');\\n\\t\\t\\tGH = $(this).height();\\n\\t\\t\\tcompareHeight(G);\\n\\t\\t});\\n\\t\\tconsole.log(\\'----go\\');\\n\\t}\\n\\tfunction compareHeight(G){\\n\\t\\tvar NH = 0; //new height\\n\\t\\tvar OH = 0; //old height\\n\\t\\t$(\\'.equal-height[data-group=\\\\\\'\\' + G + \\'\\\\\\']\\').each(function(){\\n\\t\\t\\t$(this).css(\\'height\\',\\'\\');\\n\\t\\t\\tOH = $(this).height();\\n\\t\\t\\tif(OH>NH){\\n\\t\\t\\t\\tNH = OH;\\n\\t\\t\\t}\\n\\t\\t});\\n\\t\\tsetHeight(NH, G);\\n\\t}\\n\\tfunction setHeight(NH, G){\\n\\t\\tvar WW = $(window).width();\\n\\t\\tDT = $(\\'.equal-height[data-group=\\\\\\'\\' + G + \\'\\\\\\']\\').data(\\'to\\');\\n\\t\\tif(DT){\\n\\t\\t\\tif(WW>DT){\\n\\t\\t\\t\\t$(\\'.equal-height[data-group=\\\\\\'\\' + G + \\'\\\\\\']\\').height(NH);\\n\\t\\t\\t} else {\\n\\t\\t\\t\\t$(\\'.equal-height[data-group=\\\\\\'\\' + G + \\'\\\\\\']\\').height(\\'auto\\');\\n\\t\\t\\t}\\n\\t\\t} else {\\n\\t\\t\\t$(\\'.equal-height[data-group=\\\\\\'\\' + G + \\'\\\\\\']\\').height(NH);\\n\\t\\t}\\n\\t\\tif ($(\\'.equal-height[data-group=\\\\\\'\\' + G + \\'\\\\\\']\\').hasClass(\\'vcenter\\')){\\n\\t\\t\\tvcenter();\\n\\t\\t}\\n\\n\\t}\\n\\n\\t$(window).load(function(){\\n\\t\\tsetTimeout(getGroup(),1500);\\n\\t});\\n\\n\\t$(window).resize(function(){\\n\\t\\tgetGroup();\\n\\t});\\n\\n\\t//end equal height\\n\\n\\t$(document).on(touchEvent, \"a.wn-prevent-default\", function(event){ // touchEvent: make on-click work in iPhone\\n\\t\\tevent.preventDefault();\\n\\t\\tIdNum = $(this).attr(\\'id\\').replace(\\'wn-\\', \\'\\');\\n\\t\\tslideUpSlideDownWN(IdNum);\\n\\t});\\n\\n\\tfunction slideUpSlideDownWN(IdNum) {\\n\\t\\t$(\"div.why-not\").removeClass(\\'active\\');\\n\\t\\tif(window.IdNumber != IdNum) {\\n\\t\\t\\t$(\\'div#why-not-\\'+IdNum).addClass(\\'active\\');\\n\\t\\t\\twindow.IdNumber = IdNum;\\n\\t\\t} else {\\n\\t\\t\\twindow.IdNumber = 0;\\n\\t\\t}\\n\\t}\\n\\n'"
      ]
     },
     "execution_count": 11,
     "metadata": {},
     "output_type": "execute_result"
    }
   ],
   "source": [
    "html_page[37430:55123]\n",
    "#can beutiful soup prettify js?"
   ]
  },
  {
   "cell_type": "code",
   "execution_count": 12,
   "id": "a9f699b4",
   "metadata": {},
   "outputs": [
    {
     "data": {
      "text/plain": [
       "9621"
      ]
     },
     "execution_count": 12,
     "metadata": {},
     "output_type": "execute_result"
    }
   ],
   "source": [
    "html_page[37430:55123].find('data-bci')\n",
    "# need to do a find all for this"
   ]
  },
  {
   "cell_type": "markdown",
   "id": "c53fe5bc",
   "metadata": {},
   "source": [
    " Setting up for selenium in case I cannot just get the info off the page."
   ]
  },
  {
   "cell_type": "code",
   "execution_count": null,
   "id": "6e424667",
   "metadata": {},
   "outputs": [],
   "source": [
    "#setting up the driver\n",
    "driver = webdriver.Chrome(service=Service(ChromeDriverManager().install()))"
   ]
  },
  {
   "cell_type": "code",
   "execution_count": null,
   "id": "f2658ea7",
   "metadata": {},
   "outputs": [],
   "source": [
    "#opening the page\n",
    "driver.get(\"https://www.chamberorganizer.com/members/directory/search_bootstrap.php?org_id=RCCC\")"
   ]
  }
 ],
 "metadata": {
  "kernelspec": {
   "display_name": "Python 3",
   "language": "python",
   "name": "python3"
  },
  "language_info": {
   "codemirror_mode": {
    "name": "ipython",
    "version": 3
   },
   "file_extension": ".py",
   "mimetype": "text/x-python",
   "name": "python",
   "nbconvert_exporter": "python",
   "pygments_lexer": "ipython3",
   "version": "3.9.5"
  }
 },
 "nbformat": 4,
 "nbformat_minor": 5
}
