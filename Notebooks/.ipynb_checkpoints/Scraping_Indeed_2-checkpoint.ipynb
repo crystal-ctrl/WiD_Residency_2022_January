{
 "cells": [
  {
   "cell_type": "code",
   "execution_count": 22,
   "id": "04fd9597",
   "metadata": {},
   "outputs": [],
   "source": [
    "#importing what is needed\n",
    "import time\n",
    "import pandas as pd\n",
    "import requests\n",
    "import json5\n",
    "from selenium import webdriver\n",
    "from selenium.webdriver.common.by import By\n",
    "from selenium.webdriver.chrome.options import Options\n",
    "from selenium.webdriver.chrome.service import Service\n",
    "from selenium.webdriver.common.keys import Keys\n",
    "from selenium.webdriver.support.ui import Select\n",
    "from webdriver_manager.chrome import ChromeDriverManager\n",
    "\n",
    "# hide warnings\n",
    "import warnings\n",
    "warnings.filterwarnings('ignore')\n"
   ]
  },
  {
   "cell_type": "markdown",
   "id": "b0a9aa4b",
   "metadata": {},
   "source": [
    "Just testing Selenium.  I'm going to need it to get the count of pages"
   ]
  },
  {
   "cell_type": "code",
   "execution_count": 29,
   "id": "9a7e758f",
   "metadata": {},
   "outputs": [
    {
     "name": "stderr",
     "output_type": "stream",
     "text": [
      "\n",
      "\n",
      "====== WebDriver manager ======\n",
      "Current google-chrome version is 98.0.4758\n",
      "Get LATEST chromedriver version for 98.0.4758 google-chrome\n",
      "Driver [C:\\Users\\Anned\\.wdm\\drivers\\chromedriver\\win32\\98.0.4758.80\\chromedriver.exe] found in cache\n"
     ]
    }
   ],
   "source": [
    "opt = Options();\n",
    "opt.add_argument(\"headless\");\n",
    "driver = webdriver.Chrome(service=Service(ChromeDriverManager().install()), options=opt)"
   ]
  },
  {
   "cell_type": "code",
   "execution_count": 30,
   "id": "682d91f7",
   "metadata": {},
   "outputs": [],
   "source": [
    "driver.get('https://www.indeed.com/jobs?q=machine%20learning&l=Chicago')\n",
    "driver.implicitly_wait(0.5)\n",
    "page_count = driver.find_element(By.ID, \"searchCountPages\")\n",
    "page_count = page_count.text\n",
    "page_count = page_count[page_count.find('of')+3:page_count.find('jobs')-1]\n",
    "loc = page_count.find(',')\n",
    "while loc != -1:\n",
    "    page_count = page_count.replace(',','')\n",
    "    loc = page_count.find(',')\n",
    "page_count = int(page_count)\n",
    "date_element = driver.find_elements(By.CLASS_NAME, 'date')"
   ]
  },
  {
   "cell_type": "code",
   "execution_count": 33,
   "id": "e9808875",
   "metadata": {},
   "outputs": [],
   "source": [
    "driver.quit()\n"
   ]
  },
  {
   "cell_type": "code",
   "execution_count": 21,
   "id": "e0625efc",
   "metadata": {},
   "outputs": [
    {
     "data": {
      "text/plain": [
       "2184"
      ]
     },
     "execution_count": 21,
     "metadata": {},
     "output_type": "execute_result"
    }
   ],
   "source": [
    "page_count"
   ]
  },
  {
   "cell_type": "code",
   "execution_count": 32,
   "id": "35842356",
   "metadata": {},
   "outputs": [
    {
     "data": {
      "text/plain": [
       "'Posted\\n6 days ago'"
      ]
     },
     "execution_count": 32,
     "metadata": {},
     "output_type": "execute_result"
    }
   ],
   "source": [
    "date_element[1].text"
   ]
  },
  {
   "cell_type": "code",
   "execution_count": null,
   "id": "3bb2f549",
   "metadata": {},
   "outputs": [],
   "source": []
  }
 ],
 "metadata": {
  "kernelspec": {
   "display_name": "Python 3",
   "language": "python",
   "name": "python3"
  },
  "language_info": {
   "codemirror_mode": {
    "name": "ipython",
    "version": 3
   },
   "file_extension": ".py",
   "mimetype": "text/x-python",
   "name": "python",
   "nbconvert_exporter": "python",
   "pygments_lexer": "ipython3",
   "version": "3.9.5"
  }
 },
 "nbformat": 4,
 "nbformat_minor": 5
}
