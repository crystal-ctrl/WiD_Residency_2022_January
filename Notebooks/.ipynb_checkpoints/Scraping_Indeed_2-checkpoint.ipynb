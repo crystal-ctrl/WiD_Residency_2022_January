{
 "cells": [
  {
   "cell_type": "code",
   "execution_count": 6,
   "id": "04fd9597",
   "metadata": {},
   "outputs": [],
   "source": [
    "#importing what is needed\n",
    "import time\n",
    "import pandas as pd\n",
    "from selenium import webdriver\n",
    "from selenium.webdriver.chrome.service import Service\n",
    "from selenium.webdriver.common.keys import Keys\n",
    "from selenium.webdriver.support.ui import Select\n",
    "from webdriver_manager.chrome import ChromeDriverManager\n",
    "\n",
    "# hide warnings\n",
    "import warnings\n",
    "warnings.filterwarnings('ignore')"
   ]
  },
  {
   "cell_type": "code",
   "execution_count": 3,
   "id": "e57e3c30",
   "metadata": {},
   "outputs": [
    {
     "data": {
      "text/html": [
       "<div>\n",
       "<style scoped>\n",
       "    .dataframe tbody tr th:only-of-type {\n",
       "        vertical-align: middle;\n",
       "    }\n",
       "\n",
       "    .dataframe tbody tr th {\n",
       "        vertical-align: top;\n",
       "    }\n",
       "\n",
       "    .dataframe thead th {\n",
       "        text-align: right;\n",
       "    }\n",
       "</style>\n",
       "<table border=\"1\" class=\"dataframe\">\n",
       "  <thead>\n",
       "    <tr style=\"text-align: right;\">\n",
       "      <th></th>\n",
       "      <th>Company</th>\n",
       "      <th>Location</th>\n",
       "      <th>zip</th>\n",
       "      <th>city</th>\n",
       "      <th>Title</th>\n",
       "      <th>Job Link</th>\n",
       "      <th>Job Board</th>\n",
       "    </tr>\n",
       "  </thead>\n",
       "  <tbody>\n",
       "    <tr>\n",
       "      <th>0</th>\n",
       "      <td>The Home Depot</td>\n",
       "      <td>Rancho Cordova, CA 95742</td>\n",
       "      <td>NaN</td>\n",
       "      <td>Rancho Cordova</td>\n",
       "      <td>Cashier</td>\n",
       "      <td>https://www.indeed.com/viewjob?jk=3c2cbd8d90c7...</td>\n",
       "      <td>Indeed</td>\n",
       "    </tr>\n",
       "    <tr>\n",
       "      <th>1</th>\n",
       "      <td>Scooter's Coffee</td>\n",
       "      <td>Rancho Cordova, CA 95742</td>\n",
       "      <td>95742.0</td>\n",
       "      <td>Rancho Cordova</td>\n",
       "      <td>Barista- Rancho Cordova</td>\n",
       "      <td>https://www.indeed.com/viewjob?jk=41869b356173...</td>\n",
       "      <td>Indeed</td>\n",
       "    </tr>\n",
       "    <tr>\n",
       "      <th>2</th>\n",
       "      <td>FedEx Ground PH US</td>\n",
       "      <td>Sacramento, CA 95824</td>\n",
       "      <td>95824.0</td>\n",
       "      <td>Sacramento</td>\n",
       "      <td>Warehouse Package Handler</td>\n",
       "      <td>https://www.indeed.com/viewjob?jk=b91d9d3c8f31...</td>\n",
       "      <td>Indeed</td>\n",
       "    </tr>\n",
       "    <tr>\n",
       "      <th>3</th>\n",
       "      <td>Pacful, Inc.</td>\n",
       "      <td>Rancho Cordova, CA 95742</td>\n",
       "      <td>95742.0</td>\n",
       "      <td>Rancho Cordova</td>\n",
       "      <td>Picker/Packer</td>\n",
       "      <td>https://www.indeed.com/viewjob?jk=e3e5b4497961...</td>\n",
       "      <td>Indeed</td>\n",
       "    </tr>\n",
       "    <tr>\n",
       "      <th>4</th>\n",
       "      <td>Quick Quack Car Wash</td>\n",
       "      <td>Rancho Cordova, CA</td>\n",
       "      <td>NaN</td>\n",
       "      <td>Rancho Cordova</td>\n",
       "      <td>Team Member</td>\n",
       "      <td>https://www.indeed.com/viewjob?jk=3fd5ace3ed84...</td>\n",
       "      <td>Indeed</td>\n",
       "    </tr>\n",
       "  </tbody>\n",
       "</table>\n",
       "</div>"
      ],
      "text/plain": [
       "                Company                  Location      zip            city  \\\n",
       "0        The Home Depot  Rancho Cordova, CA 95742      NaN  Rancho Cordova   \n",
       "1      Scooter's Coffee  Rancho Cordova, CA 95742  95742.0  Rancho Cordova   \n",
       "2    FedEx Ground PH US      Sacramento, CA 95824  95824.0      Sacramento   \n",
       "3          Pacful, Inc.  Rancho Cordova, CA 95742  95742.0  Rancho Cordova   \n",
       "4  Quick Quack Car Wash        Rancho Cordova, CA      NaN  Rancho Cordova   \n",
       "\n",
       "                       Title  \\\n",
       "0                    Cashier   \n",
       "1    Barista- Rancho Cordova   \n",
       "2  Warehouse Package Handler   \n",
       "3              Picker/Packer   \n",
       "4                Team Member   \n",
       "\n",
       "                                            Job Link Job Board  \n",
       "0  https://www.indeed.com/viewjob?jk=3c2cbd8d90c7...    Indeed  \n",
       "1  https://www.indeed.com/viewjob?jk=41869b356173...    Indeed  \n",
       "2  https://www.indeed.com/viewjob?jk=b91d9d3c8f31...    Indeed  \n",
       "3  https://www.indeed.com/viewjob?jk=e3e5b4497961...    Indeed  \n",
       "4  https://www.indeed.com/viewjob?jk=3fd5ace3ed84...    Indeed  "
      ]
     },
     "execution_count": 3,
     "metadata": {},
     "output_type": "execute_result"
    }
   ],
   "source": [
    "#loaded the indeed jobs df\n",
    "df = pd.read_csv('../Data/indeed_jobs.csv')\n",
    "df.head()"
   ]
  },
  {
   "cell_type": "code",
   "execution_count": 4,
   "id": "779ea16e",
   "metadata": {},
   "outputs": [
    {
     "name": "stdout",
     "output_type": "stream",
     "text": [
      "https://www.indeed.com/viewjob?jk=3c2cbd8d90c76b64\n",
      "https://www.indeed.com/viewjob?jk=41869b356173f722\n",
      "https://www.indeed.com/viewjob?jk=b91d9d3c8f31d741\n",
      "https://www.indeed.com/viewjob?jk=e3e5b4497961223b\n",
      "https://www.indeed.com/viewjob?jk=3fd5ace3ed8422ea\n",
      "https://www.indeed.com/viewjob?jk=06ac30a962584a27\n",
      "https://www.indeed.com/viewjob?jk=2792aacb5011efe5\n",
      "https://www.indeed.com/viewjob?jk=d753b5c1baede06e\n",
      "https://www.indeed.com/viewjob?jk=62009a40a225b25a\n",
      "https://www.indeed.com/viewjob?jk=4c3e025cec905cbf\n"
     ]
    }
   ],
   "source": [
    "# printing out the first ten job links as I need to explore these pages\n",
    "for i in range(10):\n",
    "    print(df.loc[i,'Job Link'])"
   ]
  },
  {
   "cell_type": "code",
   "execution_count": 9,
   "id": "2aa2ef9d",
   "metadata": {},
   "outputs": [
    {
     "name": "stderr",
     "output_type": "stream",
     "text": [
      "\n",
      "\n",
      "====== WebDriver manager ======\n",
      "Current google-chrome version is 97.0.4692\n",
      "Get LATEST chromedriver version for 97.0.4692 google-chrome\n",
      "Driver [C:\\Users\\Anned\\.wdm\\drivers\\chromedriver\\win32\\97.0.4692.71\\chromedriver.exe] found in cache\n"
     ]
    }
   ],
   "source": [
    "#installing and starting the webdriver\n",
    "driver = webdriver.Chrome(service=Service(ChromeDriverManager().install()))\n",
    "options = webdriver.ChromeOptions();\n",
    "#options.add_argument('headless'); #saving this for later use\n"
   ]
  },
  {
   "cell_type": "code",
   "execution_count": null,
   "id": "6be0a01a",
   "metadata": {},
   "outputs": [],
   "source": []
  },
  {
   "cell_type": "code",
   "execution_count": 10,
   "id": "8bc1f01c",
   "metadata": {},
   "outputs": [],
   "source": [
    "driver.quit()"
   ]
  },
  {
   "cell_type": "code",
   "execution_count": null,
   "id": "73b8bded",
   "metadata": {},
   "outputs": [],
   "source": []
  }
 ],
 "metadata": {
  "kernelspec": {
   "display_name": "Python 3",
   "language": "python",
   "name": "python3"
  },
  "language_info": {
   "codemirror_mode": {
    "name": "ipython",
    "version": 3
   },
   "file_extension": ".py",
   "mimetype": "text/x-python",
   "name": "python",
   "nbconvert_exporter": "python",
   "pygments_lexer": "ipython3",
   "version": "3.9.5"
  }
 },
 "nbformat": 4,
 "nbformat_minor": 5
}
