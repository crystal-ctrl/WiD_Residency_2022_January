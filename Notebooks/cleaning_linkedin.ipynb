{
 "cells": [
  {
   "cell_type": "markdown",
   "id": "97a0a9ea-403c-4bca-8ed2-aa8d42895180",
   "metadata": {},
   "source": [
    "# Cleaning LinkedIn Job Posts"
   ]
  },
  {
   "cell_type": "markdown",
   "id": "f05de33b-0835-483f-8141-59c068c07d2b",
   "metadata": {},
   "source": [
    "This code is adapted from Cohort 2's work."
   ]
  },
  {
   "cell_type": "markdown",
   "id": "050567b3-062d-45d3-9365-615bc458baa2",
   "metadata": {},
   "source": [
    "### Import Libraries"
   ]
  },
  {
   "cell_type": "code",
   "execution_count": 7,
   "id": "90c4d66a-2f92-406e-8e41-fd969aefacce",
   "metadata": {},
   "outputs": [],
   "source": [
    "# Import Libraries\n",
    "import pandas as pd\n",
    "import numpy as np\n",
    "import string\n",
    "# import regex as re\n",
    "\n",
    "#Hide Warnings\n",
    "import warnings\n",
    "warnings.filterwarnings('ignore')"
   ]
  },
  {
   "cell_type": "code",
   "execution_count": 27,
   "id": "f7e9acef-fc4f-49cb-8aa6-d68a0a5b053e",
   "metadata": {},
   "outputs": [
    {
     "data": {
      "text/html": [
       "<div>\n",
       "<style scoped>\n",
       "    .dataframe tbody tr th:only-of-type {\n",
       "        vertical-align: middle;\n",
       "    }\n",
       "\n",
       "    .dataframe tbody tr th {\n",
       "        vertical-align: top;\n",
       "    }\n",
       "\n",
       "    .dataframe thead th {\n",
       "        text-align: right;\n",
       "    }\n",
       "</style>\n",
       "<table border=\"1\" class=\"dataframe\">\n",
       "  <thead>\n",
       "    <tr style=\"text-align: right;\">\n",
       "      <th></th>\n",
       "      <th>Date</th>\n",
       "      <th>Company</th>\n",
       "      <th>Title</th>\n",
       "      <th>Job Link</th>\n",
       "      <th>criteria</th>\n",
       "    </tr>\n",
       "  </thead>\n",
       "  <tbody>\n",
       "    <tr>\n",
       "      <th>0</th>\n",
       "      <td>2022-01-15</td>\n",
       "      <td>Intel Corporation</td>\n",
       "      <td>Platform Supply Analyst</td>\n",
       "      <td>https://www.linkedin.com/jobs/view/platform-su...</td>\n",
       "      <td>Seniority level\\nMid-Senior level\\nEmployment ...</td>\n",
       "    </tr>\n",
       "    <tr>\n",
       "      <th>1</th>\n",
       "      <td>2022-01-26</td>\n",
       "      <td>Intel Corporation</td>\n",
       "      <td>Platform Supply Analyst</td>\n",
       "      <td>https://www.linkedin.com/jobs/view/platform-su...</td>\n",
       "      <td>\\n        \\n          \\n            Seniority ...</td>\n",
       "    </tr>\n",
       "    <tr>\n",
       "      <th>2</th>\n",
       "      <td>2022-01-10</td>\n",
       "      <td>Kaiser Permanente</td>\n",
       "      <td>Supervisor Support Services</td>\n",
       "      <td>https://www.linkedin.com/jobs/view/supervisor-...</td>\n",
       "      <td>\\n        \\n          \\n            Seniority ...</td>\n",
       "    </tr>\n",
       "    <tr>\n",
       "      <th>3</th>\n",
       "      <td>2022-02-02</td>\n",
       "      <td>Dignity Health</td>\n",
       "      <td>Communications Specialist</td>\n",
       "      <td>https://www.linkedin.com/jobs/view/communicati...</td>\n",
       "      <td>\\n        \\n          \\n            Seniority ...</td>\n",
       "    </tr>\n",
       "    <tr>\n",
       "      <th>4</th>\n",
       "      <td>2022-01-26</td>\n",
       "      <td>Intel Corporation</td>\n",
       "      <td>Planning Analyst</td>\n",
       "      <td>https://www.linkedin.com/jobs/view/planning-an...</td>\n",
       "      <td>\\n        \\n          \\n            Seniority ...</td>\n",
       "    </tr>\n",
       "  </tbody>\n",
       "</table>\n",
       "</div>"
      ],
      "text/plain": [
       "         Date            Company                        Title  \\\n",
       "0  2022-01-15  Intel Corporation      Platform Supply Analyst   \n",
       "1  2022-01-26  Intel Corporation      Platform Supply Analyst   \n",
       "2  2022-01-10  Kaiser Permanente  Supervisor Support Services   \n",
       "3  2022-02-02     Dignity Health    Communications Specialist   \n",
       "4  2022-01-26  Intel Corporation             Planning Analyst   \n",
       "\n",
       "                                            Job Link  \\\n",
       "0  https://www.linkedin.com/jobs/view/platform-su...   \n",
       "1  https://www.linkedin.com/jobs/view/platform-su...   \n",
       "2  https://www.linkedin.com/jobs/view/supervisor-...   \n",
       "3  https://www.linkedin.com/jobs/view/communicati...   \n",
       "4  https://www.linkedin.com/jobs/view/planning-an...   \n",
       "\n",
       "                                            criteria  \n",
       "0  Seniority level\\nMid-Senior level\\nEmployment ...  \n",
       "1  \\n        \\n          \\n            Seniority ...  \n",
       "2  \\n        \\n          \\n            Seniority ...  \n",
       "3  \\n        \\n          \\n            Seniority ...  \n",
       "4  \\n        \\n          \\n            Seniority ...  "
      ]
     },
     "execution_count": 27,
     "metadata": {},
     "output_type": "execute_result"
    }
   ],
   "source": [
    "# Load the data and verify it loaded correctly\n",
    "df = pd.read_csv(\"../Data/LinkedIn_Job_Postings_notcleaned.csv\")\n",
    "df.head()"
   ]
  },
  {
   "cell_type": "markdown",
   "id": "4434d3d1-b4c1-46e9-9451-8316d7003ab8",
   "metadata": {},
   "source": [
    "## Data Cleaning"
   ]
  },
  {
   "cell_type": "markdown",
   "id": "799bf97b-fad2-49e5-b6d5-f35351641f10",
   "metadata": {},
   "source": [
    "### Split Criteria"
   ]
  },
  {
   "cell_type": "code",
   "execution_count": 28,
   "id": "32db6278-dd9e-4a25-af6b-3c3597fc4863",
   "metadata": {},
   "outputs": [
    {
     "data": {
      "text/plain": [
       "'Seniority level\\nMid-Senior level\\nEmployment type\\nFull-time\\nJob function\\nManagement and Manufacturing\\nIndustries\\nIT Services and IT Consulting, Appliances, Electrical, and Electronics Manufacturing, and Software Development'"
      ]
     },
     "execution_count": 28,
     "metadata": {},
     "output_type": "execute_result"
    }
   ],
   "source": [
    "df.criteria[0]"
   ]
  },
  {
   "cell_type": "code",
   "execution_count": 29,
   "id": "526cf7c7-4016-430d-94aa-def03d18dc0f",
   "metadata": {},
   "outputs": [],
   "source": [
    "seniority = []\n",
    "employment_type = []\n",
    "job_function = []\n",
    "industry = []\n",
    "\n",
    "sen_s = 'Seniority level\\n'\n",
    "emp_s = '\\nEmployment type\\n'\n",
    "jf_s = '\\nJob function\\n'\n",
    "ind_s = '\\nIndustries\\n'\n",
    "\n",
    "criteria = df['criteria']\n",
    "\n",
    "for s in criteria: \n",
    "    \n",
    "    sen = s[s.find(sen_s)+len(sen_s):s.rfind(emp_s)]\n",
    "    seniority.append(sen)\n",
    "\n",
    "    emp = s[s.find(emp_s)+len(emp_s):s.rfind(jf_s)]\n",
    "    employment_type.append(emp)\n",
    "    \n",
    "    jfunc = s[s.find(jf_s)+len(jf_s):s.rfind(ind_s)]\n",
    "    job_function.append(jfunc)\n",
    "\n",
    "    ind = s[s.find(ind_s)+len(ind_s):]\n",
    "    industry.append(ind)"
   ]
  },
  {
   "cell_type": "markdown",
   "id": "12ec4e51-b05d-482a-afcd-7ecbecf4b924",
   "metadata": {},
   "source": [
    "### Add Split Criteria to Dataframe"
   ]
  },
  {
   "cell_type": "code",
   "execution_count": 30,
   "id": "ccc6965c-7f10-4192-9de6-85ba7a1e062f",
   "metadata": {},
   "outputs": [],
   "source": [
    "df['Seniority'] = seniority\n",
    "df['Employment Type'] = employment_type\n",
    "df['Job Function'] = job_function\n",
    "df['Industry'] = industry"
   ]
  },
  {
   "cell_type": "code",
   "execution_count": 31,
   "id": "98ef37c0-2274-4c42-b4da-0a50eb94deed",
   "metadata": {},
   "outputs": [
    {
     "data": {
      "text/html": [
       "<div>\n",
       "<style scoped>\n",
       "    .dataframe tbody tr th:only-of-type {\n",
       "        vertical-align: middle;\n",
       "    }\n",
       "\n",
       "    .dataframe tbody tr th {\n",
       "        vertical-align: top;\n",
       "    }\n",
       "\n",
       "    .dataframe thead th {\n",
       "        text-align: right;\n",
       "    }\n",
       "</style>\n",
       "<table border=\"1\" class=\"dataframe\">\n",
       "  <thead>\n",
       "    <tr style=\"text-align: right;\">\n",
       "      <th></th>\n",
       "      <th>Date</th>\n",
       "      <th>Company</th>\n",
       "      <th>Title</th>\n",
       "      <th>Job Link</th>\n",
       "      <th>criteria</th>\n",
       "      <th>Seniority</th>\n",
       "      <th>Employment Type</th>\n",
       "      <th>Job Function</th>\n",
       "      <th>Industry</th>\n",
       "    </tr>\n",
       "  </thead>\n",
       "  <tbody>\n",
       "    <tr>\n",
       "      <th>0</th>\n",
       "      <td>2022-01-15</td>\n",
       "      <td>Intel Corporation</td>\n",
       "      <td>Platform Supply Analyst</td>\n",
       "      <td>https://www.linkedin.com/jobs/view/platform-su...</td>\n",
       "      <td>Seniority level\\nMid-Senior level\\nEmployment ...</td>\n",
       "      <td>Mid-Senior level</td>\n",
       "      <td>Full-time</td>\n",
       "      <td>Management and Manufacturing</td>\n",
       "      <td>IT Services and IT Consulting, Appliances, Ele...</td>\n",
       "    </tr>\n",
       "    <tr>\n",
       "      <th>1</th>\n",
       "      <td>2022-01-26</td>\n",
       "      <td>Intel Corporation</td>\n",
       "      <td>Platform Supply Analyst</td>\n",
       "      <td>https://www.linkedin.com/jobs/view/platform-su...</td>\n",
       "      <td>\\n        \\n          \\n            Seniority ...</td>\n",
       "      <td>\\n          \\n            Mid-Senior...</td>\n",
       "      <td>\\n            Seniority level\\n          \\...</td>\n",
       "      <td>\\n            Seniority level\\n        ...</td>\n",
       "      <td>\\n            Seniority level\\n      ...</td>\n",
       "    </tr>\n",
       "    <tr>\n",
       "      <th>2</th>\n",
       "      <td>2022-01-10</td>\n",
       "      <td>Kaiser Permanente</td>\n",
       "      <td>Supervisor Support Services</td>\n",
       "      <td>https://www.linkedin.com/jobs/view/supervisor-...</td>\n",
       "      <td>\\n        \\n          \\n            Seniority ...</td>\n",
       "      <td>\\n          \\n            Mid-Senior...</td>\n",
       "      <td>\\n            Seniority level\\n          \\...</td>\n",
       "      <td>\\n            Seniority level\\n        ...</td>\n",
       "      <td>\\n            Seniority level\\n      ...</td>\n",
       "    </tr>\n",
       "    <tr>\n",
       "      <th>3</th>\n",
       "      <td>2022-02-02</td>\n",
       "      <td>Dignity Health</td>\n",
       "      <td>Communications Specialist</td>\n",
       "      <td>https://www.linkedin.com/jobs/view/communicati...</td>\n",
       "      <td>\\n        \\n          \\n            Seniority ...</td>\n",
       "      <td>\\n          \\n            Mid-Senior...</td>\n",
       "      <td>\\n            Seniority level\\n          \\...</td>\n",
       "      <td>\\n            Seniority level\\n        ...</td>\n",
       "      <td>\\n            Seniority level\\n      ...</td>\n",
       "    </tr>\n",
       "    <tr>\n",
       "      <th>4</th>\n",
       "      <td>2022-01-26</td>\n",
       "      <td>Intel Corporation</td>\n",
       "      <td>Planning Analyst</td>\n",
       "      <td>https://www.linkedin.com/jobs/view/planning-an...</td>\n",
       "      <td>\\n        \\n          \\n            Seniority ...</td>\n",
       "      <td>\\n          \\n            Entry leve...</td>\n",
       "      <td>\\n            Seniority level\\n          \\...</td>\n",
       "      <td>\\n            Seniority level\\n        ...</td>\n",
       "      <td>\\n            Seniority level\\n      ...</td>\n",
       "    </tr>\n",
       "  </tbody>\n",
       "</table>\n",
       "</div>"
      ],
      "text/plain": [
       "         Date            Company                        Title  \\\n",
       "0  2022-01-15  Intel Corporation      Platform Supply Analyst   \n",
       "1  2022-01-26  Intel Corporation      Platform Supply Analyst   \n",
       "2  2022-01-10  Kaiser Permanente  Supervisor Support Services   \n",
       "3  2022-02-02     Dignity Health    Communications Specialist   \n",
       "4  2022-01-26  Intel Corporation             Planning Analyst   \n",
       "\n",
       "                                            Job Link  \\\n",
       "0  https://www.linkedin.com/jobs/view/platform-su...   \n",
       "1  https://www.linkedin.com/jobs/view/platform-su...   \n",
       "2  https://www.linkedin.com/jobs/view/supervisor-...   \n",
       "3  https://www.linkedin.com/jobs/view/communicati...   \n",
       "4  https://www.linkedin.com/jobs/view/planning-an...   \n",
       "\n",
       "                                            criteria  \\\n",
       "0  Seniority level\\nMid-Senior level\\nEmployment ...   \n",
       "1  \\n        \\n          \\n            Seniority ...   \n",
       "2  \\n        \\n          \\n            Seniority ...   \n",
       "3  \\n        \\n          \\n            Seniority ...   \n",
       "4  \\n        \\n          \\n            Seniority ...   \n",
       "\n",
       "                                           Seniority  \\\n",
       "0                                   Mid-Senior level   \n",
       "1            \\n          \\n            Mid-Senior...   \n",
       "2            \\n          \\n            Mid-Senior...   \n",
       "3            \\n          \\n            Mid-Senior...   \n",
       "4            \\n          \\n            Entry leve...   \n",
       "\n",
       "                                     Employment Type  \\\n",
       "0                                          Full-time   \n",
       "1      \\n            Seniority level\\n          \\...   \n",
       "2      \\n            Seniority level\\n          \\...   \n",
       "3      \\n            Seniority level\\n          \\...   \n",
       "4      \\n            Seniority level\\n          \\...   \n",
       "\n",
       "                                        Job Function  \\\n",
       "0                       Management and Manufacturing   \n",
       "1         \\n            Seniority level\\n        ...   \n",
       "2         \\n            Seniority level\\n        ...   \n",
       "3         \\n            Seniority level\\n        ...   \n",
       "4         \\n            Seniority level\\n        ...   \n",
       "\n",
       "                                            Industry  \n",
       "0  IT Services and IT Consulting, Appliances, Ele...  \n",
       "1           \\n            Seniority level\\n      ...  \n",
       "2           \\n            Seniority level\\n      ...  \n",
       "3           \\n            Seniority level\\n      ...  \n",
       "4           \\n            Seniority level\\n      ...  "
      ]
     },
     "execution_count": 31,
     "metadata": {},
     "output_type": "execute_result"
    }
   ],
   "source": [
    "df.head()"
   ]
  },
  {
   "cell_type": "markdown",
   "id": "d3938461-cbd4-4401-b476-972328f2c2fe",
   "metadata": {},
   "source": [
    "### Explore the New Columns and Perform Any Other Cleaning Tasks"
   ]
  },
  {
   "cell_type": "markdown",
   "id": "a7afab3f-5bc4-4e53-a61b-53069dc82b44",
   "metadata": {},
   "source": [
    "#### Seniority"
   ]
  },
  {
   "cell_type": "code",
   "execution_count": 32,
   "id": "82c8933d-a76a-4411-a55d-5fd0d4b23127",
   "metadata": {},
   "outputs": [
    {
     "name": "stdout",
     "output_type": "stream",
     "text": [
      "Entry level                                                                                                                                                                                                                                                                                                                                                                                                                                                                                                           92\n",
      "Associate                                                                                                                                                                                                                                                                                                                                                                                                                                                                                                             68\n",
      "Mid-Senior level                                                                                                                                                                                                                                                                                                                                                                                                                                                                                                      24\n",
      " \\n          Employment type\\n        \\n        \\n          Full-time\\n        \\n      \\n                                                                                                                                                                                                                                                                                                                                                                                                                             16\n",
      "          \\n          \\n            Entry level\\n          \\n        \\n      \\n        \\n          Employment type\\n        \\n        \\n          Full-time\\n        \\n      \\n        \\n          \\n            Job function\\n          \\n          \\n            Information Technology\\n          \\n        \\n        \\n          \\n            Industries\\n          \\n          \\n          IT Services and IT Consulting, Financial Services, and Hospitals and Health Care\\n          \\n        \\n             10\n",
      "                                                                                                                                                                                                                                                                                                                                                                                                                                                                                                                      ..\n",
      "          \\n          \\n            Director\\n          \\n        \\n      \\n        \\n          Employment type\\n        \\n        \\n          Contract\\n        \\n      \\n        \\n          \\n            Job function\\n          \\n          \\n            Information Technology\\n          \\n        \\n        \\n          \\n            Industries\\n          \\n          \\n          Internet Publishing\\n          \\n        \\n                                                                               1\n",
      "          \\n          \\n            Associate\\n          \\n        \\n      \\n        \\n          Employment type\\n        \\n        \\n          Full-time\\n        \\n      \\n        \\n          \\n            Job function\\n          \\n          \\n            Information Technology\\n          \\n        \\n        \\n          \\n            Industries\\n          \\n          \\n          Higher Education, Non-profit Organizations, and Hospitals and Health Care\\n          \\n        \\n                       1\n",
      "          \\n          \\n            Entry level\\n          \\n        \\n      \\n        \\n          Employment type\\n        \\n        \\n          Contract\\n        \\n      \\n        \\n          \\n            Job function\\n          \\n          \\n            Consulting, Information Technology, and Sales\\n          \\n        \\n        \\n          \\n            Industries\\n          \\n          \\n          Financial Services\\n          \\n        \\n                                                      1\n",
      "          \\n          \\n            Entry level\\n          \\n        \\n      \\n        \\n          Employment type\\n        \\n        \\n          Full-time\\n        \\n      \\n        \\n          \\n            Job function\\n          \\n          \\n            Management and Manufacturing\\n          \\n        \\n        \\n          \\n            Industries\\n          \\n          \\n          Chemical Manufacturing, Biotechnology Research, and Pharmaceutical Manufacturing\\n          \\n        \\n        1\n",
      "          \\n          \\n            Associate\\n          \\n        \\n      \\n        \\n          Employment type\\n        \\n        \\n          Part-time\\n        \\n      \\n        \\n          \\n            Job function\\n          \\n          \\n            Project Management and Information Technology\\n          \\n        \\n        \\n          \\n            Industries\\n          \\n          \\n          Business Consulting and Services\\n          \\n        \\n                                         1\n",
      "Name: Seniority, Length: 643, dtype: int64\n"
     ]
    }
   ],
   "source": [
    "print(df['Seniority'].value_counts())"
   ]
  },
  {
   "cell_type": "code",
   "execution_count": 33,
   "id": "d8e36715-7feb-403d-bc47-6e7e755893b6",
   "metadata": {},
   "outputs": [],
   "source": [
    "df['Seniority'] = [s.replace(\"\\n\",\"\") for s in df.Seniority]\n",
    "df['Seniority'] = [s.replace(\"  \", \"\") for s in df.Seniority]"
   ]
  },
  {
   "cell_type": "code",
   "execution_count": 34,
   "id": "1e0b97c3-8366-4a5e-b09d-fa9d1dda35ca",
   "metadata": {},
   "outputs": [
    {
     "name": "stdout",
     "output_type": "stream",
     "text": [
      "Entry level                                                                                                                                                         92\n",
      "Associate                                                                                                                                                           68\n",
      "Mid-Senior level                                                                                                                                                    24\n",
      " Employment typeFull-time                                                                                                                                           16\n",
      "Entry levelEmployment typeFull-timeJob functionInformation TechnologyIndustriesIT Services and IT Consulting, Financial Services, and Hospitals and Health Care     10\n",
      "                                                                                                                                                                    ..\n",
      "AssociateEmployment typeFull-timeJob functionMarketing and SalesIndustriesManufacturing                                                                              1\n",
      "AssociateEmployment typeFull-timeJob functionResearch, Analyst, and Information TechnologyIndustriesDesign Services                                                  1\n",
      "Entry levelEmployment typeFull-timeJob functionOtherIndustriesNon-profit Organizations, Wellness and Fitness Services, and Hospitals and Health Care                 1\n",
      "AssociateEmployment typeFull-timeJob functionManagement and ManufacturingIndustriesMining                                                                            1\n",
      "AssociateEmployment typeContractJob functionManagement and ManufacturingIndustriesReligious Institutions                                                             1\n",
      "Name: Seniority, Length: 643, dtype: int64\n"
     ]
    }
   ],
   "source": [
    "print(df['Seniority'].value_counts())"
   ]
  },
  {
   "cell_type": "code",
   "execution_count": null,
   "id": "cfaebc50-40c9-4c84-8cb9-2d2765ef447c",
   "metadata": {},
   "outputs": [],
   "source": [
    "#Indicate missing values.\n",
    "df['Seniority'] = df['Seniority'].str.replace('\\nFull-tim', 'NaN')\n",
    "df['Seniority'] = df['Seniority'].str.replace('\\nTemporar', 'NaN')\n",
    "df['Seniority'] = df['Seniority'].str.replace('\\nOthe', 'NaN')\n",
    "df['Seniority'] = df['Seniority'].str.replace('\\nContrac', 'NaN')"
   ]
  },
  {
   "cell_type": "markdown",
   "id": "764eede0-5d75-4ead-8afd-58c4e0e8dc61",
   "metadata": {},
   "source": [
    "#### Verify that Seniority is Clean"
   ]
  },
  {
   "cell_type": "code",
   "execution_count": null,
   "id": "ada094bf-ed71-4b5a-89ee-619a736c3edd",
   "metadata": {},
   "outputs": [],
   "source": [
    "print(df['Seniority'].value_counts())"
   ]
  },
  {
   "cell_type": "code",
   "execution_count": null,
   "id": "dbe123c1-fe81-4ca6-8f02-8976c06e523c",
   "metadata": {},
   "outputs": [],
   "source": [
    "## Employment Type"
   ]
  },
  {
   "cell_type": "code",
   "execution_count": null,
   "id": "f2fc8d8a-9468-4a16-88f2-f6d38479dd84",
   "metadata": {},
   "outputs": [],
   "source": [
    "print(df['Employment Type'].value_counts())"
   ]
  },
  {
   "cell_type": "code",
   "execution_count": null,
   "id": "89994e89-6591-4a2f-b6ac-ec799c1a6fd8",
   "metadata": {},
   "outputs": [],
   "source": [
    "#Fix categories that are mispelled.\n",
    "df['Employment Type'] = df['Employment Type'].str.replace('Full-tim', 'Full-time')\n",
    "df['Employment Type'] = df['Employment Type'].str.replace('Full-timee', 'Full-time')\n",
    "\n",
    "df['Employment Type'] = df['Employment Type'].str.replace('Temporar', 'Temporary')\n",
    "df['Employment Type'] = df['Employment Type'].str.replace('Temporaryy', 'Temporary')\n",
    "\n",
    "df['Employment Type'] = df['Employment Type'].str.replace('Contrac', 'Contract')\n",
    "df['Employment Type'] = df['Employment Type'].str.replace('Contractt', 'Contract')\n",
    "\n",
    "df['Employment Type'] = df['Employment Type'].str.replace('Othe', 'Other')\n",
    "df['Employment Type'] = df['Employment Type'].str.replace('Otherr', 'Other')"
   ]
  },
  {
   "cell_type": "code",
   "execution_count": null,
   "id": "f50c606b-a265-40bf-add0-8a5b2289fe0b",
   "metadata": {},
   "outputs": [],
   "source": [
    "print(df['Employment Type'].value_counts())"
   ]
  },
  {
   "cell_type": "markdown",
   "id": "29bf5e03-3304-4188-917e-b68e0811d3a5",
   "metadata": {},
   "source": [
    "### Job Function"
   ]
  },
  {
   "cell_type": "code",
   "execution_count": null,
   "id": "aa1ab911-fb83-42d7-93d3-7c3a9f0828fc",
   "metadata": {},
   "outputs": [],
   "source": [
    "df['Job Function'].value_counts()"
   ]
  },
  {
   "cell_type": "code",
   "execution_count": null,
   "id": "6a393875-983d-4db5-aad0-5d87bc8ce6e6",
   "metadata": {},
   "outputs": [],
   "source": [
    "#Make missing values consistent.\n",
    "df['Job Function'] = df['Job Function'].str.replace('pe\\nFull-tim', 'NaN')\n",
    "df['Job Function'] = df['Job Function'].str.replace('pe\\nContrac', 'NaN')\n",
    "df['Job Function'] = df['Job Function'].str.replace('pe\\nTemporar', 'NaN')\n",
    "df['Job Function'] = df['Job Function'].str.replace('pe\\nOthe', 'NaN')"
   ]
  },
  {
   "cell_type": "code",
   "execution_count": null,
   "id": "0ad904d6-747b-4b87-9ab9-ed487df476f3",
   "metadata": {},
   "outputs": [],
   "source": [
    "#Fix the broken values.\n",
    "df.loc[340, 'Job Function'] = 'Health Care Provider'\n",
    "df.loc[442, 'Job Function'] = 'Project Management and Information Technology'"
   ]
  },
  {
   "cell_type": "code",
   "execution_count": null,
   "id": "7dcd1c10-bc23-47f9-9b35-df1819198fb7",
   "metadata": {},
   "outputs": [],
   "source": [
    "df['Job Function'].unique()"
   ]
  },
  {
   "cell_type": "markdown",
   "id": "a7604e61-2331-4511-9777-cc03256213de",
   "metadata": {},
   "source": [
    "### Industry"
   ]
  },
  {
   "cell_type": "code",
   "execution_count": null,
   "id": "a3fb76a4-0526-463a-9c38-b74c76f86df1",
   "metadata": {},
   "outputs": [],
   "source": [
    "df['Industry'].value_counts()"
   ]
  },
  {
   "cell_type": "code",
   "execution_count": null,
   "id": "559e63f3-14e5-4003-a84d-b6c74b23a0c0",
   "metadata": {},
   "outputs": [],
   "source": [
    "#Make missing values consistent.\n",
    "df['Industry'] = df['Industry'].str.replace('type\\nFull-time', 'NaN')\n",
    "df['Industry'] = df['Industry'].str.replace('type\\nContract', 'NaN')\n",
    "df['Industry'] = df['Industry'].str.replace('type\\nTemporary', 'NaN')\n",
    "df['Industry'] = df['Industry'].str.replace('pe\\nOthe', 'NaN')"
   ]
  },
  {
   "cell_type": "code",
   "execution_count": null,
   "id": "b54e70dd-8a46-46b7-b6f9-5132335d6e31",
   "metadata": {},
   "outputs": [],
   "source": [
    "df['Industry'].unique()"
   ]
  },
  {
   "cell_type": "markdown",
   "id": "155e8dc5-07d3-47f3-8f79-0484b5b94994",
   "metadata": {},
   "source": [
    "## Getting Years Experience from Job Description"
   ]
  },
  {
   "cell_type": "markdown",
   "id": "bfe2d69e-9764-49a9-8fc8-38a1c1368c4c",
   "metadata": {},
   "source": [
    "#### Years Experience from Numeric Value"
   ]
  },
  {
   "cell_type": "code",
   "execution_count": null,
   "id": "65659d21-67a3-41ea-bfd7-fd71522ca8ad",
   "metadata": {},
   "outputs": [],
   "source": [
    "years_list = []\n",
    "\n",
    "for s in df['Job Description']:\n",
    "    \n",
    "    for char in string.punctuation:\n",
    "        s = s.replace(char,'')\n",
    "    \n",
    "    s = s.replace('\\n', ' ')\n",
    "    \n",
    "    nums = [int(i) for i in s.split() if i.isdigit()]\n",
    "    \n",
    "    num_test = []\n",
    "    \n",
    "    for i in nums:\n",
    "        if i < 11:\n",
    "            num_test.append(i)\n",
    "        else:\n",
    "            pass\n",
    "    \n",
    "    if num_test:\n",
    "        max_num = max(num_test)\n",
    "    else:\n",
    "        max_num = 'NaN'\n",
    "    \n",
    "    years_list.append(max_num)"
   ]
  },
  {
   "cell_type": "code",
   "execution_count": null,
   "id": "76646747-681f-41a6-812e-5e3aca271926",
   "metadata": {},
   "outputs": [],
   "source": [
    "from collections import Counter\n",
    "Counter(years_list)"
   ]
  },
  {
   "cell_type": "code",
   "execution_count": null,
   "id": "7eb4d470-7743-4d02-8c1e-163038a0b5ca",
   "metadata": {},
   "outputs": [],
   "source": [
    "df['Years Experience'] = years_list"
   ]
  },
  {
   "cell_type": "markdown",
   "id": "0bb01503-48df-43b8-b46f-fd97d2ecf658",
   "metadata": {},
   "source": [
    "#### Years of Experience from Word"
   ]
  },
  {
   "cell_type": "code",
   "execution_count": null,
   "id": "935cc813-faf6-4086-8e41-3836804a00bf",
   "metadata": {},
   "outputs": [],
   "source": [
    "alpha_years_list = []\n",
    "\n",
    "alpha_num = ['one', 'two', 'three', 'four', 'five', \n",
    "             'six', 'seven', 'eight','nine']\n",
    "\n",
    "for s in df['Job Description']:\n",
    "    \n",
    "    for char in string.punctuation:\n",
    "        s = s.replace(char,'')\n",
    "    \n",
    "    s = s.replace('\\n', ' ')\n",
    "    s = s.lower()\n",
    "    \n",
    "    test_alpha_num = [anum in s for anum in alpha_num]\n",
    "    \n",
    "    true_alpha_num = [i for i, x in enumerate(test_alpha_num) if x]\n",
    "    \n",
    "    if true_alpha_num:\n",
    "        max_num = max(true_alpha_num) + 1\n",
    "    else:\n",
    "        max_num = 'NaN'\n",
    "    \n",
    "    alpha_years_list.append(max_num)"
   ]
  },
  {
   "cell_type": "code",
   "execution_count": null,
   "id": "62728330-10be-431a-b764-029981dfc750",
   "metadata": {},
   "outputs": [],
   "source": [
    "Counter(alpha_years_list)"
   ]
  },
  {
   "cell_type": "code",
   "execution_count": null,
   "id": "08620c71-c349-45e1-9b08-724ca5739584",
   "metadata": {},
   "outputs": [],
   "source": [
    "df['Years Experience Two'] = alpha_years_list"
   ]
  },
  {
   "cell_type": "code",
   "execution_count": null,
   "id": "a2dc3284-73e2-47ca-9104-e772747777ce",
   "metadata": {},
   "outputs": [],
   "source": [
    "df['Experience'] = np.where(df['Years Experience']=='NaN', df['Years Experience Two'], \n",
    "                           df['Years Experience'])"
   ]
  },
  {
   "cell_type": "code",
   "execution_count": null,
   "id": "231151cc-3527-4637-bf63-bcf33dcfddc4",
   "metadata": {},
   "outputs": [],
   "source": [
    "df.head()"
   ]
  },
  {
   "cell_type": "code",
   "execution_count": null,
   "id": "02756648-f71f-45b1-8fcb-4f934e66254a",
   "metadata": {},
   "outputs": [],
   "source": [
    "df['Experience'].value_counts()"
   ]
  },
  {
   "cell_type": "code",
   "execution_count": null,
   "id": "d34c3896-3f38-4a74-bcf5-81ef00dd3df4",
   "metadata": {},
   "outputs": [],
   "source": [
    "df = df.drop(['Years Experience','Years Experience Two'], axis=1)\n",
    "df.head()"
   ]
  },
  {
   "cell_type": "code",
   "execution_count": null,
   "id": "c0c8adc2-92d2-478e-bdb8-ed8b156cf84a",
   "metadata": {},
   "outputs": [],
   "source": [
    "df.to_csv('../Data/linkedin_job_posts_clean_ish.csv')"
   ]
  }
 ],
 "metadata": {
  "kernelspec": {
   "display_name": "Python [conda env:metis] *",
   "language": "python",
   "name": "conda-env-metis-py"
  },
  "language_info": {
   "codemirror_mode": {
    "name": "ipython",
    "version": 3
   },
   "file_extension": ".py",
   "mimetype": "text/x-python",
   "name": "python",
   "nbconvert_exporter": "python",
   "pygments_lexer": "ipython3",
   "version": "3.8.8"
  }
 },
 "nbformat": 4,
 "nbformat_minor": 5
}
