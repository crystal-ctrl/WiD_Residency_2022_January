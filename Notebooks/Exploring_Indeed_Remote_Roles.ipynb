{
 "cells": [
  {
   "cell_type": "code",
   "execution_count": 1,
   "id": "984e4efc",
   "metadata": {},
   "outputs": [],
   "source": [
    "import pandas as pd\n",
    "from matplotlib import pyplot as plt"
   ]
  },
  {
   "cell_type": "code",
   "execution_count": 2,
   "id": "6e202d79",
   "metadata": {},
   "outputs": [],
   "source": [
    "df = pd.read_csv('../Data/indeed_remote_jobs.csv')"
   ]
  },
  {
   "cell_type": "code",
   "execution_count": 3,
   "id": "69deb306",
   "metadata": {},
   "outputs": [
    {
     "data": {
      "text/plain": [
       "(6056, 4)"
      ]
     },
     "execution_count": 3,
     "metadata": {},
     "output_type": "execute_result"
    }
   ],
   "source": [
    "df.shape"
   ]
  },
  {
   "cell_type": "code",
   "execution_count": 6,
   "id": "a69a4e2e",
   "metadata": {},
   "outputs": [
    {
     "data": {
      "text/plain": [
       "(3122, 4)"
      ]
     },
     "execution_count": 6,
     "metadata": {},
     "output_type": "execute_result"
    }
   ],
   "source": [
    "totally_remote = df[df.location=='Remote'].copy()\n",
    "totally_remote.shape"
   ]
  },
  {
   "cell_type": "code",
   "execution_count": null,
   "id": "edb93e38",
   "metadata": {},
   "outputs": [],
   "source": []
  }
 ],
 "metadata": {
  "kernelspec": {
   "display_name": "Python 3",
   "language": "python",
   "name": "python3"
  },
  "language_info": {
   "codemirror_mode": {
    "name": "ipython",
    "version": 3
   },
   "file_extension": ".py",
   "mimetype": "text/x-python",
   "name": "python",
   "nbconvert_exporter": "python",
   "pygments_lexer": "ipython3",
   "version": "3.9.5"
  }
 },
 "nbformat": 4,
 "nbformat_minor": 5
}
